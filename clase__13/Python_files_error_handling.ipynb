{
  "cells": [
    {
      "cell_type": "markdown",
      "metadata": {
        "id": "view-in-github",
        "colab_type": "text"
      },
      "source": [
        "<a href=\"https://colab.research.google.com/github/Warspyt/PC_Python_2025II/blob/main/clase__13/Python_files_error_handling.ipynb\" target=\"_parent\"><img src=\"https://colab.research.google.com/assets/colab-badge.svg\" alt=\"Open In Colab\"/></a>"
      ]
    },
    {
      "cell_type": "markdown",
      "id": "efc4831f",
      "metadata": {
        "id": "efc4831f"
      },
      "source": [
        "# Curso de Programación de Computadores en Python\n",
        "## Entrada/Salida de Archivos y Manejo de Errores en Python\n",
        "#### Universidad Nacional de Colombia\n",
        "\n",
        "**Temas:**\n",
        "- File I/O: archivos de texto (TXT), CSV y TSV\n",
        "- Manejo de errores con `try` / `except`\n",
        "- Ejercicios prácticos de procesamiento de datos\n",
        "\n",
        "---\n",
        "\n",
        "## Objetivos\n",
        "\n",
        "- Aprender a leer y escribir archivos de texto, CSV y TSV en Python.\n",
        "- Conocer buenas prácticas de manejo de errores y uso de `with` para gestionar recursos.\n",
        "- Realizar ejercicios prácticos que combinen procesamiento de archivos y validación.\n",
        "- Mostrar un ejemplo práctico que use la API de OpenAI para generar texto y guardarlo en un archivo (ejemplo educativo; requiere clave de API).\n"
      ]
    },
    {
      "cell_type": "markdown",
      "id": "45ff86ba",
      "metadata": {
        "id": "45ff86ba"
      },
      "source": [
        "## 🔧 Cómo usar este notebook\n",
        "\n",
        "- Ejecuta las celdas de código con `Shift+Enter` en Google Colab.\n",
        "- Cada sección contiene explicación, ejemplos ejecutables, ejercicios (esqueletos) y soluciones de referencia.\n",
        "- Para la demo de OpenAI necesitarás configurar la variable de entorno `OPENAI_API_KEY` en Colab (no se incluye la clave aquí).\n",
        "\n",
        "¡Comencemos! 🚀\n"
      ]
    },
    {
      "cell_type": "markdown",
      "id": "52339bb6",
      "metadata": {
        "id": "52339bb6"
      },
      "source": [
        "## 🗂️ Contenido\n",
        "\n",
        "1. Archivos de texto (TXT)\n",
        "2. CSV y TSV con módulo `csv`\n",
        "3. Manejo de errores con `try/except` y context managers\n",
        "4. Ejercicios prácticos con archivos\n",
        "5. Ejemplo: Generar texto con OpenAI y guardarlo en un archivo\n",
        "6. Tips, recomendaciones y datos curiosos\n"
      ]
    },
    {
      "cell_type": "markdown",
      "id": "a501f6db",
      "metadata": {
        "id": "a501f6db"
      },
      "source": [
        "# 1️⃣ Archivos de texto (TXT)\n",
        "\n",
        "Los archivos de texto son la forma más sencilla de persistir información.\n",
        "\n"
      ]
    },
    {
      "cell_type": "markdown",
      "source": [
        "### Procedimiento"
      ],
      "metadata": {
        "id": "_5Ltz8as-e1x"
      },
      "id": "_5Ltz8as-e1x"
    },
    {
      "cell_type": "markdown",
      "source": [
        "* Los archivos `txt` son secuencias estructuradas de líneas de texto, y el protocolo de trabajo consiste en estos pasos:\n",
        "    1. Abrir el archivo en modo lectura, escritura, lectura-escritura o adición (`open(path, mode, encoding='utf-8')`).\n",
        "    2. Leer o escribir la información que se desee (Modos comunes: `'r'` lectura, `'w'` escritura (sobrescribe), `'a'` append, `'x'` crear exclusivo).\n",
        "    3. Cerrar el archivo de texto (Usa `with` para asegurar el cierre automático del archivo).\n",
        "* Para el caso de solo leer, primero debemos crear un archivo `txt` con cualquier editor. Si estamos en Colab, debemos subirlo en la sección de Archivos, pero si estamos en local, se debe ubicar en la misma carpeta del `.py` o `.ipynb`."
      ],
      "metadata": {
        "id": "pgQP4fwG0K1x"
      },
      "id": "pgQP4fwG0K1x"
    },
    {
      "cell_type": "code",
      "source": [
        "# Comando para crear un archivo .txt en Colab mismo\n",
        "!printf \"Esto es\\nun ejemplo de texto almacenado\\nen un fichero de texto.\\n\" >> ejemplo.txt\n",
        "\n",
        "# Eliminamos una carpeta innecesaria\n",
        "!rm -r .config/"
      ],
      "metadata": {
        "id": "krC3NUEQ2HQx"
      },
      "execution_count": null,
      "outputs": [],
      "id": "krC3NUEQ2HQx"
    },
    {
      "cell_type": "markdown",
      "source": [
        "### Lectura"
      ],
      "metadata": {
        "id": "2B3QnezZVh_n"
      },
      "id": "2B3QnezZVh_n"
    },
    {
      "cell_type": "markdown",
      "source": [
        "Para leer un archivo de texto, utilizamos la función `open()` en modo de lectura con el parámetro `\"r\"`:"
      ],
      "metadata": {
        "id": "5jTjUJxeTi2A"
      },
      "id": "5jTjUJxeTi2A"
    },
    {
      "cell_type": "code",
      "source": [
        "# Leemos el archivo\n",
        "archivo = open(\"ejemplo.txt\", \"r\")\n",
        "\n",
        "# Recorremos cada línea e imprimimos\n",
        "for linea in archivo:\n",
        "    print(linea)\n",
        "\n",
        "# Cierra el archivo\n",
        "archivo.close()"
      ],
      "metadata": {
        "colab": {
          "base_uri": "https://localhost:8080/"
        },
        "id": "IECkIEWovyh0",
        "outputId": "d05feb40-6165-4b70-944b-576505482e68"
      },
      "execution_count": null,
      "outputs": [
        {
          "output_type": "stream",
          "name": "stdout",
          "text": [
            "Esta es una línea.\n",
            "\n",
            "Segunda línea de ejemplo.\n",
            "\n",
            "Tercera línea.Esto es\n",
            "\n",
            "un ejemplo de texto almacenado\n",
            "\n",
            "en un fichero de texto.\n",
            "\n"
          ]
        }
      ],
      "id": "IECkIEWovyh0"
    },
    {
      "cell_type": "markdown",
      "source": [
        "Otra forma de realizarlo es mediante las palabras reservadas `with` y `as`, que nos evita cerrar el archivo:"
      ],
      "metadata": {
        "id": "Mc4nshAkYLot"
      },
      "id": "Mc4nshAkYLot"
    },
    {
      "cell_type": "code",
      "source": [
        "with open(\"ejemplo.txt\", \"r\") as archivo:\n",
        "    for linea in archivo:\n",
        "        print(linea)"
      ],
      "metadata": {
        "colab": {
          "base_uri": "https://localhost:8080/"
        },
        "id": "5NJ-YUTnWOoH",
        "outputId": "d7e4204d-3c9a-49db-a3e0-6efc79a73815"
      },
      "execution_count": null,
      "outputs": [
        {
          "output_type": "stream",
          "name": "stdout",
          "text": [
            "Esta es una línea.\n",
            "\n",
            "Segunda línea de ejemplo.\n",
            "\n",
            "Tercera línea.Esto es\n",
            "\n",
            "un ejemplo de texto almacenado\n",
            "\n",
            "en un fichero de texto.\n",
            "\n"
          ]
        }
      ],
      "id": "5NJ-YUTnWOoH"
    },
    {
      "cell_type": "markdown",
      "source": [
        "Y en lugar de utilizar un bucle para imprimir el contenido del archivo, podemos usar la función `read()`:"
      ],
      "metadata": {
        "id": "yUNX2OqeYple"
      },
      "id": "yUNX2OqeYple"
    },
    {
      "cell_type": "code",
      "source": [
        "with open(\"ejemplo.txt\", \"r\") as archivo:\n",
        "    print(archivo.read())"
      ],
      "metadata": {
        "colab": {
          "base_uri": "https://localhost:8080/"
        },
        "id": "MFFFyZLRYpBF",
        "outputId": "82e56ca2-d59e-40a9-c596-d78c4ac5bb8f"
      },
      "execution_count": null,
      "outputs": [
        {
          "output_type": "stream",
          "name": "stdout",
          "text": [
            "Esta es una línea.\n",
            "Segunda línea de ejemplo.\n",
            "Tercera línea.Esto es\n",
            "un ejemplo de texto almacenado\n",
            "en un fichero de texto.\n",
            "\n"
          ]
        }
      ],
      "id": "MFFFyZLRYpBF"
    },
    {
      "cell_type": "markdown",
      "source": [
        "Sin embargo, la función `read()` no retorna o permite recorrer por líneas, pero si permite obtener determinada sección del archivo:"
      ],
      "metadata": {
        "id": "KIypepTAa0vd"
      },
      "id": "KIypepTAa0vd"
    },
    {
      "cell_type": "code",
      "source": [
        "with open(\"ejemplo.txt\", \"r\") as archivo:\n",
        "    print(archivo.read(10)) # Se imprime los primeros 10 caracteres"
      ],
      "metadata": {
        "colab": {
          "base_uri": "https://localhost:8080/"
        },
        "outputId": "68cd4a81-2fd2-4fc2-e5b7-3cad3cac914e",
        "id": "AfW7qYLga0vi"
      },
      "execution_count": null,
      "outputs": [
        {
          "output_type": "stream",
          "name": "stdout",
          "text": [
            "Esta es un\n"
          ]
        }
      ],
      "id": "AfW7qYLga0vi"
    },
    {
      "cell_type": "markdown",
      "source": [
        "Pero también puede utilizar `readline()` para leer la primera línea antes de un salto de línea y `readlines()` para guardar todas las líneas en una lista:"
      ],
      "metadata": {
        "id": "G8IH8U0-vTTZ"
      },
      "id": "G8IH8U0-vTTZ"
    },
    {
      "cell_type": "code",
      "source": [
        "with open(\"ejemplo.txt\", \"r\") as archivo:\n",
        "    print(archivo.readline())"
      ],
      "metadata": {
        "colab": {
          "base_uri": "https://localhost:8080/"
        },
        "outputId": "d6e46f98-a464-4de4-f04c-b13a2f78abfb",
        "id": "B1i8QhtbvTTa"
      },
      "execution_count": null,
      "outputs": [
        {
          "output_type": "stream",
          "name": "stdout",
          "text": [
            "Esta es una línea.\n",
            "\n"
          ]
        }
      ],
      "id": "B1i8QhtbvTTa"
    },
    {
      "cell_type": "code",
      "source": [
        "with open(\"ejemplo.txt\", \"r\") as archivo:\n",
        "    lineas = archivo.readlines()\n",
        "    for linea in lineas:\n",
        "        print(linea)"
      ],
      "metadata": {
        "colab": {
          "base_uri": "https://localhost:8080/"
        },
        "id": "HgdhjLgnvuGt",
        "outputId": "36ce7ae4-229e-46e1-df31-174b78daa243"
      },
      "execution_count": null,
      "outputs": [
        {
          "output_type": "stream",
          "name": "stdout",
          "text": [
            "Esta es una línea.\n",
            "\n",
            "Segunda línea de ejemplo.\n",
            "\n",
            "Tercera línea.Esto es\n",
            "\n",
            "un ejemplo de texto almacenado\n",
            "\n",
            "en un fichero de texto.\n",
            "\n"
          ]
        }
      ],
      "id": "HgdhjLgnvuGt"
    },
    {
      "cell_type": "markdown",
      "source": [
        "Se debe aclarar que fuera de la sentencia `with-as`, el archivo ni su contenido pueden ser utilizados:"
      ],
      "metadata": {
        "id": "EEdhT16tZvsN"
      },
      "id": "EEdhT16tZvsN"
    },
    {
      "cell_type": "code",
      "source": [
        "with open(\"ejemplo.txt\", \"r\") as archivo:\n",
        "    print(archivo.read())\n",
        "\n",
        "# Intento fallido para obtener contenido del archivo\n",
        "contenido = archivo.read()"
      ],
      "metadata": {
        "colab": {
          "base_uri": "https://localhost:8080/",
          "height": 280
        },
        "outputId": "77390600-1f66-4b48-de42-6d2f81d80d5d",
        "id": "TSkcv1BGZvsP"
      },
      "execution_count": null,
      "outputs": [
        {
          "output_type": "stream",
          "name": "stdout",
          "text": [
            "Esta es una línea.\n",
            "Segunda línea de ejemplo.\n",
            "Tercera línea.Esto es\n",
            "un ejemplo de texto almacenado\n",
            "en un fichero de texto.\n",
            "\n"
          ]
        },
        {
          "output_type": "error",
          "ename": "ValueError",
          "evalue": "I/O operation on closed file.",
          "traceback": [
            "\u001b[0;31m---------------------------------------------------------------------------\u001b[0m",
            "\u001b[0;31mValueError\u001b[0m                                Traceback (most recent call last)",
            "\u001b[0;32m/tmp/ipython-input-3112216415.py\u001b[0m in \u001b[0;36m<cell line: 0>\u001b[0;34m()\u001b[0m\n\u001b[1;32m      3\u001b[0m \u001b[0;34m\u001b[0m\u001b[0m\n\u001b[1;32m      4\u001b[0m \u001b[0;31m# Intento fallido para obtener contenido del archivo\u001b[0m\u001b[0;34m\u001b[0m\u001b[0;34m\u001b[0m\u001b[0m\n\u001b[0;32m----> 5\u001b[0;31m \u001b[0mcontenido\u001b[0m \u001b[0;34m=\u001b[0m \u001b[0marchivo\u001b[0m\u001b[0;34m.\u001b[0m\u001b[0mread\u001b[0m\u001b[0;34m(\u001b[0m\u001b[0;34m)\u001b[0m\u001b[0;34m\u001b[0m\u001b[0;34m\u001b[0m\u001b[0m\n\u001b[0m",
            "\u001b[0;31mValueError\u001b[0m: I/O operation on closed file."
          ]
        }
      ],
      "id": "TSkcv1BGZvsP"
    },
    {
      "cell_type": "markdown",
      "source": [
        "Una forma de acceder a dicha información después del `with-as`, es mediante una variable:"
      ],
      "metadata": {
        "id": "Cuh4s66maNzR"
      },
      "id": "Cuh4s66maNzR"
    },
    {
      "cell_type": "code",
      "source": [
        "# Variable vacía\n",
        "contenido = None\n",
        "\n",
        "# Abrir archivo y almacenar\n",
        "with open(\"ejemplo.txt\", \"r\") as archivo:\n",
        "    contenido = archivo.read()\n",
        "\n",
        "# Imprimir contenido\n",
        "print(contenido)"
      ],
      "metadata": {
        "colab": {
          "base_uri": "https://localhost:8080/"
        },
        "outputId": "5fa88f81-29b2-429e-a8db-77ee7f0e95cb",
        "id": "qT4mRO49aNzS"
      },
      "execution_count": null,
      "outputs": [
        {
          "output_type": "stream",
          "name": "stdout",
          "text": [
            "Esta es una línea.\n",
            "Segunda línea de ejemplo.\n",
            "Tercera línea.Esto es\n",
            "un ejemplo de texto almacenado\n",
            "en un fichero de texto.\n",
            "\n"
          ]
        }
      ],
      "id": "qT4mRO49aNzS"
    },
    {
      "cell_type": "markdown",
      "source": [
        "### Escritura"
      ],
      "metadata": {
        "id": "5VQ8w9f7WP5m"
      },
      "id": "5VQ8w9f7WP5m"
    },
    {
      "cell_type": "markdown",
      "source": [
        "La escritura de un archivo, puede ser con un archivo existente o creando uno nuevo, utilizando el parámetro `\"w\"` en la función `open()`:"
      ],
      "metadata": {
        "id": "_eXAnSkP1k2g"
      },
      "id": "_eXAnSkP1k2g"
    },
    {
      "cell_type": "code",
      "source": [
        "# Cerrando manualmente el archivo\n",
        "archivo = open(\"hola_1.txt\", \"w\")\n",
        "\n",
        "archivo.write(\"hola :)\")\n",
        "\n",
        "archivo.close()"
      ],
      "metadata": {
        "id": "HmAafAY236Ow"
      },
      "execution_count": null,
      "outputs": [],
      "id": "HmAafAY236Ow"
    },
    {
      "cell_type": "code",
      "source": [
        "# Cerrando automáticamente el archivo\n",
        "with open(\"hola_2.txt\", \"w\") as archivo:\n",
        "    archivo.write(\"hola :)\")"
      ],
      "metadata": {
        "id": "psvYvjqO4TM4"
      },
      "execution_count": null,
      "outputs": [],
      "id": "psvYvjqO4TM4"
    },
    {
      "cell_type": "markdown",
      "source": [
        "Para escribir datos numéricos, estos deben ser convertidos a string, o por ejemplo, mediante _f-string_:"
      ],
      "metadata": {
        "id": "AQGPFIOR3ut4"
      },
      "id": "AQGPFIOR3ut4"
    },
    {
      "cell_type": "code",
      "source": [
        "# Cerrando manualmente el archivo\n",
        "archivo = open(\"cuadrados_1.txt\", \"w\")\n",
        "\n",
        "for i in range(100):\n",
        "    archivo.write(f\"{i} {i**2}\\n\")\n",
        "    #archivo.write(\"{0} {1}\\n\".format(i, i**2))\n",
        "    #archivo.write(str(i) + \" \" str(i**2) + \"\\n\")\n",
        "\n",
        "archivo.close()"
      ],
      "metadata": {
        "id": "4nMoX7SRWP5n"
      },
      "execution_count": null,
      "outputs": [],
      "id": "4nMoX7SRWP5n"
    },
    {
      "cell_type": "code",
      "source": [
        "# Cerrando automáticamente el archivo\n",
        "with open(\"cuadrados_2.txt\", \"w\") as archivo:\n",
        "    for i in range(100):\n",
        "        archivo.write(f\"{i} {i**2}\\n\")\n",
        "        #archivo.write(\"{0} {1}\\n\".format(i, i**2))\n",
        "        #archivo.write(str(i) + \" \" str(i**2) + \"\\n\")"
      ],
      "metadata": {
        "id": "dkFPU7mU3J8u"
      },
      "execution_count": null,
      "outputs": [],
      "id": "dkFPU7mU3J8u"
    },
    {
      "cell_type": "markdown",
      "source": [
        "También podemos agregar información a un archivo existente, mediante el parámetro `\"a+\"`:"
      ],
      "metadata": {
        "id": "ZEM8tInwUFxB"
      },
      "id": "ZEM8tInwUFxB"
    },
    {
      "cell_type": "code",
      "source": [
        "with open(\"ejemplo.txt\", \"a+\") as archivo:\n",
        "    archivo.write(\"NUEVA LÍNEA\")"
      ],
      "metadata": {
        "id": "3oiBr55FUQyi"
      },
      "execution_count": null,
      "outputs": [],
      "id": "3oiBr55FUQyi"
    },
    {
      "cell_type": "markdown",
      "source": [
        "Y aunque el parámetro `\"w\"` y `\"a+\"` crear el archivo si no existe, este se puede crear con `\"x\"`:"
      ],
      "metadata": {
        "id": "gN2jgdtlZAM4"
      },
      "id": "gN2jgdtlZAM4"
    },
    {
      "cell_type": "code",
      "source": [
        "with open(\"nuevo_ejemplo.txt\", \"x\") as archivo: # Si el archivo ya existe da error\n",
        "    archivo.write(\"NUEVO EJEMPLO\\n\")"
      ],
      "metadata": {
        "id": "EVZUQg7AY_M3"
      },
      "execution_count": null,
      "outputs": [],
      "id": "EVZUQg7AY_M3"
    },
    {
      "cell_type": "markdown",
      "source": [
        "* Por último, una función útil es `seek()`. Pero para entederla, primero veámos un ejemplo.\n",
        "* En este caso leemos el archivo completo y luego tratamos de obtener las 7 primeras posiciones, pero no se imprime nada:"
      ],
      "metadata": {
        "id": "FJApxzQCUQ5x"
      },
      "id": "FJApxzQCUQ5x"
    },
    {
      "cell_type": "code",
      "source": [
        "with open(\"ejemplo.txt\", \"r\") as archivo:\n",
        "    print(f\"--- Completo:\\n{archivo.read()}\\n\")\n",
        "    print(f\"--- Hasta posición 7: {archivo.read(7)}\")"
      ],
      "metadata": {
        "colab": {
          "base_uri": "https://localhost:8080/"
        },
        "id": "wP3B2V8KUYLJ",
        "outputId": "943a29c6-6fa9-4b29-e112-62ba7ae8917c"
      },
      "execution_count": null,
      "outputs": [
        {
          "output_type": "stream",
          "name": "stdout",
          "text": [
            "--- Completo:\n",
            "Esta es una línea.\n",
            "Segunda línea de ejemplo.\n",
            "Tercera línea.Esto es\n",
            "un ejemplo de texto almacenado\n",
            "en un fichero de texto.\n",
            "NUEVA LÍNEA\n",
            "\n",
            "--- Hasta posición 7: \n"
          ]
        }
      ],
      "id": "wP3B2V8KUYLJ"
    },
    {
      "cell_type": "markdown",
      "source": [
        "Para eso debemos retroceder hasta el inicio, ya que en el primer `.read()` se llegó al final del archivo. Así que usamos la función `seek()` y usamos `open()` en modo `\"a+\"`:"
      ],
      "metadata": {
        "id": "u3RjqYCFWTy7"
      },
      "id": "u3RjqYCFWTy7"
    },
    {
      "cell_type": "code",
      "source": [
        "with open(\"ejemplo.txt\", \"a+\") as archivo:\n",
        "    archivo.seek(0) # Colocamos cursor al inicio\n",
        "    print(f\"--- Original:\\n{archivo.read()}\\n\")\n",
        "\n",
        "    archivo.write(\"UNA NUEVA LÍNEA\\n\")\n",
        "    archivo.seek(0) # Volvemos hasta el inicio\n",
        "    print(f\"--- Con nueva línea:\\n{archivo.read()}\\n\")\n",
        "\n",
        "    archivo.write(\"OTRA NUEVA LÍNEA\\n\")\n",
        "    archivo.seek(0) # Volvemos hasta el inicio\n",
        "    print(f\"--- Con otra nueva línea:\\n{archivo.read()}\")"
      ],
      "metadata": {
        "colab": {
          "base_uri": "https://localhost:8080/"
        },
        "id": "cmoaqB9qWjMB",
        "outputId": "31e61e34-159c-41cf-dacd-780dd469ed52"
      },
      "execution_count": null,
      "outputs": [
        {
          "output_type": "stream",
          "name": "stdout",
          "text": [
            "--- Original:\n",
            "Esta es una línea.\n",
            "Segunda línea de ejemplo.\n",
            "Tercera línea.Esto es\n",
            "un ejemplo de texto almacenado\n",
            "en un fichero de texto.\n",
            "NUEVA LÍNEA\n",
            "\n",
            "--- Con nueva línea:\n",
            "Esta es una línea.\n",
            "Segunda línea de ejemplo.\n",
            "Tercera línea.Esto es\n",
            "un ejemplo de texto almacenado\n",
            "en un fichero de texto.\n",
            "NUEVA LÍNEAUNA NUEVA LÍNEA\n",
            "\n",
            "\n",
            "--- Con otra nueva línea:\n",
            "Esta es una línea.\n",
            "Segunda línea de ejemplo.\n",
            "Tercera línea.Esto es\n",
            "un ejemplo de texto almacenado\n",
            "en un fichero de texto.\n",
            "NUEVA LÍNEAUNA NUEVA LÍNEA\n",
            "OTRA NUEVA LÍNEA\n",
            "\n"
          ]
        }
      ],
      "id": "cmoaqB9qWjMB"
    },
    {
      "cell_type": "code",
      "execution_count": null,
      "id": "fd430eb3",
      "metadata": {
        "colab": {
          "base_uri": "https://localhost:8080/"
        },
        "id": "fd430eb3",
        "outputId": "3f06b2b3-cab5-4edc-d5bb-ecf54786737a"
      },
      "outputs": [
        {
          "output_type": "stream",
          "name": "stdout",
          "text": [
            "Contenido leído:\n",
            "Esta es una línea.\n",
            "Segunda línea de ejemplo.\n",
            "Tercera línea.\n",
            "\n",
            "Lectura por líneas:\n",
            "1 Esta es una línea.\n",
            "2 Segunda línea de ejemplo.\n",
            "3 Tercera línea.\n"
          ]
        }
      ],
      "source": [
        "# Ejemplo: escribir y leer un archivo de texto\n",
        "texto = \"\"\"Esta es una línea.\n",
        "Segunda línea de ejemplo.\n",
        "Tercera línea.\"\"\"\n",
        "\n",
        "# Escribir\n",
        "with open('ejemplo.txt', 'w', encoding='utf-8') as f:\n",
        "    f.write(texto)\n",
        "\n",
        "# Leer todo el contenido\n",
        "with open('ejemplo.txt', 'r', encoding='utf-8') as f:\n",
        "    contenido = f.read()\n",
        "\n",
        "print('Contenido leído:')\n",
        "print(contenido)\n",
        "\n",
        "# Leer línea por línea\n",
        "print('\\nLectura por líneas:')\n",
        "with open('ejemplo.txt', 'r', encoding='utf-8') as f:\n",
        "    for i, linea in enumerate(f, 1):\n",
        "        print(i, linea.strip())\n"
      ]
    },
    {
      "cell_type": "markdown",
      "id": "c3acda2a",
      "metadata": {
        "id": "c3acda2a"
      },
      "source": [
        "# 2️⃣ CSV y TSV con el módulo `csv`\n",
        "\n",
        "El módulo `csv` de la librería estándar es ideal para leer y escribir datos tabulares.\n",
        "\n",
        "- `csv.reader` para leer filas.\n",
        "- `csv.writer` para escribir filas.\n",
        "- Parámetro `delimiter` para especificar separador (`,` para CSV, `\\t` para TSV).\n",
        "- Es buena práctica abrir archivos con `newline=''` al usar `csv` en Python.\n"
      ]
    },
    {
      "cell_type": "markdown",
      "source": [
        "### Definición"
      ],
      "metadata": {
        "id": "1y6rhIzHphxB"
      },
      "id": "1y6rhIzHphxB"
    },
    {
      "cell_type": "markdown",
      "source": [
        "* Un `csv` _(comma separated values)_ es un formato de archivo para almacenar datos tabulados separados por comas, como por ejemplo hojas de cálculo o bases de datos. Así mismo, un `tsv` _(tab separated values)_, es similar pero se diferencia en la utilización de tabulaciones `tab` en lugar de comas.\n",
        "* El procedimiento para ambos casos es el mismo que con los archivos de texto y se requiere la librería `csv`:\n",
        "    1. Abrir el archivo en modo lectura, escritura, lectura-escritura o adición.\n",
        "    2. Leer o escribir la información que se desee.\n",
        "    3. Cerrar el archivo de texto.\n",
        "* En el caso de Colab, existen varios archivos `csv` que podemos ver en la carpeta `sample_data`:"
      ],
      "metadata": {
        "id": "PXQX9WS3Fgce"
      },
      "id": "PXQX9WS3Fgce"
    },
    {
      "cell_type": "code",
      "source": [
        "!ls sample_data/*.csv"
      ],
      "metadata": {
        "colab": {
          "base_uri": "https://localhost:8080/"
        },
        "id": "WroGRH60phQ-",
        "outputId": "cf2a1163-f757-45fc-e5ab-baa7eaab8134"
      },
      "execution_count": null,
      "outputs": [
        {
          "output_type": "stream",
          "name": "stdout",
          "text": [
            "sample_data/california_housing_test.csv   sample_data/mnist_test.csv\n",
            "sample_data/california_housing_train.csv  sample_data/mnist_train_small.csv\n"
          ]
        }
      ],
      "id": "WroGRH60phQ-"
    },
    {
      "cell_type": "markdown",
      "source": [
        "Como solo hay archivos `csv` realizamos la conversión a `tsv`:"
      ],
      "metadata": {
        "id": "y282doENxm2P"
      },
      "id": "y282doENxm2P"
    },
    {
      "cell_type": "code",
      "source": [
        "!for file in sample_data/*.csv;do tr ',' '\\t' < \"$file\" > \"${file%.csv}.tsv\"; done"
      ],
      "metadata": {
        "id": "NmORJnYCxrkY"
      },
      "execution_count": null,
      "outputs": [],
      "id": "NmORJnYCxrkY"
    },
    {
      "cell_type": "markdown",
      "source": [
        "Pero son muy extensos, así que creemos unos que podamos utilizar fácilmente:"
      ],
      "metadata": {
        "id": "XBZfSGROz7dO"
      },
      "id": "XBZfSGROz7dO"
    },
    {
      "cell_type": "code",
      "source": [
        "# Comando para crear un archivo .csv en Colab mismo\n",
        "!printf \"tipo,producto,precio\\nfruta,banano,3780\\nfruta,mango,5780\\nverdura,cebolla,3300\\nverdura,zanahoria,3300\\n\" >> frutas.csv\n",
        "\n",
        "# Convertir csv a tsv\n",
        "!tr ',' '\\t' < frutas.csv > frutas.tsv"
      ],
      "metadata": {
        "id": "bo9QdRQM0E2P"
      },
      "execution_count": null,
      "outputs": [],
      "id": "bo9QdRQM0E2P"
    },
    {
      "cell_type": "markdown",
      "source": [
        "### Lectura"
      ],
      "metadata": {
        "id": "8AwQA8FOv9SW"
      },
      "id": "8AwQA8FOv9SW"
    },
    {
      "cell_type": "markdown",
      "source": [
        "Primero importamos la librería `csv`:"
      ],
      "metadata": {
        "id": "cdBMdDuzxIjd"
      },
      "id": "cdBMdDuzxIjd"
    },
    {
      "cell_type": "code",
      "source": [
        "import csv"
      ],
      "metadata": {
        "id": "5ndZoE3KwA-e"
      },
      "execution_count": null,
      "outputs": [],
      "id": "5ndZoE3KwA-e"
    },
    {
      "cell_type": "markdown",
      "source": [
        "Luego, con lo visto en la sección de _Archivos de texto_ podemos leer un archivo `csv` o `tsv`:"
      ],
      "metadata": {
        "id": "wfSE79EPxMws"
      },
      "id": "wfSE79EPxMws"
    },
    {
      "cell_type": "code",
      "source": [
        "with open(\"frutas.csv\", \"r\") as archivo_csv:\n",
        "    lector_csv = csv.reader(archivo_csv, delimiter=\",\")\n",
        "    for fila in lector_csv:\n",
        "        print((fila))"
      ],
      "metadata": {
        "id": "TYWohQp9xM2V",
        "colab": {
          "base_uri": "https://localhost:8080/"
        },
        "outputId": "4fc1a0b6-314f-4e57-ad3b-e26b7abdc71c"
      },
      "execution_count": null,
      "outputs": [
        {
          "output_type": "stream",
          "name": "stdout",
          "text": [
            "['tipo', 'producto', 'precio']\n",
            "['fruta', 'banano', '3780']\n",
            "['fruta', 'mango', '5780']\n",
            "['verdura', 'cebolla', '3300']\n",
            "['verdura', 'zanahoria', '3300']\n"
          ]
        }
      ],
      "id": "TYWohQp9xM2V"
    },
    {
      "cell_type": "code",
      "source": [
        "with open(\"frutas.tsv\", \"r\") as archivo_tsv:\n",
        "    lector_tsv = csv.reader(archivo_tsv, delimiter=\"\\t\")\n",
        "    for fila in lector_tsv:\n",
        "        print(\" \".join(fila))"
      ],
      "metadata": {
        "colab": {
          "base_uri": "https://localhost:8080/"
        },
        "id": "WkzVJP643JyE",
        "outputId": "3e5df5fe-83ed-4150-db5f-e482bb7b8eb1"
      },
      "execution_count": null,
      "outputs": [
        {
          "output_type": "stream",
          "name": "stdout",
          "text": [
            "tipo producto precio\n",
            "fruta banano 3780\n",
            "fruta mango 5780\n",
            "verdura cebolla 3300\n",
            "verdura zanahoria 3300\n"
          ]
        }
      ],
      "id": "WkzVJP643JyE"
    },
    {
      "cell_type": "markdown",
      "source": [
        "Si queremos obtener los nombres de las columnas, lo hacemos mediante `next()`:"
      ],
      "metadata": {
        "id": "dCXnVRA-73vn"
      },
      "id": "dCXnVRA-73vn"
    },
    {
      "cell_type": "code",
      "source": [
        "with open(\"frutas.csv\", \"r\") as archivo_csv:\n",
        "    lector_csv = csv.reader(archivo_csv, delimiter=\",\")\n",
        "    columnas = next(lector_csv)\n",
        "    print(columnas)"
      ],
      "metadata": {
        "colab": {
          "base_uri": "https://localhost:8080/"
        },
        "id": "rYc1arZR79hE",
        "outputId": "41775510-a689-4eeb-ec19-8460368a3206"
      },
      "execution_count": null,
      "outputs": [
        {
          "output_type": "stream",
          "name": "stdout",
          "text": [
            "['tipo', 'producto', 'precio']\n"
          ]
        }
      ],
      "id": "rYc1arZR79hE"
    },
    {
      "cell_type": "code",
      "source": [
        "with open(\"frutas.tsv\", \"r\") as archivo_tsv:\n",
        "    lector_tsv = csv.reader(archivo_tsv, delimiter=\"\\t\")\n",
        "    columnas = next(lector_tsv)\n",
        "    print(columnas)"
      ],
      "metadata": {
        "colab": {
          "base_uri": "https://localhost:8080/"
        },
        "id": "mTHpl_ix79jR",
        "outputId": "97c73d37-b836-42d3-a5f1-6bbff4d977fd"
      },
      "execution_count": null,
      "outputs": [
        {
          "output_type": "stream",
          "name": "stdout",
          "text": [
            "['tipo', 'producto', 'precio']\n"
          ]
        }
      ],
      "id": "mTHpl_ix79jR"
    },
    {
      "cell_type": "markdown",
      "source": [
        "También se puede almacenar ambos archivos en un diccionario usando la función `DictReader()` de la librería `csv`:"
      ],
      "metadata": {
        "id": "n2SQ6zjO8LvC"
      },
      "id": "n2SQ6zjO8LvC"
    },
    {
      "cell_type": "code",
      "source": [
        "lista_dict = []\n",
        "\n",
        "with open(\"frutas.csv\", \"r\") as archivo_csv:\n",
        "    dict_csv = csv.DictReader(archivo_csv, delimiter=\",\")\n",
        "    lista_dict = list(dict_csv)\n",
        "\n",
        "for d in lista_dict:\n",
        "    print(d)"
      ],
      "metadata": {
        "colab": {
          "base_uri": "https://localhost:8080/"
        },
        "id": "p0b0crqX8Q-1",
        "outputId": "5b126897-ac9d-4286-a1db-d8b39ae85795"
      },
      "execution_count": null,
      "outputs": [
        {
          "output_type": "stream",
          "name": "stdout",
          "text": [
            "{'tipo': 'fruta', 'producto': 'banano', 'precio': '3780'}\n",
            "{'tipo': 'fruta', 'producto': 'mango', 'precio': '5780'}\n",
            "{'tipo': 'verdura', 'producto': 'cebolla', 'precio': '3300'}\n",
            "{'tipo': 'verdura', 'producto': 'zanahoria', 'precio': '3300'}\n"
          ]
        }
      ],
      "id": "p0b0crqX8Q-1"
    },
    {
      "cell_type": "code",
      "source": [
        "lista_dict_2 = []\n",
        "\n",
        "with open(\"frutas.tsv\", \"r\") as archivo_tsv:\n",
        "    dict_tsv = csv.DictReader(archivo_tsv, delimiter=\"\\t\")\n",
        "    lista_dict_2 = list(dict_tsv)\n",
        "\n",
        "for d in lista_dict_2:\n",
        "    print(d)"
      ],
      "metadata": {
        "colab": {
          "base_uri": "https://localhost:8080/"
        },
        "id": "7SLe4O7n8RBN",
        "outputId": "859c2c9e-de12-41fb-96ef-b159ca399b4d"
      },
      "execution_count": null,
      "outputs": [
        {
          "output_type": "stream",
          "name": "stdout",
          "text": [
            "{'tipo': 'fruta', 'producto': 'banano', 'precio': '3780'}\n",
            "{'tipo': 'fruta', 'producto': 'mango', 'precio': '5780'}\n",
            "{'tipo': 'verdura', 'producto': 'cebolla', 'precio': '3300'}\n",
            "{'tipo': 'verdura', 'producto': 'zanahoria', 'precio': '3300'}\n"
          ]
        }
      ],
      "id": "7SLe4O7n8RBN"
    },
    {
      "cell_type": "markdown",
      "source": [
        "### Escritura"
      ],
      "metadata": {
        "id": "a3J5yHLmwBiF"
      },
      "id": "a3J5yHLmwBiF"
    },
    {
      "cell_type": "markdown",
      "source": [
        "Para realizar la lectura de archivos `csv` o `tsv` se realiza mediante listas o diccionarios. Veámos un ejemplo con listas:"
      ],
      "metadata": {
        "id": "AUIw-hy2BWPi"
      },
      "id": "AUIw-hy2BWPi"
    },
    {
      "cell_type": "code",
      "source": [
        "# Datos para el csv\n",
        "nom_columnas = [\"tipo\", \"producto\", \"precio\"]\n",
        "frutas = [[\"fruta\", \"banano\", 3780],\n",
        "          [\"fruta\", \"mango\", 5780],\n",
        "          [\"verdura\", \"cebolla\", 3300],\n",
        "          [\"verdura\", \"zanahoria\", 3300]]\n",
        "\n",
        "# Escritura del csv\n",
        "with open(\"frutas_2.csv\", \"w\") as archivo_csv: # Podemos usar \"x\" para crear el archivo si no existe\n",
        "    # Objeto para escribir csv\n",
        "    escritura_csv = csv.writer(archivo_csv, delimiter=\",\")\n",
        "\n",
        "    # Escribir los nombres de las columnas\n",
        "    escritura_csv.writerow(nom_columnas)\n",
        "\n",
        "    # Escribir la info de las frutas\n",
        "    escritura_csv.writerows(frutas)"
      ],
      "metadata": {
        "id": "DapGQjWPwBiI"
      },
      "execution_count": null,
      "outputs": [],
      "id": "DapGQjWPwBiI"
    },
    {
      "cell_type": "markdown",
      "source": [
        "Ahora con diccionarios (i.e. lista de diccionarios):"
      ],
      "metadata": {
        "id": "vE3ReE-nBim0"
      },
      "id": "vE3ReE-nBim0"
    },
    {
      "cell_type": "code",
      "source": [
        "# Datos para el csv\n",
        "nom_columnas = [\"tipo\", \"producto\", \"precio\"]\n",
        "frutas = [{\"tipo\": \"fruta\", \"producto\": \"banano\", \"precio\": 3780},\n",
        "          {\"tipo\": \"fruta\", \"producto\": \"mango\", \"precio\": 5780},\n",
        "          {\"tipo\": \"verdura\", \"producto\": \"cebolla\", \"precio\": 3300},\n",
        "          {\"tipo\": \"verdura\", \"producto\": \"zanahoria\", \"precio\": 3300}]\n",
        "\n",
        "# Escritura del csv\n",
        "with open(\"frutas_3.csv\", \"w\") as archivo_csv: # Podemos usar \"x\" para crear el archivo si no existe\n",
        "    # Objeto para escribir csv\n",
        "    escritura_csv = csv.DictWriter(archivo_csv, fieldnames=nom_columnas, delimiter=\",\")\n",
        "\n",
        "    # Escribir los nombres de las columnas\n",
        "    escritura_csv.writeheader()\n",
        "\n",
        "    # Escribir la info de las frutas\n",
        "    escritura_csv.writerows(frutas)"
      ],
      "metadata": {
        "id": "Lx1LDOcRBiID"
      },
      "execution_count": null,
      "outputs": [],
      "id": "Lx1LDOcRBiID"
    },
    {
      "cell_type": "markdown",
      "source": [
        "Para el caso de un `tsv` basta con utilizar el parámetro `delimiter=\"\\t\"` y cambiar la extensión con el que se guardará el archivo:"
      ],
      "metadata": {
        "id": "3lLhJVjsE11U"
      },
      "id": "3lLhJVjsE11U"
    },
    {
      "cell_type": "code",
      "source": [
        "# Datos para el csv\n",
        "nom_columnas = [\"tipo\", \"producto\", \"precio\"]\n",
        "frutas = [[\"fruta\", \"banano\", 3780],\n",
        "          [\"fruta\", \"mango\", 5780],\n",
        "          [\"verdura\", \"cebolla\", 3300],\n",
        "          [\"verdura\", \"zanahoria\", 3300]]\n",
        "\n",
        "# Escritura del csv\n",
        "with open(\"frutas_2.tsv\", \"w\") as archivo_tsv: # Podemos usar \"x\" para crear el archivo si no existe\n",
        "    # Objeto para escribir tsv\n",
        "    escritura_tsv = csv.writer(archivo_tsv, delimiter=\"\\t\")\n",
        "\n",
        "    # Escribir los nombres de las columnas\n",
        "    escritura_tsv.writerow(nom_columnas)\n",
        "\n",
        "    # Escribir la info de las frutas\n",
        "    escritura_tsv.writerows(frutas)"
      ],
      "metadata": {
        "id": "KtCWuuuGE1Mt"
      },
      "execution_count": null,
      "outputs": [],
      "id": "KtCWuuuGE1Mt"
    },
    {
      "cell_type": "code",
      "source": [
        "# Datos para el csv\n",
        "nom_columnas = [\"tipo\", \"producto\", \"precio\"]\n",
        "frutas = [{\"tipo\": \"fruta\", \"producto\": \"banano\", \"precio\": 3780},\n",
        "          {\"tipo\": \"fruta\", \"producto\": \"mango\", \"precio\": 5780},\n",
        "          {\"tipo\": \"verdura\", \"producto\": \"cebolla\", \"precio\": 3300},\n",
        "          {\"tipo\": \"verdura\", \"producto\": \"zanahoria\", \"precio\": 3300}]\n",
        "\n",
        "# Escritura del csv\n",
        "with open(\"frutas_3.tsv\", \"w\") as archivo_tsv: # Podemos usar \"x\" para crear el archivo si no existe\n",
        "    # Objeto para escribir tsv\n",
        "    escritura_tsv = csv.DictWriter(archivo_tsv, fieldnames=nom_columnas, delimiter=\"\\t\")\n",
        "\n",
        "    # Escribir los nombres de las columnas\n",
        "    escritura_tsv.writeheader()\n",
        "\n",
        "    # Escribir la info de las frutas\n",
        "    escritura_tsv.writerows(frutas)"
      ],
      "metadata": {
        "id": "_vqt9iFSFPMv"
      },
      "execution_count": null,
      "outputs": [],
      "id": "_vqt9iFSFPMv"
    },
    {
      "cell_type": "markdown",
      "source": [
        "### Nombres y rutas"
      ],
      "metadata": {
        "id": "8pBEhuW9WRrt"
      },
      "id": "8pBEhuW9WRrt"
    },
    {
      "cell_type": "markdown",
      "source": [
        "* Cuando trabajamos con múltiples archivos, debemos conocer y manejar diferentes nombres y rutas de nuestro sistema de archivos.\n",
        "* En sistemas operativos GNU/Linux y *BSD (como Colab) podemos utilizar el comando `ls`, que en versiones reciente de Windows funciona (si no, con `dir`)."
      ],
      "metadata": {
        "id": "Q7YDNsO7g0HQ"
      },
      "id": "Q7YDNsO7g0HQ"
    },
    {
      "cell_type": "code",
      "source": [
        "!ls"
      ],
      "metadata": {
        "colab": {
          "base_uri": "https://localhost:8080/"
        },
        "id": "Jqr2LRzWiaqq",
        "outputId": "4ccbda6b-083c-41a6-bc3e-98e49bb6ee76"
      },
      "execution_count": null,
      "outputs": [
        {
          "output_type": "stream",
          "name": "stdout",
          "text": [
            "cuadrados_1.txt  frutas_2.tsv  frutas.tsv  nuevo_ejemplo.txt  sample_data\n",
            "cuadrados_2.txt  frutas_3.tsv  hola_1.txt  personas.csv\n",
            "ejemplo.txt\t frutas.csv    hola_2.txt  personas.tsv\n"
          ]
        }
      ],
      "id": "Jqr2LRzWiaqq"
    },
    {
      "cell_type": "markdown",
      "source": [
        "En el caso de Python podemos utilizar la librería `os`:"
      ],
      "metadata": {
        "id": "jvaMTk9piJuB"
      },
      "id": "jvaMTk9piJuB"
    },
    {
      "cell_type": "code",
      "source": [
        "# Importar librería\n",
        "import os"
      ],
      "metadata": {
        "id": "cdOf2Rr2WRru"
      },
      "execution_count": null,
      "outputs": [],
      "id": "cdOf2Rr2WRru"
    },
    {
      "cell_type": "markdown",
      "source": [
        "Para comprobar, por ejemplo, en qué directorio (carpeta) nos encontramos:"
      ],
      "metadata": {
        "id": "5hpNzwgvhNFx"
      },
      "id": "5hpNzwgvhNFx"
    },
    {
      "cell_type": "code",
      "source": [
        "os.getcwd()"
      ],
      "metadata": {
        "colab": {
          "base_uri": "https://localhost:8080/",
          "height": 36
        },
        "id": "Z41jjC6phTSx",
        "outputId": "e62c8e5a-948b-41d7-ecdd-8b94a35ff68b"
      },
      "execution_count": null,
      "outputs": [
        {
          "output_type": "execute_result",
          "data": {
            "text/plain": [
              "'/content'"
            ],
            "application/vnd.google.colaboratory.intrinsic+json": {
              "type": "string"
            }
          },
          "metadata": {},
          "execution_count": 32
        }
      ],
      "id": "Z41jjC6phTSx"
    },
    {
      "cell_type": "markdown",
      "source": [
        "Comprobar si un archivo existe y su ruta absoluta:"
      ],
      "metadata": {
        "id": "5zju9N20hhTN"
      },
      "id": "5zju9N20hhTN"
    },
    {
      "cell_type": "code",
      "source": [
        "print(f\"¿Existe el archivo?: {os.path.exists('ejemplooo.txt')}\")\n",
        "print(f\"¿Cuál ruta tiene?: {os.path.abspath('ejemplooo.txt')}\")"
      ],
      "metadata": {
        "colab": {
          "base_uri": "https://localhost:8080/"
        },
        "id": "SEvVTqREhlzf",
        "outputId": "2cff9ce2-78c7-4d74-c8f9-53b93113426c"
      },
      "execution_count": null,
      "outputs": [
        {
          "output_type": "stream",
          "name": "stdout",
          "text": [
            "¿Existe el archivo?: False\n",
            "¿Cuál ruta tiene?: /content/ejemplooo.txt\n"
          ]
        }
      ],
      "id": "SEvVTqREhlzf"
    },
    {
      "cell_type": "markdown",
      "source": [
        "También si queremos comprobar la existencia de un directorio:"
      ],
      "metadata": {
        "id": "mrTTeMyah-J6"
      },
      "id": "mrTTeMyah-J6"
    },
    {
      "cell_type": "code",
      "source": [
        "os.path.isdir(\"ejemplo.txt\")"
      ],
      "metadata": {
        "colab": {
          "base_uri": "https://localhost:8080/"
        },
        "id": "vMHyfs1riEAx",
        "outputId": "116abf3e-6a7d-42d5-9b69-c9024a8ade9d"
      },
      "execution_count": null,
      "outputs": [
        {
          "output_type": "execute_result",
          "data": {
            "text/plain": [
              "False"
            ]
          },
          "metadata": {},
          "execution_count": 31
        }
      ],
      "id": "vMHyfs1riEAx"
    },
    {
      "cell_type": "code",
      "source": [
        "os.path.isdir(\"sample_data\")"
      ],
      "metadata": {
        "colab": {
          "base_uri": "https://localhost:8080/"
        },
        "id": "HICeqTBFitNp",
        "outputId": "1891b4f0-c276-4862-f866-cede822e8235"
      },
      "execution_count": null,
      "outputs": [
        {
          "output_type": "execute_result",
          "data": {
            "text/plain": [
              "True"
            ]
          },
          "metadata": {},
          "execution_count": 32
        }
      ],
      "id": "HICeqTBFitNp"
    },
    {
      "cell_type": "markdown",
      "source": [
        "Y podemos almacenar los nombres de archivos y directorios:"
      ],
      "metadata": {
        "id": "f2p6fN3UixKR"
      },
      "id": "f2p6fN3UixKR"
    },
    {
      "cell_type": "code",
      "source": [
        "carpeta_raiz = os.getcwd()\n",
        "lista_de_directorio = os.listdir(carpeta_raiz)\n",
        "print(lista_de_directorio)"
      ],
      "metadata": {
        "colab": {
          "base_uri": "https://localhost:8080/"
        },
        "id": "uF_M1Hazi3po",
        "outputId": "1450fbd8-4d15-4e66-8136-1e81dbd2cb80"
      },
      "execution_count": null,
      "outputs": [
        {
          "output_type": "stream",
          "name": "stdout",
          "text": [
            "['frutas_2.csv', 'frutas_3.tsv', 'sample_data', 'frutas.csv', 'frutas_2.tsv', 'hola_2.txt', 'ejemplo.txt', 'nuevo_ejemplo.txt', 'frutas_3.csv', 'cuadrados_2.txt', 'cuadrados_1.txt', 'hola_1.txt', 'frutas.tsv']\n"
          ]
        }
      ],
      "id": "uF_M1Hazi3po"
    },
    {
      "cell_type": "markdown",
      "source": [
        "Con todo eso, podemos definir, una función para recorrer un directorio:"
      ],
      "metadata": {
        "id": "4441-ZdPjGOU"
      },
      "id": "4441-ZdPjGOU"
    },
    {
      "cell_type": "code",
      "source": [
        "def recorrer(directorio):\n",
        "    for nombre in os.listdir(directorio):\n",
        "        ruta = os.path.join(directorio, nombre)\n",
        "        if os.path.isfile(ruta):\n",
        "            print(ruta)\n",
        "        else:\n",
        "            recorrer(ruta)"
      ],
      "metadata": {
        "id": "Guy9lMKhjKPA"
      },
      "execution_count": null,
      "outputs": [],
      "id": "Guy9lMKhjKPA"
    },
    {
      "cell_type": "code",
      "source": [
        "recorrer(os.getcwd())"
      ],
      "metadata": {
        "colab": {
          "base_uri": "https://localhost:8080/"
        },
        "id": "9ttfGPNcjR4H",
        "outputId": "f0a235e6-1777-4ad5-d209-e9399cdaa3e0"
      },
      "execution_count": null,
      "outputs": [
        {
          "output_type": "stream",
          "name": "stdout",
          "text": [
            "/content/personas.csv\n",
            "/content/ejemplo.txt\n",
            "/content/frutas_2.tsv\n",
            "/content/cuadrados_2.txt\n",
            "/content/hola_2.txt\n",
            "/content/sample_data/README.md\n",
            "/content/sample_data/anscombe.json\n",
            "/content/sample_data/mnist_train_small.tsv\n",
            "/content/sample_data/california_housing_test.tsv\n",
            "/content/sample_data/california_housing_train.tsv\n",
            "/content/sample_data/mnist_test.tsv\n",
            "/content/sample_data/california_housing_test.csv\n",
            "/content/sample_data/california_housing_train.csv\n",
            "/content/sample_data/mnist_test.csv\n",
            "/content/sample_data/mnist_train_small.csv\n",
            "/content/personas.tsv\n",
            "/content/hola_1.txt\n",
            "/content/nuevo_ejemplo.txt\n",
            "/content/frutas.tsv\n",
            "/content/cuadrados_1.txt\n",
            "/content/frutas_3.tsv\n",
            "/content/frutas.csv\n"
          ]
        }
      ],
      "id": "9ttfGPNcjR4H"
    },
    {
      "cell_type": "markdown",
      "id": "39e726d2",
      "metadata": {
        "id": "39e726d2"
      },
      "source": [
        "# 3️⃣ Manejo de errores con `try` / `except`\n",
        "\n",
        "\n"
      ]
    },
    {
      "cell_type": "markdown",
      "source": [
        "* Las excepciones no son de uso exclusivo para el manejo de archivos, sin embargo, resultan más útiles en este caso dado que  se requiere cargar datos externos.\n",
        "* Estas se componen de dos palabras claves, siendo `try` y `except` y permiten también la visualización de varios tipos de errores como:\n",
        "\n",
        "| Nombre            | Descripción corta                            |\n",
        "|-------------------|----------------------------------------------|\n",
        "|`EOFError`         |Fin de archivo inesperado durante una entrada |\n",
        "|`ImportError`      |Falla la importación de un módulo             |\n",
        "|`IOError`          |Error en una operación de entrada/salida (I/O)|\n",
        "|`KeyboardInterrupt`|El usuario interrumpe la ejecución (Ctrl+C).  |\n",
        "|`NameError`        |Se usa una variable o nombre que no existe.   |\n",
        "|`OSError`          |Error relacionado con el sistema operativo.   |\n",
        "|`RuntimeError`     |Error genérico que no encaja en otra categoría|\n",
        "|`TypeError`        |Operación usada en un tipo de dato incorrecto.|\n",
        "|`ValueError`       |El tipo del dato es correcto, pero su valor no|\n",
        "|`ZeroDivisionError`|Intento de división o módulo por cero.        |\n"
      ],
      "metadata": {
        "id": "fUOwF941Fy_x"
      },
      "id": "fUOwF941Fy_x"
    },
    {
      "cell_type": "markdown",
      "source": [
        "Pero veámos un ejemplo sencillo para leer un archivo `txt`:"
      ],
      "metadata": {
        "id": "14GVipAPRHa-"
      },
      "id": "14GVipAPRHa-"
    },
    {
      "cell_type": "code",
      "source": [
        "nombre = str(input(\"Ingresa el nombre del archivo con extensión: \"))\n",
        "try:\n",
        "    with open(nombre, \"r\") as archivo:\n",
        "        print(archivo.read())\n",
        "except:\n",
        "    print(\"El archivo no existe :'(\")"
      ],
      "metadata": {
        "colab": {
          "base_uri": "https://localhost:8080/"
        },
        "id": "-YFdShIxH-ay",
        "outputId": "61de0ccb-7900-4c79-fa96-1903997df6ad"
      },
      "execution_count": null,
      "outputs": [
        {
          "output_type": "stream",
          "name": "stdout",
          "text": [
            "Ingresa el nombre del archivo con extensión: ar\n",
            "El archivo no existe :'(\n"
          ]
        }
      ],
      "id": "-YFdShIxH-ay"
    },
    {
      "cell_type": "markdown",
      "source": [
        "Pero podemos obtener detalle sobre el tipo de error y mostrarlo, utilizando `as`:"
      ],
      "metadata": {
        "id": "4XkIPuV6IkNO"
      },
      "id": "4XkIPuV6IkNO"
    },
    {
      "cell_type": "code",
      "source": [
        "nombre = str(input(\"Ingresa el nombre del archivo con extensión: \"))\n",
        "try:\n",
        "    with open(nombre, \"r\") as archivo:\n",
        "        print(archivo.read())\n",
        "except Exception as e:\n",
        "    print(f\"El archivo no existe :'(\\n --- Tipo de error:\\n {e}\")"
      ],
      "metadata": {
        "colab": {
          "base_uri": "https://localhost:8080/"
        },
        "id": "Rft3vdnBIrV4",
        "outputId": "13f3fca3-4103-47eb-ac8c-d0bb7d5a6768"
      },
      "execution_count": null,
      "outputs": [
        {
          "output_type": "stream",
          "name": "stdout",
          "text": [
            "Ingresa el nombre del archivo con extensión: iu\n",
            "El archivo no existe :'(\n",
            " --- Tipo de error:\n",
            " [Errno 2] No such file or directory: 'iu'\n"
          ]
        }
      ],
      "id": "Rft3vdnBIrV4"
    },
    {
      "cell_type": "markdown",
      "source": [
        "Y podemos utilizar un error específico, en este caso `IOError`:"
      ],
      "metadata": {
        "id": "qcAo2SfnJfr8"
      },
      "id": "qcAo2SfnJfr8"
    },
    {
      "cell_type": "code",
      "source": [
        "nombre = str(input(\"Ingresa el nombre del archivo con extensión: \"))\n",
        "try:\n",
        "    with open(nombre, \"r\") as archivo:\n",
        "        print(archivo.read())\n",
        "except IOError:\n",
        "    print(\"El archivo no existe :'(\")"
      ],
      "metadata": {
        "colab": {
          "base_uri": "https://localhost:8080/"
        },
        "id": "A5zRtV2MJfQw",
        "outputId": "2f6485a0-b1ac-439f-9e5d-34e64a762d16"
      },
      "execution_count": null,
      "outputs": [
        {
          "output_type": "stream",
          "name": "stdout",
          "text": [
            "Ingresa el nombre del archivo con extensión: uy\n",
            "El archivo no existe :'(\n"
          ]
        }
      ],
      "id": "A5zRtV2MJfQw"
    },
    {
      "cell_type": "markdown",
      "source": [
        "Como tambien utilizar varios tipos de errores:"
      ],
      "metadata": {
        "id": "GR_g_OUiRv28"
      },
      "id": "GR_g_OUiRv28"
    },
    {
      "cell_type": "code",
      "source": [
        "nombre = str(input(\"Ingresa el nombre del archivo con extensión: \"))\n",
        "try:\n",
        "    with open(nombre, \"r\") as archivo:\n",
        "        print(archivo_txt.read())\n",
        "except IOError:\n",
        "    print(\"El archivo no existe :'(\")\n",
        "except NameError:\n",
        "    print(\"Nombre de variable no existe :'(\")"
      ],
      "metadata": {
        "colab": {
          "base_uri": "https://localhost:8080/"
        },
        "outputId": "9e5b2d8f-315f-4c1d-e703-9d17f8cae60c",
        "id": "IthRLEu1R0-E"
      },
      "execution_count": null,
      "outputs": [
        {
          "output_type": "stream",
          "name": "stdout",
          "text": [
            "Ingresa el nombre del archivo con extensión: ejemplo.txt\n",
            "Nombre de variable no existe :'(\n"
          ]
        }
      ],
      "id": "IthRLEu1R0-E"
    },
    {
      "cell_type": "markdown",
      "source": [
        "Buenas prácticas:\n",
        "- Atrapa excepciones esperadas y proporciona mensajes útiles.\n",
        "- Evita `except:` sin especificar la excepción.\n",
        "- Usa `finally` para limpiar recursos si no usas `with`.\n",
        "- Puedes usar `raise` para volver a levantar excepciones tras registrar.\n",
        "\n",
        "Ejemplo:"
      ],
      "metadata": {
        "id": "S3pE0i-oYHCv"
      },
      "id": "S3pE0i-oYHCv"
    },
    {
      "cell_type": "code",
      "execution_count": null,
      "id": "351dc1da",
      "metadata": {
        "colab": {
          "base_uri": "https://localhost:8080/"
        },
        "id": "351dc1da",
        "outputId": "4b2e8274-f7bc-4a19-f3db-72742a188f9d"
      },
      "outputs": [
        {
          "output_type": "stream",
          "name": "stdout",
          "text": [
            "No se encontró el archivo: [Errno 2] No such file or directory: 'archivo_no_existe.txt'\n",
            "Operación finalizada\n"
          ]
        }
      ],
      "source": [
        "# Ejemplo de manejo de errores\n",
        "try:\n",
        "    with open('archivo_no_existe.txt', 'r', encoding='utf-8') as f:\n",
        "        contenido = f.read()\n",
        "except FileNotFoundError as e:\n",
        "    print('No se encontró el archivo:', e)\n",
        "except Exception as e:\n",
        "    print('Error desconocido:', e)\n",
        "else:\n",
        "    print('Lectura exitosa')\n",
        "finally:\n",
        "    print('Operación finalizada')\n"
      ]
    },
    {
      "cell_type": "markdown",
      "id": "955e421b",
      "metadata": {
        "id": "955e421b"
      },
      "source": [
        "### ✍️ Ejercicio — Safe write (Esqueleto)\n",
        "\n",
        "Implementa `safe_write(path, contenido)` que intente escribir en `path`, capture errores de I/O y confirme el éxito. Debe retornar True si se escribió correctamente y False en caso contrario.\n"
      ]
    },
    {
      "cell_type": "code",
      "execution_count": null,
      "id": "a3aacd14",
      "metadata": {
        "id": "a3aacd14"
      },
      "outputs": [],
      "source": [
        "# Esqueleto ejercicio - Safe write\n",
        "\n",
        "def safe_write(path, contenido):\n",
        "    # TODO: intentar escribir con try/except\n",
        "    pass\n",
        "\n",
        "# Prueba sugerida:\n",
        "# print(safe_write('salida.txt', 'hola'))\n"
      ]
    },
    {
      "cell_type": "markdown",
      "id": "5c3b08f7",
      "metadata": {
        "id": "5c3b08f7"
      },
      "source": [
        "# 4️⃣ Ejercicios prácticos con archivos y procesamiento de datos\n",
        "\n",
        "A continuación hay dos ejercicios prácticos que combinan lectura, procesamiento y escritura.\n",
        "\n",
        "**Ejercicio A:** Resumen de ventas\n",
        "- Dado un CSV `ventas.csv` con columnas: `producto,cantidad,precio_unitario`\n",
        "- Calcular ventas totales por producto y guardar un CSV `resumen.csv` con `producto,total_vendido`.\n",
        "\n",
        "**Ejercicio B:** Limpieza de texto y tokenización\n",
        "- Dado un archivo de texto `documento.txt`, normalizar el texto (minúsculas, eliminar puntuación básica), tokenizar en palabras y guardar las 50 palabras más frecuentes en `frecuencias.txt`.\n"
      ]
    },
    {
      "cell_type": "code",
      "execution_count": null,
      "id": "d277ec62",
      "metadata": {
        "id": "d277ec62"
      },
      "outputs": [],
      "source": [
        "# Esqueleto Ejercicio A: resumen de ventas\n",
        "import csv\n",
        "\n",
        "def resumen_ventas(path_in, path_out):\n",
        "    # TODO: leer ventas.csv y acumular totales por producto\n",
        "    # usar una estructura temporal (lista de tuplas o dos listas paralelas) - no uses dicts si quieres forzar ejercicio\n",
        "    pass\n",
        "\n",
        "# Esqueleto Ejercicio B: limpieza y frecuencias\n",
        "import re\n",
        "from collections import Counter\n",
        "\n",
        "def frecuencias_palabras(path_in, path_out, top_n=50):\n",
        "    # TODO: leer documento.txt, normalizar, tokenizar y contar, luego escribir top_n en path_out\n",
        "    pass\n"
      ]
    },
    {
      "cell_type": "code",
      "execution_count": null,
      "id": "3a92f9a3",
      "metadata": {
        "id": "3a92f9a3"
      },
      "outputs": [],
      "source": [
        "# Soluciones de referencia (usando dicts y Counter para claridad)\n",
        "import csv\n",
        "from collections import Counter\n",
        "import re\n",
        "\n",
        "# Solución A\n",
        "def resumen_ventas(path_in, path_out):\n",
        "    totals = {}\n",
        "    try:\n",
        "        with open(path_in, 'r', newline='', encoding='utf-8') as fin:\n",
        "            reader = csv.reader(fin)\n",
        "            header = next(reader)\n",
        "            for fila in reader:\n",
        "                producto = fila[0]\n",
        "                cantidad = float(fila[1])\n",
        "                precio = float(fila[2])\n",
        "                totals[producto] = totals.get(producto, 0) + cantidad * precio\n",
        "        with open(path_out, 'w', newline='', encoding='utf-8') as fout:\n",
        "            writer = csv.writer(fout)\n",
        "            writer.writerow(['producto', 'total_vendido'])\n",
        "            for producto, total in totals.items():\n",
        "                writer.writerow([producto, f\"{total:.2f}\"])\n",
        "    except Exception as e:\n",
        "        print('Error procesando ventas:', e)\n",
        "\n",
        "# Solución B\n",
        "def frecuencias_palabras(path_in, path_out, top_n=50):\n",
        "    try:\n",
        "        with open(path_in, 'r', encoding='utf-8') as f:\n",
        "            text = f.read().lower()\n",
        "        # eliminar puntuación simple\n",
        "        text = re.sub(r\"[^a-záéíóúñ0-9\\s]\", ' ', text)\n",
        "        words = [w for w in text.split() if w]\n",
        "        c = Counter(words)\n",
        "        most = c.most_common(top_n)\n",
        "        with open(path_out, 'w', encoding='utf-8') as f:\n",
        "            for word, freq in most:\n",
        "                f.write(f\"{word}\\t{freq}\\n\")\n",
        "    except Exception as e:\n",
        "        print('Error procesando documento:', e)\n"
      ]
    },
    {
      "cell_type": "markdown",
      "id": "2b88297e",
      "metadata": {
        "id": "2b88297e"
      },
      "source": [
        "# 5️⃣ Ejemplo práctico: usar OpenAI para generar texto y guardarlo en un archivo\n",
        "\n",
        "**Nota:** Este ejemplo es educativo. Para ejecutarlo necesitas configurar la variable de entorno `OPENAI_API_KEY` en Google Colab (no pongas la clave directamente en el notebook).\n",
        "\n",
        "La idea: pedir a la API que genere un breve resumen o metadato sobre un conjunto de datos y guardarlo en `metadatos.txt`.\n",
        "\n",
        "Este fragmento usa la biblioteca `openai` (instálala con `pip install openai` en Colab) y asume que tienes la clave en la variable de entorno. Siempre protege tu clave y no la subas a repositorios públicos.\n"
      ]
    },
    {
      "cell_type": "code",
      "source": [
        "!pip install --upgrade openai"
      ],
      "metadata": {
        "colab": {
          "base_uri": "https://localhost:8080/"
        },
        "id": "W2E1SYmWhx3Z",
        "outputId": "10203082-7a12-4315-d4a6-869bb58ecb24"
      },
      "id": "W2E1SYmWhx3Z",
      "execution_count": null,
      "outputs": [
        {
          "output_type": "stream",
          "name": "stdout",
          "text": [
            "Requirement already satisfied: openai in /usr/local/lib/python3.12/dist-packages (2.6.1)\n",
            "Requirement already satisfied: anyio<5,>=3.5.0 in /usr/local/lib/python3.12/dist-packages (from openai) (4.11.0)\n",
            "Requirement already satisfied: distro<2,>=1.7.0 in /usr/local/lib/python3.12/dist-packages (from openai) (1.9.0)\n",
            "Requirement already satisfied: httpx<1,>=0.23.0 in /usr/local/lib/python3.12/dist-packages (from openai) (0.28.1)\n",
            "Requirement already satisfied: jiter<1,>=0.10.0 in /usr/local/lib/python3.12/dist-packages (from openai) (0.11.1)\n",
            "Requirement already satisfied: pydantic<3,>=1.9.0 in /usr/local/lib/python3.12/dist-packages (from openai) (2.11.10)\n",
            "Requirement already satisfied: sniffio in /usr/local/lib/python3.12/dist-packages (from openai) (1.3.1)\n",
            "Requirement already satisfied: tqdm>4 in /usr/local/lib/python3.12/dist-packages (from openai) (4.67.1)\n",
            "Requirement already satisfied: typing-extensions<5,>=4.11 in /usr/local/lib/python3.12/dist-packages (from openai) (4.15.0)\n",
            "Requirement already satisfied: idna>=2.8 in /usr/local/lib/python3.12/dist-packages (from anyio<5,>=3.5.0->openai) (3.11)\n",
            "Requirement already satisfied: certifi in /usr/local/lib/python3.12/dist-packages (from httpx<1,>=0.23.0->openai) (2025.10.5)\n",
            "Requirement already satisfied: httpcore==1.* in /usr/local/lib/python3.12/dist-packages (from httpx<1,>=0.23.0->openai) (1.0.9)\n",
            "Requirement already satisfied: h11>=0.16 in /usr/local/lib/python3.12/dist-packages (from httpcore==1.*->httpx<1,>=0.23.0->openai) (0.16.0)\n",
            "Requirement already satisfied: annotated-types>=0.6.0 in /usr/local/lib/python3.12/dist-packages (from pydantic<3,>=1.9.0->openai) (0.7.0)\n",
            "Requirement already satisfied: pydantic-core==2.33.2 in /usr/local/lib/python3.12/dist-packages (from pydantic<3,>=1.9.0->openai) (2.33.2)\n",
            "Requirement already satisfied: typing-inspection>=0.4.0 in /usr/local/lib/python3.12/dist-packages (from pydantic<3,>=1.9.0->openai) (0.4.2)\n"
          ]
        }
      ]
    },
    {
      "cell_type": "code",
      "source": [
        "import os\n",
        "\n",
        "os.environ[\"OPENAI_API_KEY\"] = \"TU_API_KEY_AQUI\""
      ],
      "metadata": {
        "id": "7OX54A8HiDOH"
      },
      "id": "7OX54A8HiDOH",
      "execution_count": null,
      "outputs": []
    },
    {
      "cell_type": "code",
      "execution_count": null,
      "id": "250b3bf9",
      "metadata": {
        "id": "250b3bf9"
      },
      "outputs": [],
      "source": [
        "# Ejemplo: usar OpenAI para generar un resumen a partir de un texto y guardarlo.\n",
        "# IMPORTANTE: Este código es ilustrativo. Para ejecutarlo en Colab, primero corre: !pip install openai\n",
        "# y configura la variable de entorno OPENAI_API_KEY.\n",
        "\n",
        "from openai import OpenAI\n",
        "import os\n",
        "\n",
        "# Inicializar cliente con la clave API\n",
        "client = OpenAI(api_key=os.getenv(\"OPENAI_API_KEY\"))\n",
        "\n",
        "texto = \"Este es un ejemplo de contenido sobre manejo de archivos. Contiene info sobre lectura, escritura y CSV.\"\n",
        "\n",
        "try:\n",
        "    # Crear una solicitud al modelo\n",
        "    respuesta = client.chat.completions.create(\n",
        "        model=\"gpt-3.5-turbo\",\n",
        "        messages=[\n",
        "            {\"role\": \"system\", \"content\": \"Eres un asistente experto en resumen de textos.\"},\n",
        "            {\"role\": \"user\", \"content\": f\"Resume brevemente el siguiente texto:\\n\\n{texto}\"}\n",
        "        ],\n",
        "        temperature=0.3,\n",
        "        max_tokens=80\n",
        "    )\n",
        "\n",
        "    resumen = respuesta.choices[0].message.content.strip()\n",
        "\n",
        "    # Guardar en archivo\n",
        "    with open(\"metadatos.txt\", \"w\", encoding=\"utf-8\") as f:\n",
        "        f.write(\"Resumen generado por OpenAI:\\n\")\n",
        "        f.write(resumen)\n",
        "\n",
        "    print(\"✅ Resumen guardado en metadatos.txt:\")\n",
        "    print(resumen)\n",
        "\n",
        "except Exception as e:\n",
        "    print(\"❌ Error al usar OpenAI:\", e)\n",
        "\n"
      ]
    },
    {
      "cell_type": "markdown",
      "id": "f8104156",
      "metadata": {
        "id": "f8104156"
      },
      "source": [
        "# 6️⃣ Tips, recomendaciones y datos curiosos\n",
        "\n",
        "- Usa `with open(...)` siempre que sea posible para garantizar cierre del archivo.\n",
        "- Prefiere `csv` para datos tabulares; para datasets grandes, usa `pandas` o procesamiento por lotes.\n",
        "- Manejo de errores: captura solo las excepciones que esperas y proporciona mensajes útiles.\n",
        "- Para procesar texto multilenguaje, ten en cuenta la codificación (`utf-8`) y normalizaciones Unicode.\n",
        "- Curiosidad: `newline=''` al abrir CSV evita problemas de doble salto de línea en Windows.\n"
      ]
    },
    {
      "cell_type": "markdown",
      "source": [
        "## 🖊 Ejercicios"
      ],
      "metadata": {
        "id": "5kkgX_i0w54l"
      },
      "id": "5kkgX_i0w54l"
    },
    {
      "cell_type": "markdown",
      "source": [
        "#### a) Diseña un programa que cuente el número de caracteres de un archivo de texto, incluyendo los saltos de línea."
      ],
      "metadata": {
        "id": "K61Im2xZiSsV"
      },
      "id": "K61Im2xZiSsV"
    },
    {
      "cell_type": "code",
      "execution_count": null,
      "metadata": {
        "id": "EsDsQbPM2fXP"
      },
      "outputs": [],
      "source": [
        "\"\"\"\n",
        "Aquí debajo escribe tu solución\n",
        "\"\"\"\n",
        "\n"
      ],
      "id": "EsDsQbPM2fXP"
    },
    {
      "cell_type": "markdown",
      "source": [
        "#### b) Haz un programa que, dada una palabra y un nombre de un archivo, diga si la palabra aparece o no en el fichero."
      ],
      "metadata": {
        "id": "yTsBWrIQiUyx"
      },
      "id": "yTsBWrIQiUyx"
    },
    {
      "cell_type": "code",
      "execution_count": null,
      "metadata": {
        "id": "7cjT5J9niUyz"
      },
      "outputs": [],
      "source": [
        "\"\"\"\n",
        "Aquí debajo escribe tu solución\n",
        "\"\"\"\n",
        "\n"
      ],
      "id": "7cjT5J9niUyz"
    },
    {
      "cell_type": "markdown",
      "source": [
        "#### c) Haz un programa que lea un fichero de texto que pueda contener vocales acentuadas y muestre por pantalla una versión del mismo en el que cada vocal acentuada haya sido sustituida por la misma vocal sin acentuar."
      ],
      "metadata": {
        "id": "5DrsRZSaiVL3"
      },
      "id": "5DrsRZSaiVL3"
    },
    {
      "cell_type": "code",
      "execution_count": null,
      "metadata": {
        "id": "43FgKQwoiVL9"
      },
      "outputs": [],
      "source": [
        "\"\"\"\n",
        "Aquí debajo escribe tu solución\n",
        "\"\"\"\n",
        "\n"
      ],
      "id": "43FgKQwoiVL9"
    },
    {
      "cell_type": "markdown",
      "source": [
        "#### d) Diseña un programa que obtenga los 100 primeros números primos junto con su potencia cuadrada y cúbica, y almacenes todo en un archivo llamado `primos.csv`."
      ],
      "metadata": {
        "id": "Ke0uyZaWiU_2"
      },
      "id": "Ke0uyZaWiU_2"
    },
    {
      "cell_type": "code",
      "execution_count": null,
      "metadata": {
        "id": "WjKeEEG8iU_5"
      },
      "outputs": [],
      "source": [
        "\"\"\"\n",
        "Aquí debajo escribe tu solución\n",
        "\"\"\"\n",
        "\n",
        "\n",
        "\n"
      ],
      "id": "WjKeEEG8iU_5"
    }
  ],
  "metadata": {
    "colab": {
      "provenance": [],
      "include_colab_link": true
    },
    "language_info": {
      "name": "python"
    },
    "kernelspec": {
      "name": "python3",
      "display_name": "Python 3"
    }
  },
  "nbformat": 4,
  "nbformat_minor": 5
}