{
  "cells": [
    {
      "cell_type": "markdown",
      "metadata": {
        "id": "view-in-github",
        "colab_type": "text"
      },
      "source": [
        "<a href=\"https://colab.research.google.com/github/Warspyt/PC_Python_2025II/blob/main/clase_8/Modular_Organization.ipynb\" target=\"_parent\"><img src=\"https://colab.research.google.com/assets/colab-badge.svg\" alt=\"Open In Colab\"/></a>"
      ]
    },
    {
      "cell_type": "markdown",
      "id": "c96ae1a5",
      "metadata": {
        "id": "c96ae1a5"
      },
      "source": [
        "# Curso de Programación de Computadores en Python\n",
        "## Programación Modular y Organización de Código en Python\n",
        "#### Universidad Nacional de Colombia\n",
        "---\n",
        "\n",
        "**Objetivo:** aprender a dividir el código en módulos y paquetes, organizar un proyecto Python de forma limpia y mantenible, conocer patrones útiles (`if __name__ == '__main__'`, imports relativos, `__init__.py`, separación en capas, configuración, logging, pruebas básicas y empaquetado).  \n"
      ]
    },
    {
      "cell_type": "markdown",
      "id": "47597f81",
      "metadata": {
        "id": "47597f81"
      },
      "source": [
        "## 🔧 Cómo usar este notebook\n",
        "\n",
        "- Ejecuta las celdas de código con `Shift+Enter` para ver los ejemplos.  \n",
        "- Las secciones contienen: explicación, ejemplos ejecutables, *esqueletos* de ejercicios y **soluciones** (puestas después del esqueleto).  \n",
        "- Intenta completar los ejercicios antes de ejecutar las soluciones.  \n"
      ]
    },
    {
      "cell_type": "markdown",
      "id": "c5ed7616",
      "metadata": {
        "id": "c5ed7616"
      },
      "source": [
        "## 🗂️ Contenido\n",
        "\n",
        "1. Programación modular\n",
        "   - ¿Por qué modularizar?\n",
        "   - Módulos y paquetes (ejemplos prácticos)\n",
        "   - Estilos de import y buenas prácticas\n",
        "   - `if __name__ == '__main__'`\n",
        "   - Ejercicios\n",
        "\n",
        "2. Organización del código\n",
        "   - Estructura de proyecto típica\n",
        "   - Separación en capas (entrypoint, core, utils)\n",
        "   - Configuración, logging y manejo de errores\n",
        "   - Tests, requirements y packaging\n",
        "   - Ejercicios\n",
        "\n",
        "3. Tips, recomendaciones y curiosidades\n"
      ]
    },
    {
      "cell_type": "markdown",
      "id": "8012616a",
      "metadata": {
        "id": "8012616a"
      },
      "source": [
        "# 1️⃣ Programación modular\n",
        "\n",
        "La **programación modular** consiste en dividir un programa grande en piezas (módulos) pequeñas, independientes y reutilizables.  \n",
        "**Ventajas**: legibilidad, reutilización, pruebas más sencillas, carga perezosa de módulos y trabajo en equipo más organizado.\n",
        "\n",
        "Un **módulo** en Python es un archivo `.py`.  \n",
        "Un **paquete** es un directorio con un archivo `__init__.py` (opcional en Python moderno pero habitual).  \n"
      ]
    },
    {
      "cell_type": "markdown",
      "id": "c030f7ac",
      "metadata": {
        "id": "c030f7ac"
      },
      "source": [
        "## Ejemplo práctico: crear y usar un módulo simple\n",
        "A continuación crearemos un módulo `math_utils.py` con funciones y lo importaremos."
      ]
    },
    {
      "cell_type": "code",
      "execution_count": null,
      "id": "8ea8d247",
      "metadata": {
        "id": "8ea8d247"
      },
      "outputs": [],
      "source": [
        "module_content = '''\\ndef area_rectangulo(base, altura):\n",
        "    \"\"\"Devuelve el área de un rectángulo.\"\"\"\n",
        "    return base * altura\n",
        "\n",
        "def perimetro_rectangulo(base, altura):\n",
        "    \"\"\"Devuelve el perímetro de un rectángulo.\"\"\"\n",
        "    return 2 * (base + altura)\n",
        "\n",
        "PI_ESTIMADO = 3.1416\n",
        "\n",
        "def _helper_privado():\n",
        "    return \"no exportado\"\n",
        "\\n'''"
      ]
    },
    {
      "cell_type": "code",
      "execution_count": null,
      "id": "ac14670d",
      "metadata": {
        "id": "ac14670d"
      },
      "outputs": [],
      "source": [
        "# Guardamos el módulo math_utils.py y lo usamos.\n",
        "with open('math_utils.py', 'w', encoding='utf-8') as f:\n",
        "    f.write(module_content)\n",
        "\n",
        "import importlib, sys\n",
        "if '' not in sys.path:\n",
        "    sys.path.insert(0, '')\n",
        "\n",
        "math_utils = importlib.import_module('math_utils')\n",
        "print('Área 3x4 =', math_utils.area_rectangulo(3,4))\n",
        "print('Perímetro 3x4 =', math_utils.perimetro_rectangulo(3,4))\n",
        "print('PI_ESTIMADO =', math_utils.PI_ESTIMADO)"
      ]
    },
    {
      "cell_type": "markdown",
      "id": "26d2c56c",
      "metadata": {
        "id": "26d2c56c"
      },
      "source": [
        "## Estilos de import y recomendaciones\n",
        "\n",
        "- `import modulo` → importa todo el módulo; evita ensuciar el espacio de nombres.  \n",
        "- `from modulo import funcion` → importa nombres concretos; útil para funciones muy usadas.  \n",
        "- `from modulo import *` → **desaconsejado**: dificulta entender de dónde vienen los nombres.  \n",
        "- `import modulo as m` → alias útil para nombres largos.\n"
      ]
    },
    {
      "cell_type": "markdown",
      "id": "068a2574",
      "metadata": {
        "id": "068a2574"
      },
      "source": [
        "## Paquetes y imports relativos\n",
        "\n",
        "Estructura de paquete ejemplo:\n",
        "\n",
        "```\n",
        "mi_proyecto/\n",
        "├─ paquete/\n",
        "│  ├─ __init__.py\n",
        "│  ├─ operaciones.py\n",
        "│  └─ utilidades.py\n",
        "└─ main.py\n",
        "```\n",
        "\n",
        "Dentro de `operaciones.py` puedes usar imports relativos:\n",
        "\n",
        "```python\n",
        "from .utilidades import formatear\n",
        "```\n",
        "\n",
        "Los imports relativos (con `.` o `..`) se usan dentro de paquetes para evitar colisiones y mejorar claridad.\n"
      ]
    },
    {
      "cell_type": "markdown",
      "id": "3d9030c7",
      "metadata": {
        "id": "3d9030c7"
      },
      "source": [
        "## `if __name__ == '__main__'`\n",
        "\n",
        "Cada módulo puede actuar como biblioteca **y** como script ejecutable. Usa el guard para código que solo debe ejecutarse al correr el archivo directamente:\n",
        "\n",
        "```python\n",
        "def funcion_principal():\n",
        "    pass\n",
        "\n",
        "if __name__ == '__main__':\n",
        "    funcion_principal()\n",
        "```\n"
      ]
    },
    {
      "cell_type": "markdown",
      "id": "183b37de",
      "metadata": {
        "id": "183b37de"
      },
      "source": [
        "## Ejemplo: paquete mínimo y ejecución\n",
        "\n",
        "Crearemos una estructura de paquete simple (`paquete_ejemplo`) con dos módulos y un `__init__.py`, y mostraremos imports relativos y la ejecución del paquete.\n"
      ]
    },
    {
      "cell_type": "code",
      "execution_count": null,
      "id": "24a247f6",
      "metadata": {
        "colab": {
          "base_uri": "https://localhost:8080/"
        },
        "id": "24a247f6",
        "outputId": "ff8f48f8-70cc-4b86-af3e-e7395a1097b1"
      },
      "outputs": [
        {
          "output_type": "stream",
          "name": "stdout",
          "text": [
            "['Hola, Ana!', 'Hola, Luis!']\n"
          ]
        }
      ],
      "source": [
        "# Creamos una estructura de paquete en el directorio de trabajo\n",
        "import os\n",
        "pkg_dir = 'paquete_ejemplo'\n",
        "os.makedirs(pkg_dir, exist_ok=True)\n",
        "\n",
        "# __init__.py\n",
        "with open(os.path.join(pkg_dir, '__init__.py'), 'w', encoding='utf-8') as f:\n",
        "    f.write(\"# paquete_ejemplo: módulo de ejemplo\\n\")\n",
        "\n",
        "# utilidades.py\n",
        "with open(os.path.join(pkg_dir, 'utilidades.py'), 'w', encoding='utf-8') as f:\n",
        "    f.write('''def saludar(nombre):\\n    return f\"Hola, {nombre}!\"\\n''')\n",
        "\n",
        "# operaciones.py usa import relativo\n",
        "with open(os.path.join(pkg_dir, 'operaciones.py'), 'w', encoding='utf-8') as f:\n",
        "    f.write('''from .utilidades import saludar\\n\\ndef procesar_lista(nombres):\\n    return [saludar(n) for n in nombres]\\n''')\n",
        "\n",
        "# Demostración de import del paquete\n",
        "import importlib, sys\n",
        "if '' not in sys.path:\n",
        "    sys.path.insert(0, '')\n",
        "\n",
        "pkg = importlib.import_module('paquete_ejemplo.operaciones')\n",
        "print(pkg.procesar_lista(['Ana','Luis']))"
      ]
    },
    {
      "cell_type": "markdown",
      "id": "d802431f",
      "metadata": {
        "id": "d802431f"
      },
      "source": [
        "### 📝 Ejercicios — Programación modular\n",
        "\n",
        "1. **Crear un módulo `geometria.py`** con funciones: `area_circulo(r)`, `area_triangulo(base, altura)`. Importa el módulo y usa las funciones.  \n",
        "2. **Paquete pequeño:** crear un paquete `conversiones` con `temperatura.py` (Celsius↔Fahrenheit) y `longitud.py` (metros↔pies). Demuestra imports relativos.  \n",
        "3. **Práctica `__main__`:** convierte un módulo en script ejecutable que pueda recibir parámetros (usa `argparse` si quieres).  \n",
        "\n",
        "Completa los esqueletos en la celda de código de abajo.\n"
      ]
    },
    {
      "cell_type": "code",
      "execution_count": null,
      "id": "6c357594",
      "metadata": {
        "id": "6c357594"
      },
      "outputs": [],
      "source": [
        "# Esqueleto ejercicio 1: geometria.py\n",
        "geometria_code = '''# geometria.py\n",
        "def area_circulo(r):\n",
        "    # TODO: implementar\n",
        "    pass\n",
        "\n",
        "def area_triangulo(base, altura):\n",
        "    # TODO: implementar\n",
        "    pass\n",
        "'''\n",
        "with open('geometria.py', 'w', encoding='utf-8') as f:\n",
        "    f.write(geometria_code)\n",
        "\n",
        "print(\"geometria.py creado. Edita el archivo y vuelve a importarlo para probar.\")"
      ]
    },
    {
      "cell_type": "code",
      "execution_count": null,
      "id": "5faae9f6",
      "metadata": {
        "id": "5faae9f6"
      },
      "outputs": [],
      "source": [
        "# Solución de referencia para geometria.py (sobrescribe)\n",
        "geometria_sol = '''def area_circulo(r):\n",
        "    import math\n",
        "    return math.pi * r * r\n",
        "\n",
        "def area_triangulo(base, altura):\n",
        "    return 0.5 * base * altura\n",
        "'''\n",
        "with open('geometria.py', 'w', encoding='utf-8') as f:\n",
        "    f.write(geometria_sol)\n",
        "\n",
        "# Importar y probar\n",
        "import importlib\n",
        "import geometria\n",
        "importlib.reload(geometria)\n",
        "print('Área círculo r=2 ->', geometria.area_circulo(2))\n",
        "print('Área tri base=3 altura=4 ->', geometria.area_triangulo(3,4))"
      ]
    },
    {
      "cell_type": "markdown",
      "id": "5eb1797c",
      "metadata": {
        "id": "5eb1797c"
      },
      "source": [
        "# 2️⃣ Organización del código\n",
        "\n",
        "Más allá de dividir en módulos, es importante **organizar el proyecto**. Una estructura típica:\n",
        "\n",
        "```\n",
        "mi_proyecto/\n",
        "├─ src/\n",
        "│  └─ paquete/\n",
        "│     ├─ __init__.py\n",
        "│     ├─ core.py\n",
        "│     ├─ utils.py\n",
        "│     └─ cli.py\n",
        "├─ tests/\n",
        "│  └─ test_core.py\n",
        "├─ requirements.txt\n",
        "├─ setup.py / pyproject.toml\n",
        "└─ README.md\n",
        "```\n",
        "\n",
        "Buenas prácticas: separar código fuente de tests, mantener un `README.md` claro y un archivo con dependencias (`requirements.txt` o `pyproject.toml`).  \n"
      ]
    },
    {
      "cell_type": "markdown",
      "id": "135fc008",
      "metadata": {
        "id": "135fc008"
      },
      "source": [
        "## Separación en capas (ejemplo)\n",
        "\n",
        "- **Entrypoint / CLI**: `cli.py`, `main.py` — parseo de argumentos y orquestación.  \n",
        "- **Core / Lógica de negocio**: `core.py` — funciones y clases principales.  \n",
        "- **Utils / Helpers**: funciones auxiliares, reutilizables.  \n",
        "- **Config**: valores de configuración y manejo de `env` (variables de entorno).  \n",
        "- **Tests**: pruebas unitarias / de integración.  \n"
      ]
    },
    {
      "cell_type": "markdown",
      "id": "1d716a0d",
      "metadata": {
        "id": "1d716a0d"
      },
      "source": [
        "## Ejemplo: pequeña aplicación organizada"
      ]
    },
    {
      "cell_type": "code",
      "execution_count": null,
      "id": "8e27cf22",
      "metadata": {
        "colab": {
          "base_uri": "https://localhost:8080/"
        },
        "id": "8e27cf22",
        "outputId": "baad124d-ae2f-4895-f5bf-3cc7f4dbac57"
      },
      "outputs": [
        {
          "output_type": "stream",
          "name": "stdout",
          "text": [
            "Bienvenido/a, Maria\n"
          ]
        }
      ],
      "source": [
        "# Crear estructura app_ejemplo\n",
        "import os\n",
        "os.makedirs('app_ejemplo', exist_ok=True)\n",
        "\n",
        "with open('app_ejemplo/core.py', 'w', encoding='utf-8') as f:\n",
        "    f.write('''def welcome(name):\\n    return f\"Bienvenido/a, {name}\"\\n''')\n",
        "\n",
        "with open('app_ejemplo/utils.py', 'w', encoding='utf-8') as f:\n",
        "    f.write('''def formatear_nombre(nombre):\\n    return nombre.strip().title()\\n''')\n",
        "\n",
        "with open('app_ejemplo/cli.py', 'w', encoding='utf-8') as f:\n",
        "    f.write('''from .core import welcome\\nfrom .utils import formatear_nombre\\n\\n\\ndef main():\\n    n = '  maria '\\n    n2 = formatear_nombre(n)\\n    print(welcome(n2))\\n\\nif __name__ == \"__main__\":\\n    main()\\n''')\n",
        "\n",
        "# Importamos y ejecutamos la CLI\n",
        "import importlib, sys\n",
        "if '' not in sys.path:\n",
        "    sys.path.insert(0, '')\n",
        "cli = importlib.import_module('app_ejemplo.cli')\n",
        "cli.main()"
      ]
    },
    {
      "cell_type": "markdown",
      "id": "1bd2c0cd",
      "metadata": {
        "id": "1bd2c0cd"
      },
      "source": [
        "## Configuración y constantes\n",
        "\n",
        "- Mantén valores configurables (umbral, rutas, credenciales) fuera del código: `config.py`, variables de entorno o archivos `.env`.  \n",
        "- Usa `os.getenv('NOMBRE', valor_por_defecto)` para leer variables de entorno.  \n",
        "- Evita hardcodear datos sensibles; usa gestores de secretos en producción.  \n"
      ]
    },
    {
      "cell_type": "markdown",
      "id": "84bda931",
      "metadata": {
        "id": "84bda931"
      },
      "source": [
        "## Logging y manejo de errores\n",
        "\n",
        "- Usa el módulo `logging` en lugar de `print()` para mensajes de producción.  \n",
        "- Define un logger por módulo: `logger = logging.getLogger(__name__)`.  \n",
        "- Configura handlers (stream, file) y niveles (`DEBUG`, `INFO`, `WARNING`, `ERROR`, `CRITICAL`).  \n",
        "- Atrapa excepciones relevantes y registra información útil sin exponer secretos.\n"
      ]
    },
    {
      "cell_type": "markdown",
      "id": "fb2f8278",
      "metadata": {
        "id": "fb2f8278"
      },
      "source": [
        "## Tests, dependencias y empaquetado\n",
        "\n",
        "- Pruebas: usa `pytest` o `unittest`. Mantén tests en carpeta `tests/`.  \n",
        "- Dependencias: lista en `requirements.txt` o define en `pyproject.toml`.  \n",
        "- Empaquetado: `pyproject.toml` y `setuptools`/`poetry` para crear paquetes instalables.  \n"
      ]
    },
    {
      "cell_type": "markdown",
      "id": "a427250e",
      "metadata": {
        "id": "a427250e"
      },
      "source": [
        "### 📝 Ejercicios — Organización de código\n",
        "\n",
        "1. **Refactor:** toma una función grande (p. ej. calculadora con varias operaciones) y sepárala en `core.py` y `utils.py`.  \n",
        "2. **Config:** crea `config.py` que lea una variable `DEBUG` de entorno y ajuste comportamiento.  \n",
        "3. **Logging:** añade logging a `app_ejemplo/cli.py` en lugar de `print`.  \n",
        "4. **Tests básicos:** escribe un test simple para `app_ejemplo/core.py` usando `pytest` (esqueleto).  \n"
      ]
    },
    {
      "cell_type": "code",
      "execution_count": null,
      "id": "1f605004",
      "metadata": {
        "id": "1f605004"
      },
      "outputs": [],
      "source": [
        "# Esqueleto: crear config.py que lea DEBUG de variable de entorno\n",
        "config_code = '''import os\n",
        "\n",
        "DEBUG = os.getenv('DEBUG', 'False') == 'True'\n",
        "'''\n",
        "with open('config.py', 'w', encoding='utf-8') as f:\n",
        "    f.write(config_code)\n",
        "\n",
        "print(\"config.py creado. Puedes modificar la variable de entorno DEBUG para probar.\")"
      ]
    },
    {
      "cell_type": "code",
      "execution_count": null,
      "id": "813f175a",
      "metadata": {
        "id": "813f175a"
      },
      "outputs": [],
      "source": [
        "# Solución de ejemplo: añadir logging a app_ejemplo/cli.py\n",
        "import logging\n",
        "with open('app_ejemplo/cli.py', 'w', encoding='utf-8') as f:\n",
        "    f.write('''import logging\n",
        "from .core import welcome\n",
        "from .utils import formatear_nombre\n",
        "\n",
        "logger = logging.getLogger(__name__)\n",
        "handler = logging.StreamHandler()\n",
        "formatter = logging.Formatter('%(levelname)s:%(name)s:%(message)s')\n",
        "handler.setFormatter(formatter)\n",
        "logger.addHandler(handler)\n",
        "logger.setLevel(logging.INFO)\n",
        "\n",
        "def main():\n",
        "    n = '  maria '\n",
        "    n2 = formatear_nombre(n)\n",
        "    logger.info(\"Llamando a welcome para %s\", n2)\n",
        "    print(welcome(n2))\n",
        "\n",
        "if __name__ == \"__main__\":\n",
        "    main()\n",
        "''')\n",
        "\n",
        "# Ejecutar la CLI para mostrar logging\n",
        "import importlib\n",
        "importlib.reload(importlib.import_module('app_ejemplo.cli'))"
      ]
    },
    {
      "cell_type": "code",
      "execution_count": null,
      "id": "11e7bb88",
      "metadata": {
        "id": "11e7bb88"
      },
      "outputs": [],
      "source": [
        "# Esqueleto de test (pytest) para app_ejemplo/core.py\n",
        "tests_dir = 'tests'\n",
        "import os\n",
        "os.makedirs(tests_dir, exist_ok=True)\n",
        "\n",
        "test_code = '''from app_ejemplo.core import welcome\n",
        "\n",
        "def test_welcome():\n",
        "    assert welcome(\"Ana\") == \"Bienvenido/a, Ana\"\n",
        "'''\n",
        "with open(os.path.join(tests_dir, 'test_core.py'), 'w', encoding='utf-8') as f:\n",
        "    f.write(test_code)\n",
        "\n",
        "print(\"Esqueleto de test creado en tests/test_core.py (usa pytest para ejecutarlo).\")"
      ]
    },
    {
      "cell_type": "markdown",
      "id": "196976ec",
      "metadata": {
        "id": "196976ec"
      },
      "source": [
        "# ✅ Tips, recomendaciones y datos curiosos\n",
        "\n",
        "- **Mantén módulos pequeños y enfocados:** cada módulo con responsabilidad clara.  \n",
        "- **Nombres explícitos:** evitar un único `utils` demasiado genérico; crea `text_utils`, `file_utils`, etc.  \n",
        "- **Documenta** con docstrings y README.  \n",
        "- **Usa type hints** para mejorar autocompletado y detectar errores con linters.  \n",
        "- **PEP8**: sigue convenciones de estilo (usa `black`/`flake8`).  \n",
        "- **Curiosidad:** `__init__.py` puede ejecutar código al importar el paquete; evita lógica pesada en él para mantener las importaciones ligeras.  \n"
      ]
    }
  ],
  "metadata": {
    "colab": {
      "provenance": [],
      "include_colab_link": true
    },
    "language_info": {
      "name": "python"
    },
    "kernelspec": {
      "name": "python3",
      "display_name": "Python 3"
    }
  },
  "nbformat": 4,
  "nbformat_minor": 5
}