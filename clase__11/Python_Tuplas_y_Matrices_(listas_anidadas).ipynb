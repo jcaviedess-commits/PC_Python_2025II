{
  "cells": [
    {
      "cell_type": "markdown",
      "metadata": {
        "id": "view-in-github",
        "colab_type": "text"
      },
      "source": [
        "<a href=\"https://colab.research.google.com/github/Warspyt/PC_Python_2025II/blob/main/clase__11/Python_Tuplas_y_Matrices_(listas_anidadas).ipynb\" target=\"_parent\"><img src=\"https://colab.research.google.com/assets/colab-badge.svg\" alt=\"Open In Colab\"/></a>"
      ]
    },
    {
      "cell_type": "markdown",
      "id": "9722fbca",
      "metadata": {
        "id": "9722fbca"
      },
      "source": [
        "# Curso de Programación de Computadores en Python\n",
        "## 🐍 **Tuplas y Matrices (listas anidadas)**\n",
        "#### Universidad Nacional de Colombia\n",
        "---\n"
      ]
    },
    {
      "cell_type": "markdown",
      "id": "4f478c8f",
      "metadata": {
        "id": "4f478c8f"
      },
      "source": [
        "### 🔧 Cómo usar este notebook\n",
        "\n",
        "- Ejecuta las celdas de código con `Shift+Enter`.\n",
        "- Cada sección contiene explicación, ejemplos ejecutables y ejercicios.\n",
        "\n",
        "¡Manos a la obra! 🚀\n"
      ]
    },
    {
      "cell_type": "markdown",
      "id": "9829eea2",
      "metadata": {
        "id": "9829eea2"
      },
      "source": [
        "## 🎯 Objetivos de aprendizaje\n",
        "- Comprender qué son las **tuplas** y sus **propiedades**.\n",
        "- Usar operaciones básicas en tuplas: **indexación**, **concatenación** y **repetición**.\n",
        "- Definir y manipular **matrices (listas anidadas)**.\n",
        "- Aplicar **recorridos** típicos (traversal).\n",
        "- Implementar **operaciones** básicas sobre matrices con bucles o comprensiones.\n"
      ]
    },
    {
      "cell_type": "markdown",
      "source": [
        "#1️⃣ **Tuplas: definición y propiedades**\n",
        "\n",
        "Las **tuplas** son secuencias **ordenadas** e **inmutables**.  \n",
        "Se crean con paréntesis `()` y pueden mezclar distintos tipos de datos.\n",
        "\n",
        "Ejemplos:\n",
        "```python\n",
        "tupla = (\"manzana\", \"pera\", \"uva\")\n",
        "tupla_mixta = (1, \"hola\", True, 3.14)"
      ],
      "metadata": {
        "id": "YDmAZU5AfL-U"
      },
      "id": "YDmAZU5AfL-U"
    },
    {
      "cell_type": "markdown",
      "source": [
        "## 📖 **Teoría esencial (tuplas)**\n",
        "\n",
        "- Se comportan de forma muy similar a las listas, pero **no pueden modificarse**.  \n",
        "- **Indexación y slicing** funcionan igual que en las listas.  \n",
        "- **Operadores importantes:**  \n",
        "  - `+` → concatena tuplas.  \n",
        "  - `*` → repite los elementos.  \n",
        "- **Métodos incorporados:**  \n",
        "  - `.count(x)` → cuenta cuántas veces aparece `x`.  \n",
        "  - `.index(x)` → devuelve la posición de `x`.  \n",
        "- **Casos clave:**  \n",
        "  - `t = (42,)` → tupla de un solo elemento (nota la coma).  \n",
        "  - `1, 2, 3` → empaquetado sin paréntesis.  \n",
        "  - `a, *rest = (1,2,3,4)` → desempaquetado extendido."
      ],
      "metadata": {
        "id": "npyAXlTHfomT"
      },
      "id": "npyAXlTHfomT"
    },
    {
      "cell_type": "code",
      "source": [
        "# Ejemplo básico de tupla\n",
        "tupla = (\"manzana\", \"pera\", \"uva\")\n",
        "print(\"Tupla completa:\", tupla)\n",
        "print(\"Primer elemento:\", tupla[0])\n",
        "print(\"Último elemento:\", tupla[-1])\n",
        "print(\"Segmento [1:]:\", tupla[1:])"
      ],
      "metadata": {
        "colab": {
          "base_uri": "https://localhost:8080/"
        },
        "id": "9vNg2XlliY3_",
        "outputId": "8a48c605-8a1e-4778-f9f2-2d3f52b1ceb4"
      },
      "id": "9vNg2XlliY3_",
      "execution_count": null,
      "outputs": [
        {
          "output_type": "stream",
          "name": "stdout",
          "text": [
            "Tupla completa: ('manzana', 'pera', 'uva')\n",
            "Primer elemento: manzana\n",
            "Último elemento: uva\n",
            "Segmento [1:]: ('pera', 'uva')\n"
          ]
        }
      ]
    },
    {
      "cell_type": "markdown",
      "source": [
        "## 📘 **Propiedades de las Tuplas**\n",
        "\n",
        "- **Ordenadas:** mantienen el orden de los elementos tal como se crean.  \n",
        "- **Inmutables:** no pueden modificarse directamente (cualquier cambio crea una nueva tupla).  \n",
        "- **Heterogéneas:** pueden contener distintos tipos de datos.  \n",
        "- **Anidadas:** pueden incluir otras colecciones, como listas o tuplas.  \n",
        "- **Iterables:** pueden recorrerse con bucles `for`.  \n",
        "- **Comparables:** se comparan elemento a elemento.  \n",
        "- **Hashables:** pueden ser claves de diccionario si todos sus elementos también lo son.  \n",
        "- **Conversión:** se pueden transformar listas a tuplas y viceversa usando `tuple()` o `list()`."
      ],
      "metadata": {
        "id": "fj2IjjFBiqGS"
      },
      "id": "fj2IjjFBiqGS"
    },
    {
      "cell_type": "code",
      "source": [
        "# Mini-demo de propiedades\n",
        "t = (1, \"a\", (2, 3))\n",
        "print(\"t:\", t)\n",
        "print(\"Primer y último elemento:\", t[0], t[-1])\n",
        "print(\"Segmento t[1:]:\", t[1:])\n",
        "print(\"Concatenación t + (99,):\", t + (99,))\n",
        "print(\"Repetición 2 * (1,2):\", 2 * (1,2))"
      ],
      "metadata": {
        "colab": {
          "base_uri": "https://localhost:8080/"
        },
        "id": "XO3Fr3TwjIY1",
        "outputId": "00736d87-941f-41c5-b969-cecde443b2e7"
      },
      "id": "XO3Fr3TwjIY1",
      "execution_count": null,
      "outputs": [
        {
          "output_type": "stream",
          "name": "stdout",
          "text": [
            "t: (1, 'a', (2, 3))\n",
            "Primer y último elemento: 1 (2, 3)\n",
            "Segmento t[1:]: ('a', (2, 3))\n",
            "Concatenación t + (99,): (1, 'a', (2, 3), 99)\n",
            "Repetición 2 * (1,2): (1, 2, 1, 2)\n"
          ]
        }
      ]
    },
    {
      "cell_type": "markdown",
      "source": [
        "## 🧰 **Funciones y métodos incorporados — Tuplas**\n",
        "\n",
        "Estas son algunas **funciones y métodos nativos de Python** que se pueden usar directamente con tuplas:\n",
        "\n",
        "| Función / Método | Descripción | Ejemplo |\n",
        "|------------------|-------------|----------|\n",
        "| `len(tupla)` | Devuelve el número de elementos. | `len((1,2,3)) → 3` |\n",
        "| `min(tupla)` / `max(tupla)` | Devuelven el menor o el mayor elemento. | `min((3,1,4)) → 1` |\n",
        "| `sum(tupla)` | Suma los elementos numéricos. | `sum((1,2,3)) → 6` |\n",
        "| `sorted(tupla)` | Devuelve una **lista** ordenada (no una tupla). | `sorted((3,1,2)) → [1,2,3]` |\n",
        "| `tuple(iterable)` | Convierte un iterable (lista, rango, etc.) en tupla. | `tuple([1,2]) → (1,2)` |\n",
        "| `t.count(x)` | Cuenta cuántas veces aparece `x`. | `(1,2,2,3).count(2) → 2` |\n",
        "| `t.index(x)` | Devuelve la posición de `x` (error si no está). | `(1,2,3).index(2) → 1` |\n"
      ],
      "metadata": {
        "id": "tfGnxXrNj79Q"
      },
      "id": "tfGnxXrNj79Q"
    },
    {
      "cell_type": "code",
      "source": [
        "# Ejemplos rápidos (tuplas)\n",
        "t = (3, 1, 2, 2)\n",
        "print(\"len:\", len(t))\n",
        "print(\"min/max:\", min(t), max(t))\n",
        "print(\"sum:\", sum(t))\n",
        "print(\"sorted -> list:\", sorted(t))\n",
        "print(\"count(2):\", t.count(2))\n",
        "print(\"index(2):\", t.index(2))"
      ],
      "metadata": {
        "colab": {
          "base_uri": "https://localhost:8080/"
        },
        "id": "U9bfJws0k_zE",
        "outputId": "11b3756e-fd18-48b3-985a-85ba72c2a2bc"
      },
      "id": "U9bfJws0k_zE",
      "execution_count": null,
      "outputs": [
        {
          "output_type": "stream",
          "name": "stdout",
          "text": [
            "len: 4\n",
            "min/max: 1 3\n",
            "sum: 8\n",
            "sorted -> list: [1, 2, 2, 3]\n",
            "count(2): 2\n",
            "index(2): 2\n"
          ]
        }
      ]
    },
    {
      "cell_type": "markdown",
      "source": [
        "## 🧪 Reto rápido (tuplas)"
      ],
      "metadata": {
        "id": "csLNK7ODnOdz"
      },
      "id": "csLNK7ODnOdz"
    },
    {
      "cell_type": "code",
      "source": [
        "#@title **Instrucciones:**\n",
        "#@markdown Observa el siguiente código y escribe tu **predicción** separada con comas antes de ejecutarlo.\n",
        "#@markdown\n",
        "#@markdown ```python\n",
        "#@markdown t = (10, 20, 30, 40)\n",
        "#@markdown print(t[1])\n",
        "#@markdown print(t[-2:])\n",
        "#@markdown ```\n",
        "prediccion = \"20, (30, 40)\"  #@param {type:\"string\"}\n",
        "\n",
        "t = (10, 20, 30, 40)\n",
        "salida = f\"{t[1]}, {t[-2:]}\"\n",
        "print(\"Salida real:\\n\" + salida)\n",
        "print(\"\\nTu predicción:\\n\" + (prediccion if prediccion.strip() else \"(sin respuesta)\"))"
      ],
      "metadata": {
        "colab": {
          "base_uri": "https://localhost:8080/"
        },
        "cellView": "form",
        "id": "VVCzFs5CnZYq",
        "outputId": "d14ed00d-7bdd-4f37-e8ba-cd0881c2253c"
      },
      "id": "VVCzFs5CnZYq",
      "execution_count": null,
      "outputs": [
        {
          "output_type": "stream",
          "name": "stdout",
          "text": [
            "Salida real:\n",
            "20, (30, 40)\n",
            "\n",
            "Tu predicción:\n",
            "20, (30, 40)\n"
          ]
        }
      ]
    },
    {
      "cell_type": "markdown",
      "source": [
        "# 2️⃣ **Matrices (listas anidadas): definición**\n",
        "\n",
        "Una **matriz** es una **lista de listas**, donde cada sublista representa una **fila**.  \n",
        "Cada elemento se accede usando **dos índices**:  \n",
        "- El primero indica la **fila**  \n",
        "- El segundo indica la **columna**\n",
        "\n",
        "Ejemplo básico:"
      ],
      "metadata": {
        "id": "BYRhGkJPq4Zc"
      },
      "id": "BYRhGkJPq4Zc"
    },
    {
      "cell_type": "code",
      "source": [
        "A = [[1, 2, 3],\n",
        "     [4, 5, 6]]\n",
        "\n",
        "rows = len(A)\n",
        "cols = len(A[0])\n",
        "\n",
        "print(\"Matriz A:\", A)\n",
        "print(\"Número de filas:\", rows)\n",
        "print(\"Número de columnas:\", cols)\n",
        "print(\"Elemento A[0][2]:\", A[0][2])"
      ],
      "metadata": {
        "colab": {
          "base_uri": "https://localhost:8080/"
        },
        "id": "FcmwQBO8rCF0",
        "outputId": "8df16a1e-4962-43d3-c2cd-bfaa8b559942"
      },
      "id": "FcmwQBO8rCF0",
      "execution_count": null,
      "outputs": [
        {
          "output_type": "stream",
          "name": "stdout",
          "text": [
            "Matriz A: [[1, 2, 3], [4, 5, 6]]\n",
            "Número de filas: 2\n",
            "Número de columnas: 3\n",
            "Elemento A[0][2]: 3\n"
          ]
        }
      ]
    },
    {
      "cell_type": "markdown",
      "source": [
        "## 📖 **Teoría esencial (matrices)**\n",
        "\n",
        "- Una **matriz** es una colección bidimensional de datos organizada en **filas** y **columnas**.  \n",
        "- Cada fila es una lista dentro de otra lista principal.  \n",
        "- Para acceder a un elemento se usa **doble índice**:  \n",
        "  - `A[i][j]` → fila *i*, columna *j*.  \n",
        "- Es ideal que todas las filas tengan la **misma longitud** (matriz rectangular)."
      ],
      "metadata": {
        "id": "4nFnwFd5rhkE"
      },
      "id": "4nFnwFd5rhkE"
    },
    {
      "cell_type": "markdown",
      "source": [
        "## 🔁 **Recorrido de Matrices (Traversal)**\n",
        "\n",
        "El **recorrido** de una matriz consiste en **visitar cada elemento** siguiendo un orden.  \n",
        "Podemos hacerlo de diferentes formas dependiendo de si queremos ir **por filas**, **por columnas**, o **por todos los elementos** directamente.\n",
        "\n",
        "### 🔹 Recorrido **por filas** (*row-major*)\n",
        "\n",
        "Se recorren todas las **filas una a una**, y dentro de cada fila, sus columnas.\n",
        "\n",
        "```python\n",
        "for i in range(len(A)):\n",
        "    for j in range(len(A[0])):\n",
        "        print(A[i][j], end=\" \")\n",
        "```\n",
        "### 🔹 Recorrido por columnas (column-major)\n",
        "\n",
        "Se recorren **primero las columnas**, y dentro de cada una, las filas.\n",
        "\n",
        "```python\n",
        "for j in range(len(A[0])):\n",
        "    for i in range(len(A)):\n",
        "        print(A[i][j], end=\" \")\n",
        "```\n",
        "\n",
        "###🔹 Recorrido por elementos (sin índices)\n",
        "Ideal cuando solo te interesan los valores y no las posiciones.\n",
        "```python\n",
        "for fila in A:\n",
        "    for val in fila:\n",
        "        print(val, end=\" \")\n",
        "```\n",
        "\n",
        "###🔹 Recorrido con comprensión de listas\n",
        "\n",
        "Permite obtener todos los elementos de la matriz en una sola lista.\n",
        "\n",
        "```python\n",
        "[val for fila in A for val in fila]\n",
        "```"
      ],
      "metadata": {
        "id": "tiyf2kSttYex"
      },
      "id": "tiyf2kSttYex"
    },
    {
      "cell_type": "markdown",
      "source": [
        "##🧪 Reto Rápido (matrices)"
      ],
      "metadata": {
        "id": "8bGLv8uTFZrl"
      },
      "id": "8bGLv8uTFZrl"
    },
    {
      "cell_type": "code",
      "source": [
        "#@title **Instrucciones:**\n",
        "#@markdown Observa el siguiente código y **predice el resultado final** antes de ejecutarlo.\n",
        "#@markdown Piensa en cómo se recorren las filas.\n",
        "#@markdown\n",
        "#@markdown ```python\n",
        "#@markdown A = [[1, 2, 3],\n",
        "#@markdown      [4, 5, 6]]\n",
        "#@markdown suma = 0\n",
        "#@markdown for fila in A:\n",
        "#@markdown     for val in fila:\n",
        "#@markdown         if val % 2 == 0:\n",
        "#@markdown             suma += val\n",
        "#@markdown print(\"Suma de pares:\", suma)\n",
        "#@markdown ```\n",
        "prediccion = \"12\"  #@param {type:\"string\"}\n",
        "\n",
        "A = [[1, 2, 3],\n",
        "     [4, 5, 6]]\n",
        "\n",
        "suma = 0\n",
        "for fila in A:\n",
        "    for val in fila:\n",
        "        if val % 2 == 0:\n",
        "            suma += val\n",
        "\n",
        "\n",
        "\n",
        "print(\"Salida real:\")\n",
        "print(\"Suma de pares:\", suma)\n",
        "print(\"\\nTu predicción:\")\n",
        "print(prediccion if prediccion.strip() else \"(sin respuesta)\")"
      ],
      "metadata": {
        "colab": {
          "base_uri": "https://localhost:8080/"
        },
        "id": "Yp_4mnr-FXbM",
        "outputId": "bfd2c27a-28ee-46fe-c90b-0ee18370fa57"
      },
      "id": "Yp_4mnr-FXbM",
      "execution_count": null,
      "outputs": [
        {
          "output_type": "stream",
          "name": "stdout",
          "text": [
            "Salida real:\n",
            "Suma de pares: 12\n",
            "\n",
            "Tu predicción:\n",
            "12\n"
          ]
        }
      ]
    },
    {
      "cell_type": "markdown",
      "source": [
        "## 🔁 **Recorrido de Matrices (Traversal)**\n",
        "\n",
        "El **recorrido** de una matriz consiste en **visitar cada elemento** siguiendo un orden.  \n",
        "Podemos hacerlo de diferentes formas dependiendo de si queremos ir **por filas**, **por columnas**, o **por todos los elementos** directamente.\n",
        "\n",
        "### 🔹 Recorrido **por filas** (*row-major*)\n",
        "\n",
        "Se recorren todas las **filas una a una**, y dentro de cada fila, sus columnas.\n",
        "\n",
        "```python\n",
        "for i in range(len(A)):\n",
        "    for j in range(len(A[0])):\n",
        "        print(A[i][j], end=\" \")\n",
        "```\n",
        "### 🔹 Recorrido por columnas (column-major)\n",
        "\n",
        "Se recorren **primero las columnas**, y dentro de cada una, las filas.\n",
        "\n",
        "```python\n",
        "for j in range(len(A[0])):\n",
        "    for i in range(len(A)):\n",
        "        print(A[i][j], end=\" \")\n",
        "```\n",
        "\n",
        "###🔹 Recorrido por elementos (sin índices)\n",
        "Ideal cuando solo te interesan los valores y no las posiciones.\n",
        "```python\n",
        "for fila in A:\n",
        "    for val in fila:\n",
        "        print(val, end=\" \")\n",
        "```\n",
        "\n",
        "###🔹 Recorrido con comprensión de listas\n",
        "\n",
        "Permite obtener todos los elementos de la matriz en una sola lista.\n",
        "\n",
        "```python\n",
        "[val for fila in A for val in fila]\n",
        "```"
      ],
      "metadata": {
        "id": "8JyS_l5Pi-jr"
      },
      "id": "8JyS_l5Pi-jr"
    },
    {
      "cell_type": "markdown",
      "source": [
        "## ⚙️ **Operaciones con Matrices**\n",
        "\n",
        "En una matriz podemos aplicar varias **operaciones matemáticas básicas**.  \n",
        "A continuación verás cómo implementarlas de forma simple con listas anidadas.\n",
        "\n",
        "### 🔹 **Suma de matrices**\n",
        "\n",
        "La suma se realiza **elemento a elemento**, siempre que las dos matrices tengan el mismo tamaño.\n"
      ],
      "metadata": {
        "id": "X1CYnSDjIra0"
      },
      "id": "X1CYnSDjIra0"
    },
    {
      "cell_type": "code",
      "source": [
        "A = [[1, 2, 3],\n",
        "     [4, 5, 6]]\n",
        "\n",
        "B = [val for fila in A for val in fila]\n",
        "# for fila in A significa que fila es [1, 2, 3] y luego fila es [4, 5, 6]\n",
        "# for val in fila significa que val es 1, luego 2, luego 3\n",
        "# for val in fila significa que val es 4, luego 5, luego 6\n",
        "print(A)\n",
        "print(B)\n",
        "\n",
        "A = [[1, 2],\n",
        "     [3, 4]]\n",
        "\n",
        "B = [[5, 6],\n",
        "     [7, 8]]\n",
        "\n",
        "C = [[A[i][j] + B[i][j] for j in range(len(A[0]))] for i in range(len(A))]\n",
        "#  for i in range(2), i es 0\n",
        "  #  for j in range(2), j es 0, 1\n",
        "  #  A[i][j] + B[i][j] = [A[0][0] + B[0][0] , A[0][1] + B[0][1] ]\n",
        "#  for i in range(2), i es 1\n",
        "  #  for j in range(2), j es 0, 1\n",
        "  #  A[i][j] + B[i][j] = [A[1][0] + B[1][0] , A[1][1] + B[1][1] ]\n",
        "\n",
        "print(\"A + B =\", C)"
      ],
      "metadata": {
        "colab": {
          "base_uri": "https://localhost:8080/"
        },
        "id": "5EvGoBbjJIKo",
        "outputId": "578ae112-7278-498d-cbe8-176af0b3516c"
      },
      "id": "5EvGoBbjJIKo",
      "execution_count": null,
      "outputs": [
        {
          "output_type": "stream",
          "name": "stdout",
          "text": [
            "[[1, 2, 3], [4, 5, 6]]\n",
            "[1, 2, 3, 4, 5, 6]\n",
            "A + B = [[6, 8], [10, 12]]\n"
          ]
        }
      ]
    },
    {
      "cell_type": "markdown",
      "source": [
        "### 🔹 **Producto por un escalar**\n",
        "\n",
        "Cada elemento se multiplica por un número (el escalar `k`)."
      ],
      "metadata": {
        "id": "DTESJ5s8tdpU"
      },
      "id": "DTESJ5s8tdpU"
    },
    {
      "cell_type": "code",
      "source": [
        "k = 3\n",
        "A = [[1, 2],\n",
        "     [3, 4]]\n",
        "\n",
        "C = [[k * A[i][j] for j in range(len(A[0]))] for i in range(len(A))]\n",
        "print(\"3 * A =\", C)"
      ],
      "metadata": {
        "colab": {
          "base_uri": "https://localhost:8080/"
        },
        "id": "76shxKnHtlF4",
        "outputId": "1c2c37e6-5fee-4f59-d7be-ed89eeee6d28"
      },
      "id": "76shxKnHtlF4",
      "execution_count": null,
      "outputs": [
        {
          "output_type": "stream",
          "name": "stdout",
          "text": [
            "3 * A = [[3, 6], [9, 12]]\n"
          ]
        }
      ]
    },
    {
      "cell_type": "markdown",
      "source": [
        "### 🔹 **Traspuesta de una matriz**\n",
        "\n",
        "La **traspuesta** intercambia **filas por columnas**."
      ],
      "metadata": {
        "id": "uPXpBFRdt36E"
      },
      "id": "uPXpBFRdt36E"
    },
    {
      "cell_type": "code",
      "source": [
        "A = [[1, 2, 3],\n",
        "     [4, 5, 6]]\n",
        "\n",
        "AT = [[A[i][j] for i in range(len(A))] for j in range(len(A[0]))]\n",
        "print(\"A^T =\", AT)"
      ],
      "metadata": {
        "colab": {
          "base_uri": "https://localhost:8080/"
        },
        "id": "TyhggPBkt82e",
        "outputId": "3dbc9bc9-c5c8-4c64-8840-802fb033deab"
      },
      "id": "TyhggPBkt82e",
      "execution_count": null,
      "outputs": [
        {
          "output_type": "stream",
          "name": "stdout",
          "text": [
            "A^T = [[1, 4], [2, 5], [3, 6]]\n"
          ]
        }
      ]
    },
    {
      "cell_type": "markdown",
      "source": [
        "### 🔹 **Multiplicación de matrices**\n",
        "\n",
        "Para multiplicar dos matrices `A` (de tamaño n×m) y `B` (de tamaño m×p):  \n",
        "cada elemento `C[i][j]` se calcula como la **suma del producto** de los elementos correspondientes de la fila `i` de `A` y la columna `j` de `B`."
      ],
      "metadata": {
        "id": "Mh0lfNXduH5U"
      },
      "id": "Mh0lfNXduH5U"
    },
    {
      "cell_type": "code",
      "source": [
        "A = [[1, 2],\n",
        "     [3, 4]]\n",
        "\n",
        "B = [[5, 6],\n",
        "     [7, 8]]\n",
        "\n",
        "C = [[sum(A[i][k] * B[k][j] for k in range(len(A[0])))\n",
        "      for j in range(len(B[0]))]\n",
        "     for i in range(len(A))]\n",
        "\n",
        "print(\"A · B =\", C)"
      ],
      "metadata": {
        "colab": {
          "base_uri": "https://localhost:8080/"
        },
        "id": "eB-AgsLkuMzm",
        "outputId": "9791bc9a-6976-4e22-8d8a-e3903418d534"
      },
      "id": "eB-AgsLkuMzm",
      "execution_count": null,
      "outputs": [
        {
          "output_type": "stream",
          "name": "stdout",
          "text": [
            "A · B = [[19, 22], [43, 50]]\n"
          ]
        }
      ]
    },
    {
      "cell_type": "markdown",
      "source": [
        "## 🧰 **Funciones y métodos incorporados — Matrices**\n",
        "\n",
        "Las **matrices** en Python están construidas a partir de **listas anidadas**,  \n",
        "por lo tanto comparten las mismas funciones y métodos básicos de las listas.\n",
        "\n",
        "### 🔹 **Funciones comunes**\n",
        "\n",
        "- `len(A)` → devuelve el número de **filas** de la matriz.  \n",
        "- `len(A[0])` → devuelve el número de **columnas** (si es rectangular).  \n",
        "- `list(iterable)` → convierte cualquier iterable (como un rango o tupla) en una lista.  \n",
        "- `sorted(lista)` → devuelve una nueva lista **ordenada** (sin modificar la original).\n",
        "\n",
        "### 🔹 **Métodos de lista aplicables a matrices**\n",
        "\n",
        "Los métodos más usados para modificar o acceder a las listas (y por tanto a las matrices) son:\n",
        "\n",
        "- `append(x)` → agrega una **nueva fila** o elemento.  \n",
        "- `insert(i, x)` → inserta en una posición específica.  \n",
        "- `remove(x)` → elimina la primera ocurrencia del valor `x`.  \n",
        "- `pop(i)` → elimina y devuelve el elemento en la posición `i`.  \n",
        "- `clear()` → elimina todos los elementos.  \n",
        "- `copy()` → crea una copia superficial de la lista.  \n",
        "- `reverse()` → invierte el orden de los elementos.  \n",
        "- `sort()` → ordena la lista **en el lugar** (sin devolver nada).\n",
        "\n",
        "📘 *Recuerda:* estos métodos se aplican tanto a la lista principal (filas), como a las sublistas (columnas)."
      ],
      "metadata": {
        "id": "Mq9msSOhu8qS"
      },
      "id": "Mq9msSOhu8qS"
    },
    {
      "cell_type": "code",
      "source": [
        "# Mini-demo (listas anidadas)\n",
        "# Creamos una matriz vacía\n",
        "A = []\n",
        "\n",
        "# Agregamos una fila\n",
        "A.append([1, 2, 3])\n",
        "print(\"Después de append:\", A)\n",
        "\n",
        "# Agregamos una columna a la primera fila\n",
        "A[0].append(4)\n",
        "print(\"Después de agregar un valor a la primera fila:\", A)\n",
        "\n",
        "# Copiamos la matriz\n",
        "B = A.copy()\n",
        "print(\"Copia de A:\", B)\n",
        "\n",
        "# Limpiamos la matriz original\n",
        "A.clear()\n",
        "print(\"Después de clear():\", A)\n",
        "\n",
        "print(\"B despues de hacer A.clear():\", B)\n",
        "\n",
        "A.append([1])\n",
        "print(A)\n",
        "A.append([2,3])\n",
        "print(A)\n",
        "A[0].append(4)\n",
        "print(A)\n",
        "\n",
        "\n"
      ],
      "metadata": {
        "colab": {
          "base_uri": "https://localhost:8080/"
        },
        "id": "7uy-XRQBvTb8",
        "outputId": "318c1c5d-cc06-42c8-9e7a-ec3c2747281c"
      },
      "id": "7uy-XRQBvTb8",
      "execution_count": null,
      "outputs": [
        {
          "output_type": "stream",
          "name": "stdout",
          "text": [
            "Después de append: [[1, 2, 3]]\n",
            "Después de agregar un valor a la primera fila: [[1, 2, 3, 4]]\n",
            "Copia de A: [[1, 2, 3, 4]]\n",
            "Después de clear(): []\n",
            "B despues de hacer A.clear(): [[1, 2, 3, 4]]\n",
            "[[1]]\n",
            "[[1], [2, 3]]\n",
            "[[1, 4], [2, 3]]\n"
          ]
        }
      ]
    },
    {
      "cell_type": "markdown",
      "source": [
        "# 💡 **Tips y recomendaciones**\n",
        "\n",
        "- Usa **unpacking** en tuplas para asignar valores de forma más clara:\n",
        "  \n",
        "  ```python\n",
        "  x, y = (5, 10)\n",
        "  ```\n",
        "- Convierte listas a tuplas con `tuple()` cuando no deban modificarse.  \n",
        "- En matrices, **evita** crear filas repetidas con `[[0]*m]*n`, ya que comparten la misma referencia.  \n",
        "- Usa nombres descriptivos para tus variables:  \n",
        "  - `i`, `j` → índices  \n",
        "  - `rows`, `cols` → filas y columnas  \n",
        "- Opta por **comprensiones de listas** para crear matrices o listas transformadas de forma más limpia.  \n",
        "- Revisa tus índices antes de acceder a elementos para evitar errores `IndexError`.  \n",
        "- Recuerda que los métodos de lista modifican la estructura *in place* (directamente)."
      ],
      "metadata": {
        "id": "FuMSpcMXwXlL"
      },
      "id": "FuMSpcMXwXlL"
    },
    {
      "cell_type": "markdown",
      "source": [
        "# 📚 **Recursos recomendados**\n",
        "\n",
        "- 🔗 **Documentación de Python:** [Tuplas](https://docs.python.org/3/library/stdtypes.html#tuple) y [Listas](https://docs.python.org/3/tutorial/datastructures.html#more-on-lists).  \n",
        "- 💡 **Libro:** *Think Python* – capítulos sobre estructuras de datos (listas, tuplas y matrices).  \n",
        "- 🧩 **Prácticas sugeridas:** crea ejercicios adicionales con matrices y tuplas, variando los tamaños y condiciones."
      ],
      "metadata": {
        "id": "RtBXb6e9xM_K"
      },
      "id": "RtBXb6e9xM_K"
    },
    {
      "cell_type": "markdown",
      "source": [
        "---\n",
        "\n",
        "# 🧮 **Ejercicios**"
      ],
      "metadata": {
        "id": "lkV7qajnyAjP"
      },
      "id": "lkV7qajnyAjP"
    },
    {
      "cell_type": "markdown",
      "source": [
        "a) Diseña un programa que lea una **tupla** de números e imprima la suma de todos sus elementos."
      ],
      "metadata": {
        "id": "uvrc4BTcyHUt"
      },
      "id": "uvrc4BTcyHUt"
    },
    {
      "cell_type": "code",
      "source": [
        "\"\"\"\n",
        "Aquí debajo escribe tu solución\n",
        "\"\"\""
      ],
      "metadata": {
        "id": "xxMm06SsyMxb"
      },
      "id": "xxMm06SsyMxb",
      "execution_count": null,
      "outputs": []
    },
    {
      "cell_type": "markdown",
      "source": [
        "b) Dada una tupla `t = (10, 20, 30, 40, 50)`, muestra el primer y último valor."
      ],
      "metadata": {
        "id": "Unamazp4yUPx"
      },
      "id": "Unamazp4yUPx"
    },
    {
      "cell_type": "code",
      "source": [
        "\"\"\"\n",
        "Aquí debajo escribe tu solución\n",
        "\"\"\""
      ],
      "metadata": {
        "id": "OscTRwQByWns"
      },
      "id": "OscTRwQByWns",
      "execution_count": null,
      "outputs": []
    },
    {
      "cell_type": "markdown",
      "source": [
        "c) Escribe un programa que lea una **matriz 2×3** y muestre todos sus elementos."
      ],
      "metadata": {
        "id": "cirYz2OaybEi"
      },
      "id": "cirYz2OaybEi"
    },
    {
      "cell_type": "code",
      "source": [
        "\"\"\"\n",
        "Aquí debajo escribe tu solución\n",
        "\"\"\""
      ],
      "metadata": {
        "id": "uLPyWPyByh9e"
      },
      "id": "uLPyWPyByh9e",
      "execution_count": null,
      "outputs": []
    },
    {
      "cell_type": "markdown",
      "source": [
        "d) Diseña un programa que pida un número entero `n` y construya una **matriz identidad** de tamaño `n×n`."
      ],
      "metadata": {
        "id": "03DDhgiEyiyd"
      },
      "id": "03DDhgiEyiyd"
    },
    {
      "cell_type": "code",
      "source": [
        "\"\"\"\n",
        "Aquí debajo escribe tu solución\n",
        "\"\"\""
      ],
      "metadata": {
        "id": "OlQ_M-ZtyoRY"
      },
      "id": "OlQ_M-ZtyoRY",
      "execution_count": null,
      "outputs": []
    },
    {
      "cell_type": "markdown",
      "source": [
        "e) Escribe un programa que verifique si una matriz cuadrada es **simétrica** (`A == A^T`)."
      ],
      "metadata": {
        "id": "L9RTU16fyrqb"
      },
      "id": "L9RTU16fyrqb"
    },
    {
      "cell_type": "code",
      "source": [
        "\"\"\"\n",
        "Aquí debajo escribe tu solución\n",
        "\"\"\""
      ],
      "metadata": {
        "id": "FEH-A0bxyxRm"
      },
      "id": "FEH-A0bxyxRm",
      "execution_count": null,
      "outputs": []
    },
    {
      "cell_type": "markdown",
      "source": [
        "f) Escribe un programa que lea una tupla y muestre cuántos elementos distintos tiene."
      ],
      "metadata": {
        "id": "x_eYhWKkzOQF"
      },
      "id": "x_eYhWKkzOQF"
    },
    {
      "cell_type": "code",
      "source": [
        "\"\"\"\n",
        "Aquí debajo escribe tu solución\n",
        "\"\"\""
      ],
      "metadata": {
        "id": "_vOWfBQjzRK4"
      },
      "id": "_vOWfBQjzRK4",
      "execution_count": null,
      "outputs": []
    }
  ],
  "metadata": {
    "colab": {
      "provenance": [],
      "include_colab_link": true
    },
    "language_info": {
      "name": "python"
    },
    "kernelspec": {
      "name": "python3",
      "display_name": "Python 3"
    }
  },
  "nbformat": 4,
  "nbformat_minor": 5
}