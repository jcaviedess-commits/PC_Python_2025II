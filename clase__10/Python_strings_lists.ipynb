{
  "cells": [
    {
      "cell_type": "markdown",
      "metadata": {
        "id": "view-in-github",
        "colab_type": "text"
      },
      "source": [
        "<a href=\"https://colab.research.google.com/github/Warspyt/PC_Python_2025II/blob/main/clase__10/Python_strings_lists.ipynb\" target=\"_parent\"><img src=\"https://colab.research.google.com/assets/colab-badge.svg\" alt=\"Open In Colab\"/></a>"
      ]
    },
    {
      "cell_type": "markdown",
      "id": "602c7c76",
      "metadata": {
        "id": "602c7c76"
      },
      "source": [
        "# Curso de Programación de Computadores en Python\n",
        "## Strings y Listas en Python\n",
        "#### Universidad Nacional de Colombia\n",
        "\n",
        "---\n",
        "\n",
        "## Objetivos\n",
        "\n",
        "- Aprender a recorrer cadenas carácter por carácter y con índices.\n",
        "- Dominar operaciones de búsqueda sobre cadenas (`in`, `find`, `index`, `count`, `startswith`, `endswith`) y una introducción a `re` para búsquedas avanzadas.\n",
        "- Conocer listas en profundidad: creación, indexación, slices, modificación, métodos (`append`, `extend`, `insert`, `remove`, `pop`, `clear`, `sort`, `reverse`), operaciones (concatenación, repetición), y comprensión de listas.\n",
        "- Resolver ejercicios prácticos dentro del notebook con esqueletos y soluciones de referencia.\n",
        "\n",
        "---\n"
      ]
    },
    {
      "cell_type": "markdown",
      "id": "52443278",
      "metadata": {
        "id": "52443278"
      },
      "source": [
        "## 🔧 Cómo usar este notebook\n",
        "\n",
        "- Ejecuta las celdas de código con `Shift+Enter`.\n",
        "- Cada sección tiene: explicación, ejemplos ejecutables, ejercicios (esqueleto) y una solución de referencia (debajo).\n",
        "- Intenta completar los ejercicios antes de ejecutar las soluciones.\n",
        "\n",
        "¡A programar! 🚀\n"
      ]
    },
    {
      "cell_type": "markdown",
      "id": "6fd56343",
      "metadata": {
        "id": "6fd56343"
      },
      "source": [
        "## 🗂️ Contenido\n",
        "\n",
        "1. Recorrido de cadenas (String traversal)\n",
        "2. Operaciones de búsqueda (Search operations)\n",
        "3. Listas: creación, indexación, modificación y operaciones\n",
        "4. Ejercicios combinados\n",
        "5. Tips, recomendaciones y recursos\n"
      ]
    },
    {
      "cell_type": "markdown",
      "id": "7589e7b0",
      "metadata": {
        "id": "7589e7b0"
      },
      "source": [
        "# 1️⃣ Recorrido de cadenas (String traversal)\n",
        "\n",
        "Recorrer una cadena significa visitar cada carácter para procesarlo. En Python hay varias formas:\n",
        "\n",
        "- Acceso por índice: `s[i]`.\n",
        "- Bucle `for ch in s:` para recorrer caracteres.\n",
        "- `for i, ch in enumerate(s):` si también necesitas el índice.\n",
        "- `while` con índice para control manual.\n",
        "- Usar iteradores y funciones como `iter()`.\n",
        "\n",
        "Vamos a ver más a fondo las diferentes formas de recorrer cadenas."
      ]
    },
    {
      "cell_type": "markdown",
      "source": [
        "Los _strings_ son prácticamente contenedores de caracteres, por lo que pueden ser recorridos y se pueden efectuar búsquedas utilizando bucles:"
      ],
      "metadata": {
        "id": "M1DvsMJO9gga"
      },
      "id": "M1DvsMJO9gga"
    },
    {
      "cell_type": "code",
      "source": [
        "fruta = \"manzana\"\n",
        "contador = 0\n",
        "while contador < len(fruta):\n",
        "    letra = fruta[contador]\n",
        "    print(letra)\n",
        "    contador += 1"
      ],
      "metadata": {
        "id": "q3SFgxZq9ggb",
        "colab": {
          "base_uri": "https://localhost:8080/"
        },
        "outputId": "d81c98aa-9ef2-4c71-a02c-fd07d851a9fb"
      },
      "execution_count": null,
      "outputs": [
        {
          "output_type": "stream",
          "name": "stdout",
          "text": [
            "m\n",
            "a\n",
            "n\n",
            "z\n",
            "a\n",
            "n\n",
            "a\n"
          ]
        }
      ],
      "id": "q3SFgxZq9ggb"
    },
    {
      "cell_type": "markdown",
      "source": [
        "### Operador `in`"
      ],
      "metadata": {
        "id": "By3b0warocOV"
      },
      "id": "By3b0warocOV"
    },
    {
      "cell_type": "markdown",
      "source": [
        "* El operador lógico `in` permite comparar dos cadenas de caracteres, siendo `True` cuando la primera es una subcadena de la segunda.\n",
        "* Y también como hemos visto antes, se utiliza con los bucles `for`, para realizar el recorrido de un contenedor, en este caso un _string_."
      ],
      "metadata": {
        "id": "vICt5SJ2o0Bs"
      },
      "id": "vICt5SJ2o0Bs"
    },
    {
      "cell_type": "code",
      "source": [
        "cadena = \"manzana\"\n",
        "subcadena = \"manz\" # o cadena[:4]\n",
        "print(subcadena in cadena)"
      ],
      "metadata": {
        "colab": {
          "base_uri": "https://localhost:8080/"
        },
        "id": "_skgI1kDpoci",
        "outputId": "b4aa3300-42c0-41dc-f883-97bf87a50628"
      },
      "execution_count": null,
      "outputs": [
        {
          "output_type": "stream",
          "name": "stdout",
          "text": [
            "True\n"
          ]
        }
      ],
      "id": "_skgI1kDpoci"
    },
    {
      "cell_type": "code",
      "source": [
        "cadena = \"manzana\"\n",
        "subcadena_2 = \"ban\"\n",
        "print(subcadena_2 in cadena)"
      ],
      "metadata": {
        "colab": {
          "base_uri": "https://localhost:8080/"
        },
        "id": "Jqmocx8_p9Ft",
        "outputId": "cb0d8f86-12ac-4bc4-99d1-5ec8ea693beb"
      },
      "execution_count": null,
      "outputs": [
        {
          "output_type": "stream",
          "name": "stdout",
          "text": [
            "False\n"
          ]
        }
      ],
      "id": "Jqmocx8_p9Ft"
    },
    {
      "cell_type": "markdown",
      "source": [
        "Y para realizar el recorrido de la cadena con un `for` lo realizamos así:"
      ],
      "metadata": {
        "id": "60_jYg-epgDG"
      },
      "id": "60_jYg-epgDG"
    },
    {
      "cell_type": "code",
      "source": [
        "# Utilizando for\n",
        "fruta = \"manzana\"\n",
        "for letra in fruta:\n",
        "    print(letra)"
      ],
      "metadata": {
        "colab": {
          "base_uri": "https://localhost:8080/"
        },
        "id": "cVEMRScsocOX",
        "outputId": "f7f2b731-91e9-47bb-c701-77168bd74dbc"
      },
      "execution_count": null,
      "outputs": [
        {
          "output_type": "stream",
          "name": "stdout",
          "text": [
            "m\n",
            "a\n",
            "n\n",
            "z\n",
            "a\n",
            "n\n",
            "a\n"
          ]
        }
      ],
      "id": "cVEMRScsocOX"
    },
    {
      "cell_type": "markdown",
      "source": [
        "### Conteo de caracteres"
      ],
      "metadata": {
        "id": "7IBZBXbioYqw"
      },
      "id": "7IBZBXbioYqw"
    },
    {
      "cell_type": "markdown",
      "source": [
        "Los _strings_ al ser contenedores de caracteres, se pueden recorrer y comparar, por ejemplo, para contar las veces que determinado caracter aparece en la cadena:"
      ],
      "metadata": {
        "id": "NahMddyqrEXm"
      },
      "id": "NahMddyqrEXm"
    },
    {
      "cell_type": "code",
      "source": [
        "fruta = \"manzana\"\n",
        "contador = 0\n",
        "for letra in fruta:\n",
        "    if letra == \"a\": # Revisa si \"a\" aparece en \"manzana\"\n",
        "        contador += 1\n",
        "\n",
        "print(f\"La letra 'a' se encuentra en '{fruta}' {contador} veces :)\")"
      ],
      "metadata": {
        "colab": {
          "base_uri": "https://localhost:8080/"
        },
        "id": "LeFT7mCgobi4",
        "outputId": "88956e70-7e86-4b8e-9ebe-c27e37137e8a"
      },
      "execution_count": null,
      "outputs": [
        {
          "output_type": "stream",
          "name": "stdout",
          "text": [
            "La letra 'a' se encuentra en 'manzana' 3 veces :)\n"
          ]
        }
      ],
      "id": "LeFT7mCgobi4"
    },
    {
      "cell_type": "code",
      "execution_count": null,
      "id": "14086954",
      "metadata": {
        "colab": {
          "base_uri": "https://localhost:8080/"
        },
        "id": "14086954",
        "outputId": "ba81b22d-f826-437e-9540-a2c4fdc24ac8"
      },
      "outputs": [
        {
          "output_type": "stream",
          "name": "stdout",
          "text": [
            "P y t h o n \n",
            "\n",
            "0 P\n",
            "1 y\n",
            "2 t\n",
            "3 h\n",
            "4 o\n",
            "5 n\n",
            "\n",
            "P y t h o n \n",
            "\n",
            "Transformada: PythOn\n"
          ]
        }
      ],
      "source": [
        "# Ejemplos de recorrido\n",
        "s = 'Python'\n",
        "\n",
        "# 1) for básico\n",
        "for ch in s:\n",
        "    print(ch, end=' ')\n",
        "print('\\n')\n",
        "\n",
        "# 2) enumerate para obtener índice\n",
        "for i, ch in enumerate(s):\n",
        "    print(i, ch)\n",
        "print()\n",
        "\n",
        "# 3) while con índice\n",
        "i = 0\n",
        "while i < len(s):\n",
        "    print(s[i], end=' ')\n",
        "    i += 1\n",
        "print('\\n')\n",
        "\n",
        "# 4) construir nueva cadena (ejemplo: mayúsculas manualmente)\n",
        "res = ''  #acumulador\n",
        "for ch in s:\n",
        "    if ch in 'aeiou':\n",
        "        res += ch.upper()\n",
        "    else:\n",
        "        res += ch\n",
        "print('Transformada:', res)\n"
      ]
    },
    {
      "cell_type": "markdown",
      "id": "f6ae207f",
      "metadata": {
        "id": "f6ae207f"
      },
      "source": [
        "### ✍️ Ejercicio 1 — Contar vocales y consonantes (Esqueleto)\n",
        "\n",
        "Implementa la función `contar_vocales_consonantes(s)` que recorra la cadena `s` y retorne una tupla `(vocales, consonantes)` con las cantidades. Ignora caracteres que no sean letras.\n"
      ]
    },
    {
      "cell_type": "code",
      "execution_count": null,
      "id": "9a2184d1",
      "metadata": {
        "id": "9a2184d1",
        "colab": {
          "base_uri": "https://localhost:8080/"
        },
        "outputId": "be66bf9f-bafc-4238-b9a3-a175a12c9222"
      },
      "outputs": [
        {
          "output_type": "stream",
          "name": "stdout",
          "text": [
            "(4, 5)\n"
          ]
        }
      ],
      "source": [
        "# Esqueleto ejercicio 1\n",
        "\n",
        "def contar_vocales_consonantes(s):\n",
        "    # TODO: inicializar contadores\n",
        "    vocales, consonantes = 0,0\n",
        "    # recorrer la cadena y actualizar contadores\n",
        "    VOCALES = 'aeiouAEIOU'\n",
        "    for letra in s:\n",
        "      if letra in VOCALES:\n",
        "        vocales += 1\n",
        "      elif letra.isalpha() and letra not in VOCALES:\n",
        "        consonantes += 1\n",
        "      else:\n",
        "        continue\n",
        "    # retornar (vocales, consonantes)\n",
        "    return (vocales, consonantes)\n",
        "\n",
        "\n",
        "# Prueba sugerida (descomentar después de implementar):\n",
        "print(contar_vocales_consonantes('Hola Mundo!'))  # (4,5)\n"
      ]
    },
    {
      "cell_type": "markdown",
      "id": "45ed07f4",
      "metadata": {
        "id": "45ed07f4"
      },
      "source": [
        "# 2️⃣ Operaciones de búsqueda (Search operations)\n",
        "\n",
        "Buscar dentro de cadenas es muy común. Herramientas básicas:\n",
        "\n",
        "- `in`: operador para verificar existencia (`'py' in s`).\n",
        "- `s.find(sub)`: devuelve índice de primera ocurrencia o `-1` si no existe.\n",
        "- `s.rfind(sub)`: devuelve índice de la última ocurrencia.\n",
        "- `s.index(sub)`: como `find` pero lanza `ValueError` si no encuentra.\n",
        "- `s.count(sub)`: cuenta apariciones.\n",
        "- `s.startswith(prefijo)`, `s.endswith(sufijo)`.\n",
        "- Para búsquedas avanzadas: `re.search`, `re.findall` (expresiones regulares).\n",
        "\n",
        "Ten en cuenta mayúsculas/minúsculas: a menudo conviene normalizar con `lower()`.\n"
      ]
    },
    {
      "cell_type": "markdown",
      "source": [
        "Podemos crear una función de búsqueda que retorne `-1` si determinada letra no se encuentra en la cadena, y el índice cuando encuentra la letra:"
      ],
      "metadata": {
        "id": "HhzsiGu5rd3t"
      },
      "id": "HhzsiGu5rd3t"
    },
    {
      "cell_type": "code",
      "source": [
        "# Definir función\n",
        "def encontrar_1(palabra, letra):\n",
        "    indice = 0\n",
        "    while indice < len(palabra):\n",
        "        if palabra[indice] == letra:\n",
        "            return indice\n",
        "        indice += 1\n",
        "    return -1\n",
        "\n",
        "# Llamar función\n",
        "encontrar_1(palabra=\"manzana roja\", letra=\"e\")"
      ],
      "metadata": {
        "colab": {
          "base_uri": "https://localhost:8080/"
        },
        "id": "a5OeTUZbocCl",
        "outputId": "1f4cb4da-cb98-4308-c534-746392b81ba1"
      },
      "execution_count": null,
      "outputs": [
        {
          "output_type": "execute_result",
          "data": {
            "text/plain": [
              "-1"
            ]
          },
          "metadata": {},
          "execution_count": 6
        }
      ],
      "id": "a5OeTUZbocCl"
    },
    {
      "cell_type": "markdown",
      "source": [
        "Con `for` sería de esta forma:"
      ],
      "metadata": {
        "id": "J4C66dlLsxjp"
      },
      "id": "J4C66dlLsxjp"
    },
    {
      "cell_type": "code",
      "source": [
        "# Definir función\n",
        "def encontrar_2(palabra, letra):\n",
        "    for i in range(0, len(palabra)):\n",
        "        if palabra[i] == letra:\n",
        "            return i\n",
        "    return -1\n",
        "\n",
        "# Llamar función\n",
        "encontrar_2(palabra=\"manzana roja\", letra=\"r\")"
      ],
      "metadata": {
        "colab": {
          "base_uri": "https://localhost:8080/"
        },
        "id": "RcqUi3UCs05d",
        "outputId": "4e6542ca-dc07-45a2-ff8d-34d4912f7323"
      },
      "execution_count": null,
      "outputs": [
        {
          "output_type": "execute_result",
          "data": {
            "text/plain": [
              "8"
            ]
          },
          "metadata": {},
          "execution_count": 86
        }
      ],
      "id": "RcqUi3UCs05d"
    },
    {
      "cell_type": "markdown",
      "source": [
        "### Con funciones predefinidas"
      ],
      "metadata": {
        "id": "7dSA_dLptX6N"
      },
      "id": "7dSA_dLptX6N"
    },
    {
      "cell_type": "markdown",
      "source": [
        "* En Python ya hay una serie de funciones predefinidas que nos permiten realizar conteos y búsquedas en las cadenas de caracteres.\n",
        "* Para contar las ocurrencias utilizamos a `count()` y para buscar a `find()` o `index()` si queremos el índice.\n",
        "* Empezemos con un ejemplo de conteo:"
      ],
      "metadata": {
        "id": "7Bzui4sbtm5l"
      },
      "id": "7Bzui4sbtm5l"
    },
    {
      "cell_type": "code",
      "source": [
        "# Conteo de caracteres\n",
        "fruta = \"manzana\"\n",
        "conteo = fruta.count(\"a\")\n",
        "print(f\"La letra 'a' se encuentra en '{fruta}' {conteo} veces :)\")"
      ],
      "metadata": {
        "colab": {
          "base_uri": "https://localhost:8080/"
        },
        "id": "lutVasYptXhL",
        "outputId": "fa955ebc-203f-4a9f-dc63-c45fae2a839d"
      },
      "execution_count": null,
      "outputs": [
        {
          "output_type": "stream",
          "name": "stdout",
          "text": [
            "La letra 'a' se encuentra en 'manzana' 3 veces :)\n"
          ]
        }
      ],
      "id": "lutVasYptXhL"
    },
    {
      "cell_type": "markdown",
      "source": [
        "Que puede ser extendido con más de un carácter:"
      ],
      "metadata": {
        "id": "OJx0BRiPuhmk"
      },
      "id": "OJx0BRiPuhmk"
    },
    {
      "cell_type": "code",
      "source": [
        "# Conteo de caracteres\n",
        "fruta = \"manzana roja roja\"\n",
        "conteo = fruta.count(\"roja\")\n",
        "print(f\"La palabra 'roja' se encuentra en '{fruta}' {conteo} veces :)\")"
      ],
      "metadata": {
        "colab": {
          "base_uri": "https://localhost:8080/"
        },
        "id": "DSuTwSDZupOH",
        "outputId": "f98afcc9-4f0c-4dcd-8026-c6b3fe37361c"
      },
      "execution_count": null,
      "outputs": [
        {
          "output_type": "stream",
          "name": "stdout",
          "text": [
            "La palabra 'roja' se encuentra en 'manzana roja roja' 2 veces :)\n"
          ]
        }
      ],
      "id": "DSuTwSDZupOH"
    },
    {
      "cell_type": "markdown",
      "source": [
        "Ahora para buscar, podemos hacerlo con `find()` que retorna -1 si no se encuentra:"
      ],
      "metadata": {
        "id": "uCYnHGqOutEd"
      },
      "id": "uCYnHGqOutEd"
    },
    {
      "cell_type": "code",
      "source": [
        "# Búsqueda\n",
        "fruta = \"manzana roja\"\n",
        "indice = fruta.find(\"b\") # prueba con fruta.find(\"b\")\n",
        "print(f\"La letra 'b' se encuentra en la posición {indice}\")"
      ],
      "metadata": {
        "colab": {
          "base_uri": "https://localhost:8080/"
        },
        "id": "_sp7K8yJuWKv",
        "outputId": "f3c87211-78ee-4bb4-81a8-fec306c18489"
      },
      "execution_count": null,
      "outputs": [
        {
          "output_type": "stream",
          "name": "stdout",
          "text": [
            "La letra 'b' se encuentra en la posición -1\n"
          ]
        }
      ],
      "id": "_sp7K8yJuWKv"
    },
    {
      "cell_type": "markdown",
      "source": [
        "O con `index()` que retorna un error si no se encuentra:"
      ],
      "metadata": {
        "id": "ybttFeYy5Czy"
      },
      "id": "ybttFeYy5Czy"
    },
    {
      "cell_type": "code",
      "source": [
        "# Búsqueda\n",
        "fruta = \"manzana roja\"\n",
        "indice = fruta.index(\"b\") # prueba con fruta.index(\"b\")\n",
        "print(f\"La letra 'r' se encuentra en la posición {indice}\")"
      ],
      "metadata": {
        "colab": {
          "base_uri": "https://localhost:8080/",
          "height": 197
        },
        "outputId": "a6253b41-bfe4-4f3c-e3c6-682ed9298619",
        "id": "kbsTwYI45Cz3"
      },
      "execution_count": null,
      "outputs": [
        {
          "output_type": "error",
          "ename": "ValueError",
          "evalue": "substring not found",
          "traceback": [
            "\u001b[0;31m---------------------------------------------------------------------------\u001b[0m",
            "\u001b[0;31mValueError\u001b[0m                                Traceback (most recent call last)",
            "\u001b[0;32m<ipython-input-25-71ea1099fcd0>\u001b[0m in \u001b[0;36m<cell line: 0>\u001b[0;34m()\u001b[0m\n\u001b[1;32m      1\u001b[0m \u001b[0;31m# Búsqueda\u001b[0m\u001b[0;34m\u001b[0m\u001b[0;34m\u001b[0m\u001b[0m\n\u001b[1;32m      2\u001b[0m \u001b[0mfruta\u001b[0m \u001b[0;34m=\u001b[0m \u001b[0;34m\"manzana roja\"\u001b[0m\u001b[0;34m\u001b[0m\u001b[0;34m\u001b[0m\u001b[0m\n\u001b[0;32m----> 3\u001b[0;31m \u001b[0mindice\u001b[0m \u001b[0;34m=\u001b[0m \u001b[0mfruta\u001b[0m\u001b[0;34m.\u001b[0m\u001b[0mindex\u001b[0m\u001b[0;34m(\u001b[0m\u001b[0;34m\"b\"\u001b[0m\u001b[0;34m)\u001b[0m \u001b[0;31m# prueba con fruta.index(\"b\")\u001b[0m\u001b[0;34m\u001b[0m\u001b[0;34m\u001b[0m\u001b[0m\n\u001b[0m\u001b[1;32m      4\u001b[0m \u001b[0mprint\u001b[0m\u001b[0;34m(\u001b[0m\u001b[0;34mf\"La letra 'r' se encuentra en la posición {indice}\"\u001b[0m\u001b[0;34m)\u001b[0m\u001b[0;34m\u001b[0m\u001b[0;34m\u001b[0m\u001b[0m\n",
            "\u001b[0;31mValueError\u001b[0m: substring not found"
          ]
        }
      ],
      "id": "kbsTwYI45Cz3"
    },
    {
      "cell_type": "code",
      "execution_count": null,
      "id": "47d8a2e2",
      "metadata": {
        "id": "47d8a2e2",
        "colab": {
          "base_uri": "https://localhost:8080/"
        },
        "outputId": "889aadaa-183d-4267-82fd-2998310dfb82"
      },
      "outputs": [
        {
          "output_type": "stream",
          "name": "stdout",
          "text": [
            "in -> True\n",
            "find -> 1\n",
            "rfind -> 8\n",
            "count -> 2\n",
            "index -> ValueError (no encontrado):[substring not found]\n",
            "startswith a -> True\n",
            "endswith ra -> True\n",
            "findall regex -> ['abracadabra']\n"
          ]
        }
      ],
      "source": [
        "# Ejemplos de búsqueda\n",
        "texto = 'abracadabra'\n",
        "print('in ->', 'cada' in texto)\n",
        "print('find ->', texto.find('bra'))\n",
        "print('rfind ->', texto.rfind('bra'))\n",
        "print('count ->', texto.count('bra'))\n",
        "try:\n",
        "    print('index ->', texto.index('xyz'))\n",
        "except ValueError as e:\n",
        "    print(f'index -> ValueError (no encontrado):[{e}]')\n",
        "\n",
        "print('startswith a ->', texto.startswith('a'))\n",
        "print('endswith ra ->', texto.endswith('ra'))\n",
        "\n",
        "# Regex: encontrar palabras que empiecen con 'a' y terminen con 'a'\n",
        "import re\n",
        "print('findall regex ->', re.findall(r'a[^ ]*a', texto))\n"
      ]
    },
    {
      "cell_type": "markdown",
      "id": "bddb1524",
      "metadata": {
        "id": "bddb1524"
      },
      "source": [
        "### ✍️ Ejercicio 2 — Buscar y validar (Esqueleto)\n",
        "\n",
        "Implementa `buscar_palabra(texto, palabra)` que retorne una tupla con:\n",
        "- `esta` (True/False si la palabra aparece como substring)\n",
        "- `primera_pos` (índice o -1)\n",
        "- `veces` (cantidad de apariciones)\n",
        "\n",
        "**Nota:** debes buscar la palabra ignorando mayúsculas/minúsculas.\n"
      ]
    },
    {
      "cell_type": "code",
      "execution_count": null,
      "id": "1345c681",
      "metadata": {
        "id": "1345c681",
        "colab": {
          "base_uri": "https://localhost:8080/"
        },
        "outputId": "cff95663-5346-4b97-ff49-7555895f7126"
      },
      "outputs": [
        {
          "output_type": "stream",
          "name": "stdout",
          "text": [
            "(True, 0, 2)\n"
          ]
        }
      ],
      "source": [
        "# Esqueleto ejercicio 2\n",
        "\n",
        "def buscar_palabra(texto, palabra):\n",
        "    # TODO: normalizar mayúsculas\n",
        "    texto = texto.upper()\n",
        "    palabra = palabra.upper()\n",
        "    # TODO: usar in, find, count\n",
        "    esta = palabra in texto\n",
        "    primera_pos = texto.find(palabra)\n",
        "    veces = texto.count(palabra)\n",
        "    # retornar (esta, primera_pos, veces)\n",
        "    return (esta, primera_pos, veces)\n",
        "\n",
        "# Pruebas sugeridas:\n",
        "print(buscar_palabra('Hello world, hello', 'hello'))  # (True, 0, 2)\n"
      ]
    },
    {
      "cell_type": "markdown",
      "id": "62313ab1",
      "metadata": {
        "id": "62313ab1"
      },
      "source": [
        "# 3️⃣ Listas: creación, indexación, modificación y operaciones\n",
        "\n",
        "Las listas son estructuras mutables y ordenadas. Permiten almacenar cualquier tipo de dato y anidación.\n",
        "\n",
        "**Creación:**\n",
        "- Literal: `[]`, `['a', 'b']`\n",
        "- Constructor: `list(iterable)`\n",
        "\n",
        "**Indexación y slicing:** `l[i]`, `l[-1]`, `l[1:4]`\n",
        "\n",
        "**Modificación:**\n",
        "- Métodos: `append`, `extend`, `insert`, `remove`, `pop`, `clear`, `sort`, `reverse`\n",
        "- Operaciones: concatenación `+`, repetición `*`, membresía `in`, len()\n",
        "\n",
        "**Comprensión de listas:** `[f(x) for x in iterable if cond]` — poderosa y concisa.\n"
      ]
    },
    {
      "cell_type": "markdown",
      "source": [
        "---\n",
        "### Definición"
      ],
      "metadata": {
        "id": "00urmuuKf248"
      },
      "id": "00urmuuKf248"
    },
    {
      "cell_type": "markdown",
      "source": [
        "* Al igual que una cadena de caracteres, una lista es una secuencia de valores con índices asociados.\n",
        "* Los valores pueden ser de cualquier tipo (numérico, booleano, string...).\n",
        "* A cada valor contenido en una lista, se le denomina elemento o ítem.\n",
        "* Las listas se definen con un par de corchetes y los elementos se separan mediante comas. Véamos un ejemplo con valores numéricos:"
      ],
      "metadata": {
        "id": "ahN-Z7W1bl2v"
      },
      "id": "ahN-Z7W1bl2v"
    },
    {
      "cell_type": "code",
      "execution_count": null,
      "metadata": {
        "colab": {
          "base_uri": "https://localhost:8080/"
        },
        "id": "H62ujnHFYmoq",
        "outputId": "f27c7009-08c0-4440-af00-b9f55fc20ca1"
      },
      "outputs": [
        {
          "output_type": "stream",
          "name": "stdout",
          "text": [
            "[1, 2, 3]\n",
            "<class 'list'>\n",
            "0\n",
            "<class 'list'>\n",
            "7\n",
            "['n', 'a', 'r', 'a', 'n', 'j', 'a']\n",
            "<class 'list'>\n",
            "5\n",
            "[5, 4, 3, 2, 1]\n"
          ]
        }
      ],
      "source": [
        "lista_nums = [1, 2, 3]\n",
        "print(lista_nums)\n",
        "\n",
        "a = []\n",
        "print(type(a))\n",
        "print(len(a))\n",
        "\n",
        "a = list(\"naranja\")\n",
        "print(type(a))\n",
        "print(len(a))\n",
        "print(a)\n",
        "\n",
        "a = list(range(5,0,-1))\n",
        "print(type(a))\n",
        "print(len(a))\n",
        "print(a)\n"
      ],
      "id": "H62ujnHFYmoq"
    },
    {
      "cell_type": "markdown",
      "source": [
        "Pero como decíamos, las listas pueden almacenar cualquier tipo de dato:"
      ],
      "metadata": {
        "id": "psxpea_1cfq0"
      },
      "id": "psxpea_1cfq0"
    },
    {
      "cell_type": "code",
      "source": [
        "lista_frutas = [\"naranja\", \"banano\", \"kiwi\"]\n",
        "print(lista_frutas)"
      ],
      "metadata": {
        "colab": {
          "base_uri": "https://localhost:8080/"
        },
        "id": "wlxZY5QOcf4W",
        "outputId": "7de0e991-2683-454a-82c6-8ed5737962e4"
      },
      "execution_count": null,
      "outputs": [
        {
          "output_type": "stream",
          "name": "stdout",
          "text": [
            "['naranja', 'banano', 'kiwi']\n"
          ]
        }
      ],
      "id": "wlxZY5QOcf4W"
    },
    {
      "cell_type": "markdown",
      "source": [
        "Incluso pueden almacenar diferentes tipos de datos al mismo tiempo:"
      ],
      "metadata": {
        "id": "nHRLqcFEdCym"
      },
      "id": "nHRLqcFEdCym"
    },
    {
      "cell_type": "code",
      "source": [
        "lista_combinada = [5.0, \"naranja\", False]\n",
        "print(lista_combinada)\n",
        "print(type(lista_combinada))\n",
        "for elemento in lista_combinada:\n",
        "  print(type(elemento))\n"
      ],
      "metadata": {
        "colab": {
          "base_uri": "https://localhost:8080/"
        },
        "id": "DOc1_FLadKD2",
        "outputId": "944f6b94-44a1-4c03-e8a2-1265bd9e1334"
      },
      "execution_count": null,
      "outputs": [
        {
          "output_type": "stream",
          "name": "stdout",
          "text": [
            "[5.0, 'naranja', False]\n",
            "<class 'list'>\n",
            "<class 'float'>\n",
            "<class 'str'>\n",
            "<class 'bool'>\n"
          ]
        }
      ],
      "id": "DOc1_FLadKD2"
    },
    {
      "cell_type": "markdown",
      "source": [
        "Y se pueden tener listas dentro de listas, que se denomina listas anidadas:"
      ],
      "metadata": {
        "id": "_qPBV0cadQmA"
      },
      "id": "_qPBV0cadQmA"
    },
    {
      "cell_type": "code",
      "source": [
        "lista_anidada = [\"naranja\", \"kiwi\", [\"manzana roja\", \"manzana verde\"]]\n",
        "print(lista_anidada)\n",
        "for elemento in lista_anidada:\n",
        "  print(type(elemento))\n",
        "print(lista_anidada[0])\n",
        "print(lista_anidada[1])\n",
        "print(lista_anidada[2])\n",
        "print(lista_anidada[2][0])\n",
        "print(lista_anidada[2][1])"
      ],
      "metadata": {
        "colab": {
          "base_uri": "https://localhost:8080/"
        },
        "id": "Qx4gSDpndUTw",
        "outputId": "2bc2717e-c930-4c6a-897e-96b19f90a8ca"
      },
      "execution_count": null,
      "outputs": [
        {
          "output_type": "stream",
          "name": "stdout",
          "text": [
            "['naranja', 'kiwi', ['manzana roja', 'manzana verde']]\n",
            "<class 'str'>\n",
            "<class 'str'>\n",
            "<class 'list'>\n",
            "naranja\n",
            "kiwi\n",
            "['manzana roja', 'manzana verde']\n",
            "manzana roja\n",
            "manzana verde\n"
          ]
        }
      ],
      "id": "Qx4gSDpndUTw"
    },
    {
      "cell_type": "markdown",
      "source": [
        "Así mismo, una forma reducida para crear una lista con valores numéricos, se realiza de esta forma:"
      ],
      "metadata": {
        "id": "IcBnoVYJsUzx"
      },
      "id": "IcBnoVYJsUzx"
    },
    {
      "cell_type": "code",
      "source": [
        "print(list(range(0, 10, 2)))\n",
        "\n",
        "lista_nums = [num + 5 for num in range(0, 10, 2)]\n",
        "print(lista_nums)\n",
        "\n",
        "lista_nums = [num * num  for num in range(0, 16, 3)]\n",
        "print(lista_nums)"
      ],
      "metadata": {
        "colab": {
          "base_uri": "https://localhost:8080/"
        },
        "id": "VKDjQO4Tshjr",
        "outputId": "c95dc69a-5eeb-4bab-fbcb-c509c7d9ccfa"
      },
      "execution_count": null,
      "outputs": [
        {
          "output_type": "stream",
          "name": "stdout",
          "text": [
            "[0, 2, 4, 6, 8]\n",
            "[5, 7, 9, 11, 13]\n",
            "[0, 9, 36, 81, 144, 225]\n"
          ]
        }
      ],
      "id": "VKDjQO4Tshjr"
    },
    {
      "cell_type": "markdown",
      "source": [
        "A lo anterior, se le denomina _list comprehension_ o comprensión de lista, y se puede extender con condicionales:"
      ],
      "metadata": {
        "id": "H9KWZiittARO"
      },
      "id": "H9KWZiittARO"
    },
    {
      "cell_type": "code",
      "source": [
        "# Lista de frutas\n",
        "lista_frutas = [\"naranja\", \"banano\", \"kiwi\"]\n",
        "\n",
        "# Lista nueva\n",
        "lista_nueva = [fruta for fruta in lista_frutas if \"a\" in fruta]\n",
        "print(lista_nueva)\n",
        "\n",
        "# Lista nueva\n",
        "lista_nueva = [fruta for fruta in lista_frutas if len(fruta) < 7]\n",
        "print(lista_nueva)"
      ],
      "metadata": {
        "colab": {
          "base_uri": "https://localhost:8080/"
        },
        "id": "G2EY3t_rtGzG",
        "outputId": "5ea61198-4634-45b5-fabc-0ca6f3467fd4"
      },
      "execution_count": null,
      "outputs": [
        {
          "output_type": "stream",
          "name": "stdout",
          "text": [
            "['naranja', 'banano']\n",
            "['banano', 'kiwi']\n"
          ]
        }
      ],
      "id": "G2EY3t_rtGzG"
    },
    {
      "cell_type": "code",
      "source": [
        "lista_frutas = [\"naranja\", \"banano\", \"kiwi\"]\n",
        "\n",
        "for fruta in lista_frutas:\n",
        "    if \"a\" in fruta:\n",
        "        print(fruta)"
      ],
      "metadata": {
        "colab": {
          "base_uri": "https://localhost:8080/"
        },
        "id": "J20Avtj5L_tw",
        "outputId": "aa50c384-c130-4928-cb40-c5ee66d6fc40"
      },
      "execution_count": null,
      "outputs": [
        {
          "output_type": "stream",
          "name": "stdout",
          "text": [
            "naranja\n",
            "banano\n"
          ]
        }
      ],
      "id": "J20Avtj5L_tw"
    },
    {
      "cell_type": "markdown",
      "source": [
        "---\n",
        "### Operaciones"
      ],
      "metadata": {
        "id": "zJT1X7fMekm_"
      },
      "id": "zJT1X7fMekm_"
    },
    {
      "cell_type": "markdown",
      "source": [
        "Al igual que los _strings_, las listas en principio no se pueden operar, peeero existen dos excepciones:\n",
        "  * ``+`` que concatena o une dos o más listas.\n",
        "  * ``*`` que repite $n$ veces una lista."
      ],
      "metadata": {
        "id": "_BfpKtfayMGd"
      },
      "id": "_BfpKtfayMGd"
    },
    {
      "cell_type": "code",
      "execution_count": null,
      "metadata": {
        "colab": {
          "base_uri": "https://localhost:8080/"
        },
        "id": "xB9WHaqte__w",
        "outputId": "8ab315d7-86ce-48e0-9cb3-c568f1e89421"
      },
      "outputs": [
        {
          "output_type": "stream",
          "name": "stdout",
          "text": [
            "['naranja', 'banano', 'kiwi', 'mandarina', 'pera', 'durazno']\n"
          ]
        }
      ],
      "source": [
        "# Concatenación\n",
        "lista_1 = [\"naranja\", \"banano\", \"kiwi\"]\n",
        "lista_2 = [\"mandarina\", \"pera\", \"durazno\"]\n",
        "nueva_lista = lista_1 + lista_2\n",
        "print(nueva_lista)"
      ],
      "id": "xB9WHaqte__w"
    },
    {
      "cell_type": "code",
      "source": [
        "# Repetición\n",
        "lista = [1, 2, 3]\n",
        "nueva_lista = lista * 3\n",
        "print(nueva_lista)"
      ],
      "metadata": {
        "colab": {
          "base_uri": "https://localhost:8080/"
        },
        "id": "o4MAXnjR8WhJ",
        "outputId": "7612504a-5da0-4853-bfaa-9ea2a58b6e7c"
      },
      "execution_count": null,
      "outputs": [
        {
          "output_type": "stream",
          "name": "stdout",
          "text": [
            "[1, 2, 3, 1, 2, 3, 1, 2, 3]\n"
          ]
        }
      ],
      "id": "o4MAXnjR8WhJ"
    },
    {
      "cell_type": "markdown",
      "source": [
        "Y como cualquier variable que se cree, con las listas se pueden utilizar operaciones relacionales y lógicos:"
      ],
      "metadata": {
        "id": "edtpPbox86ex"
      },
      "id": "edtpPbox86ex"
    },
    {
      "cell_type": "code",
      "source": [
        "lista_1 = [\"naranja\", \"banano\", \"kiwi\"]\n",
        "lista_2 = [\"mandarina\", \"pera\", \"durazno\"]\n",
        "lista_3 = [\"naranja\", \"banano\", \"kiwi\"]\n",
        "\n",
        "print(lista_1 == lista_2)\n",
        "print(lista_1 == lista_3)\n",
        "print(lista_1 is lista_3)\n",
        "lista_3 = lista_1\n",
        "print(lista_1 is lista_3)"
      ],
      "metadata": {
        "colab": {
          "base_uri": "https://localhost:8080/"
        },
        "id": "jDCt7XYw9HyP",
        "outputId": "c738e80a-b51d-43ef-dc66-662f2cebd70b"
      },
      "execution_count": null,
      "outputs": [
        {
          "output_type": "stream",
          "name": "stdout",
          "text": [
            "False\n",
            "True\n",
            "False\n",
            "True\n"
          ]
        }
      ],
      "id": "jDCt7XYw9HyP"
    },
    {
      "cell_type": "code",
      "source": [
        "lista_1 = [\"naranja\", \"banano\", \"kiwi\"]\n",
        "lista_2 = [\"mandarina\", \"pera\", \"durazno\"]\n",
        "lista_3 = [\"uva\", \"fresa\", \"mora\"]\n",
        "print(lista_1 != lista_2 and lista_1 != lista_3)"
      ],
      "metadata": {
        "colab": {
          "base_uri": "https://localhost:8080/"
        },
        "id": "u08akDVC9N4E",
        "outputId": "4e83c053-026a-4485-be68-372d26170603"
      },
      "execution_count": null,
      "outputs": [
        {
          "output_type": "stream",
          "name": "stdout",
          "text": [
            "True\n"
          ]
        }
      ],
      "id": "u08akDVC9N4E"
    },
    {
      "cell_type": "markdown",
      "source": [
        "---\n",
        "### Indexación de elementos"
      ],
      "metadata": {
        "id": "2frLdPGMeWVf"
      },
      "id": "2frLdPGMeWVf"
    },
    {
      "cell_type": "markdown",
      "source": [
        "Tal como habíamos visto con los _strings_, con los elementos de las listas ocurre lo mismo: tienen un índice asociado que empieza desde cero."
      ],
      "metadata": {
        "id": "JvTGMf4_g96I"
      },
      "id": "JvTGMf4_g96I"
    },
    {
      "cell_type": "code",
      "execution_count": null,
      "metadata": {
        "colab": {
          "base_uri": "https://localhost:8080/"
        },
        "id": "Jj46WvNveWVl",
        "outputId": "1695f20c-6d71-409b-a774-da247396053b"
      },
      "outputs": [
        {
          "output_type": "stream",
          "name": "stdout",
          "text": [
            "naranja\n"
          ]
        }
      ],
      "source": [
        "lista_frutas = [\"naranja\", \"banano\", \"kiwi\", \"mandarina\", \"pera\"]\n",
        "print(lista_frutas[0])"
      ],
      "id": "Jj46WvNveWVl"
    },
    {
      "cell_type": "markdown",
      "source": [
        "Que puede ser un índice negativo, el cual empieza desde el último elemento (-1):"
      ],
      "metadata": {
        "id": "oFMTI9ZIiW8y"
      },
      "id": "oFMTI9ZIiW8y"
    },
    {
      "cell_type": "code",
      "source": [
        "lista_frutas = [\"naranja\", \"banano\", \"kiwi\", \"mandarina\", \"pera\"]\n",
        "print(lista_frutas[-2])"
      ],
      "metadata": {
        "colab": {
          "base_uri": "https://localhost:8080/"
        },
        "id": "8zD2YgXAicsz",
        "outputId": "bd320bbd-3584-4081-95b5-b2c96db6027b"
      },
      "execution_count": null,
      "outputs": [
        {
          "output_type": "stream",
          "name": "stdout",
          "text": [
            "mandarina\n"
          ]
        }
      ],
      "id": "8zD2YgXAicsz"
    },
    {
      "cell_type": "markdown",
      "source": [
        "También recordemos que se puede conocer cuántos elementos tiene con la función `len()`:"
      ],
      "metadata": {
        "id": "VJx3Z_zsiBhv"
      },
      "id": "VJx3Z_zsiBhv"
    },
    {
      "cell_type": "code",
      "source": [
        "len(lista_frutas)"
      ],
      "metadata": {
        "colab": {
          "base_uri": "https://localhost:8080/"
        },
        "id": "761QP-oeh-ag",
        "outputId": "af3fc8ba-0792-403a-94a7-02a61f200a8b"
      },
      "execution_count": null,
      "outputs": [
        {
          "output_type": "execute_result",
          "data": {
            "text/plain": [
              "5"
            ]
          },
          "metadata": {},
          "execution_count": 21
        }
      ],
      "id": "761QP-oeh-ag"
    },
    {
      "cell_type": "markdown",
      "source": [
        "#### _Slicing_"
      ],
      "metadata": {
        "id": "AeFcHaFHh3-4"
      },
      "id": "AeFcHaFHh3-4"
    },
    {
      "cell_type": "markdown",
      "source": [
        "* Al igual que los _strings_, las listas sin importar el tipo de datos, también se pueden seccionar.\n",
        "* Esto se realiza con la misma indexación, pero utilizando `:` dentro de los corchetes, es decir de esta forma: `[a:b]` siendo a el límite inferior y b el superior, el cual no se incluye."
      ],
      "metadata": {
        "id": "oOm_6ghPkH1G"
      },
      "id": "oOm_6ghPkH1G"
    },
    {
      "cell_type": "code",
      "execution_count": null,
      "metadata": {
        "colab": {
          "base_uri": "https://localhost:8080/"
        },
        "id": "gA3XQYeQgOOi",
        "outputId": "768d3e92-ab86-44f3-fadc-1bbbd8ab21cf"
      },
      "outputs": [
        {
          "output_type": "stream",
          "name": "stdout",
          "text": [
            "['naranja', 'banano']\n"
          ]
        }
      ],
      "source": [
        "lista_frutas = [\"naranja\", \"banano\", \"kiwi\", \"mandarina\", \"pera\"]\n",
        "nueva_lista = lista_frutas[0:2] # Toma los dos primeros elementos\n",
        "print(nueva_lista)"
      ],
      "id": "gA3XQYeQgOOi"
    },
    {
      "cell_type": "markdown",
      "source": [
        "El anterior ejemplo, toma desde el primer elemento hasta el segundo, pero puede ser al contrario:"
      ],
      "metadata": {
        "id": "ZTW_ZulroC8S"
      },
      "id": "ZTW_ZulroC8S"
    },
    {
      "cell_type": "code",
      "source": [
        "lista_frutas = [\"naranja\", \"banano\", \"kiwi\", \"mandarina\", \"pera\"]\n",
        "nueva_lista = lista_frutas[2:] # Toma desde el tercer elemento hasta el último\n",
        "print(nueva_lista)"
      ],
      "metadata": {
        "colab": {
          "base_uri": "https://localhost:8080/"
        },
        "id": "sBD61ieAoRhS",
        "outputId": "d9e891fb-95ec-46e6-cee9-9c639434c233"
      },
      "execution_count": null,
      "outputs": [
        {
          "output_type": "stream",
          "name": "stdout",
          "text": [
            "['kiwi', 'mandarina', 'pera']\n"
          ]
        }
      ],
      "id": "sBD61ieAoRhS"
    },
    {
      "cell_type": "markdown",
      "source": [
        "También se puede con índices negativos:"
      ],
      "metadata": {
        "id": "JWU6AFMLoWVX"
      },
      "id": "JWU6AFMLoWVX"
    },
    {
      "cell_type": "code",
      "source": [
        "lista_frutas = [\"naranja\", \"banano\", \"kiwi\", \"mandarina\", \"pera\"]\n",
        "nueva_lista = lista_frutas[-4:-1]\n",
        "print(nueva_lista)"
      ],
      "metadata": {
        "colab": {
          "base_uri": "https://localhost:8080/"
        },
        "id": "U592sytYj14d",
        "outputId": "7b60c4e4-b4f2-4e1a-91c6-80b2a8194946"
      },
      "execution_count": null,
      "outputs": [
        {
          "output_type": "stream",
          "name": "stdout",
          "text": [
            "['banano', 'kiwi', 'mandarina']\n"
          ]
        }
      ],
      "id": "U592sytYj14d"
    },
    {
      "cell_type": "markdown",
      "source": [
        "#### Recorrido"
      ],
      "metadata": {
        "id": "hvB4QT9ojaUb"
      },
      "id": "hvB4QT9ojaUb"
    },
    {
      "cell_type": "markdown",
      "source": [
        "Como las listas son contenedores de elementos, estas pueden ser recorridas mediante un bucle, sea `while` o `for`:"
      ],
      "metadata": {
        "id": "QwbF9iQ8lSaN"
      },
      "id": "QwbF9iQ8lSaN"
    },
    {
      "cell_type": "code",
      "execution_count": null,
      "metadata": {
        "colab": {
          "base_uri": "https://localhost:8080/"
        },
        "id": "ZZMm1KS6jaUd",
        "outputId": "f6779892-2d3a-42a2-f02c-6dcd4503542e"
      },
      "outputs": [
        {
          "output_type": "stream",
          "name": "stdout",
          "text": [
            "naranja\n",
            "banano\n",
            "kiwi\n",
            "mandarina\n",
            "pera\n"
          ]
        }
      ],
      "source": [
        "# Crear lista\n",
        "lista_frutas = [\"naranja\", \"banano\", \"kiwi\", \"mandarina\", \"pera\"]\n",
        "\n",
        "# Recorrer lista\n",
        "for fruta in lista_frutas:\n",
        "    print(fruta)"
      ],
      "id": "ZZMm1KS6jaUd"
    },
    {
      "cell_type": "markdown",
      "source": [
        "Y dentro del mismo bucle, obtener el índice de cada elemento de la lista junto con el valor mediante `enumerate()`:"
      ],
      "metadata": {
        "id": "uKXuTSmMl0VV"
      },
      "id": "uKXuTSmMl0VV"
    },
    {
      "cell_type": "code",
      "source": [
        "# Crear lista\n",
        "lista_frutas = [\"naranja\", \"banano\", \"kiwi\", \"mandarina\", \"pera\"]\n",
        "\n",
        "# Recorrer lista\n",
        "for indice, fruta in enumerate(lista_frutas):\n",
        "    print(f\"-- Fruta #{indice+1}: {fruta}\") # Cómo indice empieza en 0, probar con indice+1"
      ],
      "metadata": {
        "colab": {
          "base_uri": "https://localhost:8080/"
        },
        "id": "c_lwoIsYmGkT",
        "outputId": "dd6e0319-1ddf-4070-e109-984c6ddf7ab4"
      },
      "execution_count": null,
      "outputs": [
        {
          "output_type": "stream",
          "name": "stdout",
          "text": [
            "-- Fruta #1: naranja\n",
            "-- Fruta #2: banano\n",
            "-- Fruta #3: kiwi\n",
            "-- Fruta #4: mandarina\n",
            "-- Fruta #5: pera\n"
          ]
        }
      ],
      "id": "c_lwoIsYmGkT"
    },
    {
      "cell_type": "markdown",
      "source": [
        "Pero también podemos implementar el bucle solo con `len()`:"
      ],
      "metadata": {
        "id": "HHWcm33VnD1e"
      },
      "id": "HHWcm33VnD1e"
    },
    {
      "cell_type": "code",
      "source": [
        "# --- CON FOR ---\n",
        "# Crear lista\n",
        "lista_frutas = [\"naranja\", \"banano\", \"kiwi\", \"mandarina\", \"pera\"]\n",
        "\n",
        "# Recorrer lista\n",
        "for i in range(0, len(lista_frutas)):\n",
        "    print(f\"-- Fruta #{i}: {lista_frutas[i]}\") # Cómo i empieza en 0, probar con i+1"
      ],
      "metadata": {
        "colab": {
          "base_uri": "https://localhost:8080/"
        },
        "id": "mQUtsK8onLee",
        "outputId": "ade93ab9-2199-44e2-a345-b66487993491"
      },
      "execution_count": null,
      "outputs": [
        {
          "output_type": "stream",
          "name": "stdout",
          "text": [
            "-- Fruta #0: naranja\n",
            "-- Fruta #1: banano\n",
            "-- Fruta #2: kiwi\n",
            "-- Fruta #3: mandarina\n",
            "-- Fruta #4: pera\n"
          ]
        }
      ],
      "id": "mQUtsK8onLee"
    },
    {
      "cell_type": "code",
      "source": [
        "# --- CON WHILE ---\n",
        "# Crear lista\n",
        "lista_frutas = [\"naranja\", \"banano\", \"kiwi\", \"mandarina\", \"pera\"]\n",
        "\n",
        "# Recorrer lista\n",
        "i = 0\n",
        "while i < len(lista_frutas):\n",
        "    print(f\"-- Fruta #{i}: {lista_frutas[i]}\") # Cómo i empieza en 0, probar con i+1\n",
        "    i += 1"
      ],
      "metadata": {
        "colab": {
          "base_uri": "https://localhost:8080/"
        },
        "id": "HtjsKtYknfVW",
        "outputId": "31d64636-5270-471b-9643-79daf7977075"
      },
      "execution_count": null,
      "outputs": [
        {
          "output_type": "stream",
          "name": "stdout",
          "text": [
            "-- Fruta #0: naranja\n",
            "-- Fruta #1: banano\n",
            "-- Fruta #2: kiwi\n",
            "-- Fruta #3: mandarina\n",
            "-- Fruta #4: pera\n"
          ]
        }
      ],
      "id": "HtjsKtYknfVW"
    },
    {
      "cell_type": "markdown",
      "source": [
        "---\n",
        "### Modificación de valores"
      ],
      "metadata": {
        "id": "Mt4TMKjmeXoh"
      },
      "id": "Mt4TMKjmeXoh"
    },
    {
      "cell_type": "markdown",
      "source": [
        "A diferencia de los _strings_, las listas si son mutables, es decir, pueden cambiar sus valores:"
      ],
      "metadata": {
        "id": "Rrtw0oa3967S"
      },
      "id": "Rrtw0oa3967S"
    },
    {
      "cell_type": "code",
      "source": [
        "numeros = [234, 130, 59, 20]\n",
        "print(numeros)\n",
        "numeros[0] = 1\n",
        "print(numeros)\n",
        "numeros[1:3] = [3,4] # reemplazar inidice 1 y 2 con la lista [3,4]\n",
        "print(numeros)\n"
      ],
      "metadata": {
        "colab": {
          "base_uri": "https://localhost:8080/"
        },
        "id": "uLRiSVqM-HR5",
        "outputId": "ea38a9c5-afe4-4fad-c54a-1b414eb36cde"
      },
      "execution_count": null,
      "outputs": [
        {
          "output_type": "stream",
          "name": "stdout",
          "text": [
            "[234, 130, 59, 20]\n",
            "[1, 130, 59, 20]\n",
            "[1, 3, 4, 20]\n"
          ]
        }
      ],
      "id": "uLRiSVqM-HR5"
    },
    {
      "cell_type": "markdown",
      "source": [
        "Y podemos comprobar si un elemento está dentro de la lista:"
      ],
      "metadata": {
        "id": "BDhW-0m8-p95"
      },
      "id": "BDhW-0m8-p95"
    },
    {
      "cell_type": "code",
      "source": [
        "print(numeros)\n",
        "print(99 in numeros) # ¿Está 99 en la lista?\n"
      ],
      "metadata": {
        "colab": {
          "base_uri": "https://localhost:8080/"
        },
        "id": "QxrPnIo9-txp",
        "outputId": "2b4ee254-23c2-4bfd-8c24-8da2c92f36bd"
      },
      "execution_count": null,
      "outputs": [
        {
          "output_type": "stream",
          "name": "stdout",
          "text": [
            "[1, 3, 4, 20]\n",
            "False\n"
          ]
        }
      ],
      "id": "QxrPnIo9-txp"
    },
    {
      "cell_type": "markdown",
      "source": [
        "#### Agregar y remover elementos"
      ],
      "metadata": {
        "id": "OCHKUD7s_Jim"
      },
      "id": "OCHKUD7s_Jim"
    },
    {
      "cell_type": "markdown",
      "source": [
        "Tal como podemos modificar valores, podemos agregar nuevos elementos con la función `append()`:"
      ],
      "metadata": {
        "id": "T8PiDrEi-1uu"
      },
      "id": "T8PiDrEi-1uu"
    },
    {
      "cell_type": "code",
      "source": [
        "frutas = [\"fresa\", \"mandarina\", \"uva\"]\n",
        "frutas.append(\"pera\")\n",
        "print(frutas)\n",
        "\n",
        "frutas.append([\"manzana roja\", \"manzana verde\"])\n",
        "print(frutas)\n"
      ],
      "metadata": {
        "colab": {
          "base_uri": "https://localhost:8080/"
        },
        "id": "Gz5vI6og-7OW",
        "outputId": "f071d222-c164-4372-88a4-929a370a6f18"
      },
      "execution_count": null,
      "outputs": [
        {
          "output_type": "stream",
          "name": "stdout",
          "text": [
            "['fresa', 'mandarina', 'uva', 'pera']\n",
            "['fresa', 'mandarina', 'uva', 'pera', ['manzana roja', 'manzana verde']]\n"
          ]
        }
      ],
      "id": "Gz5vI6og-7OW"
    },
    {
      "cell_type": "markdown",
      "source": [
        "Pero `append()` solo agrega el elemento al final, si necesitamos insertarlo en una posición específica, usamos `insert()`:"
      ],
      "metadata": {
        "id": "_0o37r_J_n35"
      },
      "id": "_0o37r_J_n35"
    },
    {
      "cell_type": "code",
      "source": [
        "frutas = [\"fresa\", \"mandarina\", \"uva\"]\n",
        "frutas.insert(0, \"pera\") # Inserta en la primera posición\n",
        "print(frutas)\n",
        "frutas.insert(4,\"carambolo\")\n",
        "frutas.insert(4,\"zapote\")\n",
        "print(frutas)\n"
      ],
      "metadata": {
        "colab": {
          "base_uri": "https://localhost:8080/"
        },
        "id": "2vrn2Vrj_z-K",
        "outputId": "5101748a-9454-4118-8e94-64aab619f3e8"
      },
      "execution_count": null,
      "outputs": [
        {
          "output_type": "stream",
          "name": "stdout",
          "text": [
            "['pera', 'fresa', 'mandarina', 'uva']\n",
            "['pera', 'fresa', 'mandarina', 'uva', 'zapote', 'carambolo']\n"
          ]
        }
      ],
      "id": "2vrn2Vrj_z-K"
    },
    {
      "cell_type": "markdown",
      "source": [
        "Para eliminar elementos, hay varias formas de hacerlo:\n",
        "\n",
        "* `del` que elimina un elemento de la lista por su índice.\n",
        "* `remove()` que elimina un elemento por su valor.\n",
        "* `pop()`, que elimina un elemento por su posición."
      ],
      "metadata": {
        "id": "LDXhuEl0AJwl"
      },
      "id": "LDXhuEl0AJwl"
    },
    {
      "cell_type": "code",
      "source": [
        "# -- Mediante `del`\n",
        "frutas = [\"fresa\", \"mandarina\", \"uva\"]\n",
        "del frutas[1] # Elimina \"mandarina\"\n",
        "print(frutas)"
      ],
      "metadata": {
        "colab": {
          "base_uri": "https://localhost:8080/"
        },
        "id": "_mYXV0S3Apd7",
        "outputId": "117df30c-3566-47a4-c8da-8c942fc354f7"
      },
      "execution_count": null,
      "outputs": [
        {
          "output_type": "stream",
          "name": "stdout",
          "text": [
            "['fresa', 'uva']\n"
          ]
        }
      ],
      "id": "_mYXV0S3Apd7"
    },
    {
      "cell_type": "code",
      "source": [
        "# -- Mediante `remove()`\n",
        "frutas = [\"fresa\", \"mandarina\", \"uva\", \"mandarina\"]\n",
        "frutas.remove(\"mandarina\") # Elimina \"mandarina\"\n",
        "print(frutas)"
      ],
      "metadata": {
        "colab": {
          "base_uri": "https://localhost:8080/"
        },
        "id": "L736XoxPApgM",
        "outputId": "885ec7d5-4058-4ded-b3b3-f3b330d4d86b"
      },
      "execution_count": null,
      "outputs": [
        {
          "output_type": "stream",
          "name": "stdout",
          "text": [
            "['fresa', 'uva', 'mandarina']\n"
          ]
        }
      ],
      "id": "L736XoxPApgM"
    },
    {
      "cell_type": "code",
      "source": [
        "# -- Mediante `pop()`\n",
        "frutas = [\"fresa\", \"mandarina\", \"uva\"]\n",
        "frutas.pop(0) # Elimina el primer elemento\n",
        "print(frutas)"
      ],
      "metadata": {
        "colab": {
          "base_uri": "https://localhost:8080/"
        },
        "id": "FnMQ0nY3ArFm",
        "outputId": "8a3d30c5-fb3b-4b2f-c1ea-bb660aebaad5"
      },
      "execution_count": null,
      "outputs": [
        {
          "output_type": "stream",
          "name": "stdout",
          "text": [
            "['mandarina', 'uva']\n"
          ]
        }
      ],
      "id": "FnMQ0nY3ArFm"
    },
    {
      "cell_type": "markdown",
      "source": [
        "Y para eliminar todos los elementos una lista se utiliza `clear()`:"
      ],
      "metadata": {
        "id": "DQ1IfGPmBF3M"
      },
      "id": "DQ1IfGPmBF3M"
    },
    {
      "cell_type": "code",
      "execution_count": null,
      "metadata": {
        "colab": {
          "base_uri": "https://localhost:8080/"
        },
        "id": "5Ya_DIjqeXoh",
        "outputId": "3c6768b3-fdad-4348-e9e6-98398b0203d4"
      },
      "outputs": [
        {
          "output_type": "stream",
          "name": "stdout",
          "text": [
            "[]\n"
          ]
        }
      ],
      "source": [
        "frutas = [\"fresa\", \"mandarina\", \"uva\"]\n",
        "frutas.clear()\n",
        "print(frutas)"
      ],
      "id": "5Ya_DIjqeXoh"
    },
    {
      "cell_type": "markdown",
      "source": [
        "#### Modificar y buscar en listas"
      ],
      "metadata": {
        "id": "azZ_W4_aBXeZ"
      },
      "id": "azZ_W4_aBXeZ"
    },
    {
      "cell_type": "markdown",
      "source": [
        "Copiar una lista:"
      ],
      "metadata": {
        "id": "8jyWdrD6FG30"
      },
      "id": "8jyWdrD6FG30"
    },
    {
      "cell_type": "code",
      "source": [
        "frutas = [\"fresa\", \"mandarina\", \"uva\"]\n",
        "print(frutas)\n",
        "frutas_copia = frutas.copy()\n",
        "frutas_referencia = frutas\n",
        "frutas.insert(0, \"uchuva\")\n",
        "print(frutas_referencia)\n",
        "print(frutas_copia)"
      ],
      "metadata": {
        "colab": {
          "base_uri": "https://localhost:8080/"
        },
        "id": "0e0GAetABb0C",
        "outputId": "f2ffe458-54f1-4d1a-ddcf-7c296282eb6b"
      },
      "execution_count": null,
      "outputs": [
        {
          "output_type": "stream",
          "name": "stdout",
          "text": [
            "['fresa', 'mandarina', 'uva']\n",
            "['uchuva', 'fresa', 'mandarina', 'uva']\n",
            "['fresa', 'mandarina', 'uva']\n"
          ]
        }
      ],
      "id": "0e0GAetABb0C"
    },
    {
      "cell_type": "markdown",
      "source": [
        "Reversar una lista:"
      ],
      "metadata": {
        "id": "3HRcLnEMFIh3"
      },
      "id": "3HRcLnEMFIh3"
    },
    {
      "cell_type": "code",
      "source": [
        "frutas = [\"fresa\", \"mandarina\", \"uva\"]\n",
        "frutas.reverse() # Reversa los elementos\n",
        "print(frutas)"
      ],
      "metadata": {
        "colab": {
          "base_uri": "https://localhost:8080/"
        },
        "outputId": "13dd19ed-ba67-4974-b172-cf1159abbce5",
        "id": "sGmF3iGBFIh5"
      },
      "execution_count": null,
      "outputs": [
        {
          "output_type": "stream",
          "name": "stdout",
          "text": [
            "['uva', 'mandarina', 'fresa']\n"
          ]
        }
      ],
      "id": "sGmF3iGBFIh5"
    },
    {
      "cell_type": "markdown",
      "source": [
        "Ordenar una lista:"
      ],
      "metadata": {
        "id": "ESHR_M-xFjSc"
      },
      "id": "ESHR_M-xFjSc"
    },
    {
      "cell_type": "code",
      "source": [
        "frutas = [\"fresa\", \"uva\", \"mandarina\", \"manzana\"]\n",
        "frutas.sort(reverse=False) # Ordena lista. Utiliza reverse=True para cambiar el orden\n",
        "print(frutas)"
      ],
      "metadata": {
        "colab": {
          "base_uri": "https://localhost:8080/"
        },
        "outputId": "964f461f-5784-49ba-8824-dfda011f6b5a",
        "id": "ye9jyBZAFjSf"
      },
      "execution_count": null,
      "outputs": [
        {
          "output_type": "stream",
          "name": "stdout",
          "text": [
            "['fresa', 'mandarina', 'manzana', 'uva']\n"
          ]
        }
      ],
      "id": "ye9jyBZAFjSf"
    },
    {
      "cell_type": "code",
      "source": [
        "# Criterio para ordenar lista por el tamaño\n",
        "def fn_ordenar(elemento):\n",
        "    return len(elemento)\n",
        "\n",
        "# Definir lista y ordenar\n",
        "frutas = [\"fresa\", \"mandarina\", \"uva\"]\n",
        "frutas.sort(key=fn_ordenar) # Utiliza reverse=True para cambiar el orden\n",
        "print(frutas)"
      ],
      "metadata": {
        "colab": {
          "base_uri": "https://localhost:8080/"
        },
        "id": "X5xhLQ3EF1He",
        "outputId": "e7a55aec-4253-4db8-878b-63167863e055"
      },
      "execution_count": null,
      "outputs": [
        {
          "output_type": "stream",
          "name": "stdout",
          "text": [
            "['mandarina', 'fresa', 'uva']\n"
          ]
        }
      ],
      "id": "X5xhLQ3EF1He"
    },
    {
      "cell_type": "markdown",
      "source": [
        "Contar repeticiones de un valor:"
      ],
      "metadata": {
        "id": "ZVk2UxckGO4_"
      },
      "id": "ZVk2UxckGO4_"
    },
    {
      "cell_type": "code",
      "source": [
        "frutas = [\"fresa\", \"mandarina\", \"uva\", \"fresa\"]\n",
        "print(frutas.count(\"mandarina\")) # Imprimir apariciones \"mandarina\"\n",
        "print(frutas.count(\"fresa\")) # Imprimir apariciones \"fresa\"\n",
        "contador = 0\n",
        "for ele in frutas:\n",
        "  contador += ele.count(\"a\")\n",
        "print(contador) # Imprimir apariciones \"a\"\n"
      ],
      "metadata": {
        "colab": {
          "base_uri": "https://localhost:8080/"
        },
        "outputId": "9e5319c5-a5b3-4b99-c1ed-92c47e44d5e1",
        "id": "G22B1jnsGO5C"
      },
      "execution_count": null,
      "outputs": [
        {
          "output_type": "stream",
          "name": "stdout",
          "text": [
            "1\n",
            "2\n",
            "6\n"
          ]
        }
      ],
      "id": "G22B1jnsGO5C"
    },
    {
      "cell_type": "markdown",
      "source": [
        "---\n",
        "### Relación con los _strings_"
      ],
      "metadata": {
        "id": "-u9KjuFRHCjz"
      },
      "id": "-u9KjuFRHCjz"
    },
    {
      "cell_type": "markdown",
      "source": [
        "Los _strings_ y las listas comparten el hecho de ser secuencias, en el primer caso de caracteres y en el segundo de valores. Y se puede realizar una conversión desde un _string_ a una lista:\n"
      ],
      "metadata": {
        "id": "zOz1baK3InHh"
      },
      "id": "zOz1baK3InHh"
    },
    {
      "cell_type": "code",
      "source": [
        "cadena = \"hola :)\"\n",
        "lista = list(cadena)\n",
        "print(lista)"
      ],
      "metadata": {
        "colab": {
          "base_uri": "https://localhost:8080/"
        },
        "id": "91iPhfmvHDCw",
        "outputId": "593a916d-36e0-4457-dc29-64c44034c0d6"
      },
      "execution_count": null,
      "outputs": [
        {
          "output_type": "stream",
          "name": "stdout",
          "text": [
            "['h', 'o', 'l', 'a', ' ', ':', ')']\n"
          ]
        }
      ],
      "id": "91iPhfmvHDCw"
    },
    {
      "cell_type": "markdown",
      "source": [
        "Ese mismo resultado, lo podíamos observar usando la función `split()`:"
      ],
      "metadata": {
        "id": "Hb_rzRGZJQTL"
      },
      "id": "Hb_rzRGZJQTL"
    },
    {
      "cell_type": "code",
      "source": [
        "cadena = \"Hola, mundo :)\"\n",
        "nueva_cadena = cadena.split(\",\")\n",
        "print(nueva_cadena)"
      ],
      "metadata": {
        "colab": {
          "base_uri": "https://localhost:8080/"
        },
        "id": "sSd9wmFRJWOz",
        "outputId": "255f8f8a-6137-4261-af61-3dab36475a06"
      },
      "execution_count": null,
      "outputs": [
        {
          "output_type": "stream",
          "name": "stdout",
          "text": [
            "['Hola', ' mundo :)']\n"
          ]
        }
      ],
      "id": "sSd9wmFRJWOz"
    },
    {
      "cell_type": "markdown",
      "source": [
        "Y también podemos realizar el proceso inverso, de una lista a un _string_, mediante `join()`:"
      ],
      "metadata": {
        "id": "N4V0UJtjJlpz"
      },
      "id": "N4V0UJtjJlpz"
    },
    {
      "cell_type": "code",
      "source": [
        "# Usamos nueva_cadena de la celda anterior\n",
        "nueva_cadena = list(\"HOLA MUNDO\")\n",
        "delimitador = \",\"\n",
        "candena_unida = delimitador.join(nueva_cadena)\n",
        "print(candena_unida)\n",
        "\n",
        "cadena2 = \"--\".join(nueva_cadena)\n",
        "print(cadena2)\n"
      ],
      "metadata": {
        "colab": {
          "base_uri": "https://localhost:8080/"
        },
        "id": "h7GjHwB1Js8r",
        "outputId": "86554c5c-ceff-4067-fbab-3ee6a0abf41a"
      },
      "execution_count": null,
      "outputs": [
        {
          "output_type": "stream",
          "name": "stdout",
          "text": [
            "H,O,L,A, ,M,U,N,D,O\n",
            "H--O--L--A-- --M--U--N--D--O\n"
          ]
        }
      ],
      "id": "h7GjHwB1Js8r"
    },
    {
      "cell_type": "markdown",
      "source": [
        "---\n",
        "### Valores y alises"
      ],
      "metadata": {
        "id": "PJCtzx5mKb9M"
      },
      "id": "PJCtzx5mKb9M"
    },
    {
      "cell_type": "markdown",
      "source": [
        "Cuando se crean dos variables _string_ existen dos caminos posibles:\n",
        "\n",
        "<img src=\"https://greenteapress.com/thinkpython2/html/thinkpython2012.png\" width=\"215\"/>\n",
        "\n",
        "Pero en este caso, Python solo crea un objeto/valor para ambas variables:\n"
      ],
      "metadata": {
        "id": "EpLokH0qKb9R"
      },
      "id": "EpLokH0qKb9R"
    },
    {
      "cell_type": "code",
      "source": [
        "a = \"banano\"\n",
        "b = \"banano\"\n",
        "print(a is b)"
      ],
      "metadata": {
        "colab": {
          "base_uri": "https://localhost:8080/"
        },
        "id": "24OeeV_fLslR",
        "outputId": "f4ca7e98-6595-402d-ecb6-911bced48170"
      },
      "execution_count": null,
      "outputs": [
        {
          "output_type": "stream",
          "name": "stdout",
          "text": [
            "True\n"
          ]
        }
      ],
      "id": "24OeeV_fLslR"
    },
    {
      "cell_type": "markdown",
      "source": [
        "Pero para las listas, se crea un objeto independiente por cada una:\n",
        "\n",
        "<img src=\"https://greenteapress.com/thinkpython2/html/thinkpython2013.png\" width=\"120\"/>"
      ],
      "metadata": {
        "id": "Qq41dWQGL3ch"
      },
      "id": "Qq41dWQGL3ch"
    },
    {
      "cell_type": "code",
      "source": [
        "lista_1 = [1, 2, 3]\n",
        "lista_2 = [1, 2, 3]\n",
        "print(lista_1 is lista_2)"
      ],
      "metadata": {
        "colab": {
          "base_uri": "https://localhost:8080/"
        },
        "outputId": "c41fa8b1-6b6a-4f34-9e87-0d29b4f9b77d",
        "id": "dK2PwUsUKb9S"
      },
      "execution_count": null,
      "outputs": [
        {
          "output_type": "stream",
          "name": "stdout",
          "text": [
            "False\n"
          ]
        }
      ],
      "id": "dK2PwUsUKb9S"
    },
    {
      "cell_type": "markdown",
      "source": [
        "La única forma en el que apunten al mismo objeto es de esta forma:\n",
        "\n",
        "<img src=\"https://greenteapress.com/thinkpython2/html/thinkpython2014.png\" width=\"120\"/>"
      ],
      "metadata": {
        "id": "0hZMK75YMi3Y"
      },
      "id": "0hZMK75YMi3Y"
    },
    {
      "cell_type": "code",
      "source": [
        "lista_1 = [1, 2, 3]\n",
        "lista_2 = lista_1\n",
        "print(lista_1 is lista_2)"
      ],
      "metadata": {
        "colab": {
          "base_uri": "https://localhost:8080/"
        },
        "id": "2Om5rlcOMsKz",
        "outputId": "bc76b52b-341e-43e2-9cfd-dbf656ce22e1"
      },
      "execution_count": null,
      "outputs": [
        {
          "output_type": "stream",
          "name": "stdout",
          "text": [
            "True\n"
          ]
        }
      ],
      "id": "2Om5rlcOMsKz"
    },
    {
      "cell_type": "markdown",
      "source": [
        "Por lo tanto, si se cambia a `lista_2` aplicará a `lista_1`:"
      ],
      "metadata": {
        "id": "ztthRabaM7Mo"
      },
      "id": "ztthRabaM7Mo"
    },
    {
      "cell_type": "code",
      "source": [
        "lista_2[0] = 0\n",
        "print(lista_1)"
      ],
      "metadata": {
        "id": "I2JPEuryM6rQ",
        "colab": {
          "base_uri": "https://localhost:8080/"
        },
        "outputId": "a43356ab-173c-417a-d316-ae425a192542"
      },
      "execution_count": null,
      "outputs": [
        {
          "output_type": "stream",
          "name": "stdout",
          "text": [
            "[0, 2, 3]\n"
          ]
        }
      ],
      "id": "I2JPEuryM6rQ"
    },
    {
      "cell_type": "markdown",
      "id": "ff7364af",
      "metadata": {
        "id": "ff7364af"
      },
      "source": [
        "### ✍️ Ejercicio 3 — Manipular lista de estudiantes (Esqueleto)\n",
        "\n",
        "Dada una lista de nombres `estudiantes`, implementa funciones:\n",
        "- `agregar_estudiante(lista, nombre)` -> agrega si no existe (case-insensitive). Retorna True si agregado, False si ya existía.\n",
        "- `eliminar_estudiante(lista, nombre)` -> elimina si existe (case-insensitive). Retorna True si eliminado, False si no encontrado.\n",
        "- `listar_estudiantes_ordenados(lista)` -> retorna una nueva lista con nombres capitalizados y ordenados alfabéticamente.\n"
      ]
    },
    {
      "cell_type": "code",
      "execution_count": null,
      "id": "12431d75",
      "metadata": {
        "id": "12431d75",
        "colab": {
          "base_uri": "https://localhost:8080/"
        },
        "outputId": "4e34c3f9-efa0-48bb-f5fe-b7770acd52a1"
      },
      "outputs": [
        {
          "output_type": "stream",
          "name": "stdout",
          "text": [
            "['ana', 'Luis']\n",
            "['ana', 'Luis', 'MARIA']\n"
          ]
        }
      ],
      "source": [
        "# Esqueleto ejercicio 3\n",
        "\n",
        "def agregar_estudiante(lista, nombre):\n",
        "    # TODO: verificar existencia ignorando mayúsculas y agregar\n",
        "    minus = [ n.lower() for n in lista ]\n",
        "    if nombre.lower() not in minus:\n",
        "      lista.append(nombre)\n",
        "    return lista\n",
        "\n",
        "def eliminar_estudiante(lista, nombre):\n",
        "    # TODO: buscar ignorando mayúsculas y eliminar\n",
        "    pass\n",
        "\n",
        "def listar_estudiantes_ordenados(lista):\n",
        "    # TODO: devolver nueva lista capitalizada y ordenada\n",
        "    pass\n",
        "\n",
        "# Pruebas sugeridas:\n",
        "estudiantes = ['ana', 'Luis']\n",
        "print(agregar_estudiante(estudiantes, 'ANA'))\n",
        "print(agregar_estudiante(estudiantes, 'MARIA'))\n",
        "#print(eliminar_estudiante(estudiantes, 'luis'))\n",
        "#print(listar_estudiantes_ordenados(estudiantes))\n"
      ]
    },
    {
      "cell_type": "markdown",
      "id": "343d4a13",
      "metadata": {
        "id": "343d4a13"
      },
      "source": [
        "# 4️⃣ Ejercicios combinados\n",
        "\n",
        "Este ejercicio integra strings y listas: escribir un *parser* que reciba una cadena con nombres separados por comas, normalice los nombres y devuelva una lista única ordenada.\n",
        "\n",
        "**Especificación:**\n",
        "- Entrada: `' ana, Luis, maria ,ANA, luis'`\n",
        "- Salida: `['Ana', 'Luis', 'Maria']` (sin duplicados, capitalizados y ordenados)\n",
        "\n",
        "Implementa `procesar_lista_nombres(linea)`.\n"
      ]
    },
    {
      "cell_type": "code",
      "execution_count": null,
      "id": "8680230f",
      "metadata": {
        "id": "8680230f"
      },
      "outputs": [],
      "source": [
        "# Esqueleto ejercicio combinado\n",
        "\n",
        "def procesar_lista_nombres(linea):\n",
        "    # TODO: split por ',', limpiar espacios, normalizar (title), eliminar duplicados sin usar set\n",
        "    # TODO: devolver lista ordenada\n",
        "    pass\n",
        "\n",
        "# Prueba sugerida:\n",
        "# print(procesar_lista_nombres(' ana, Luis, maria ,ANA, luis'))\n"
      ]
    },
    {
      "cell_type": "markdown",
      "id": "62787817",
      "metadata": {
        "id": "62787817"
      },
      "source": [
        "# 5️⃣ Tips, recomendaciones y recursos\n",
        "\n",
        "- Usa `enumerate()` cuando necesites índice y valor al recorrer strings o listas.\n",
        "- Normaliza cadenas (con `lower()` o `upper()`) antes de comparar.\n",
        "- Para listas grandes, evita `list.remove()` en bucles intensivos; considera otras estructuras si el rendimiento importa.\n",
        "- Prefiere comprensión de listas para transformaciones simples y legibles.\n",
        "- Recuerda que `s[::-1]` invierte una cadena o lista.\n",
        "\n",
        "**Recursos:**\n",
        "- Documentación de strings: https://docs.python.org/3/library/stdtypes.html#text-sequence-type-str\n",
        "- Documentación de listas: https://docs.python.org/3/tutorial/datastructures.html\n",
        "- `re` module: https://docs.python.org/3/library/re.html\n"
      ]
    },
    {
      "cell_type": "markdown",
      "source": [
        "## Ejercicios"
      ],
      "metadata": {
        "id": "6Q8-HhgSY6dP"
      },
      "id": "6Q8-HhgSY6dP"
    },
    {
      "cell_type": "markdown",
      "source": [
        "#### a) Convierte la siguiente cadena de caracteres en minúsculas y mayúsculas, con dos versiones: bucles + condicionales y con funciones `upper()` y `lower()`\n",
        "\n",
        "_\"La Energía Eléctrica Es La Forma De Energía Que Resulta De La Existencia De Una Diferencia De Potencial Entre Dos Puntos, Lo Que Permite Establecer Una Corriente Eléctrica\"_\n",
        "\n",
        "\n",
        "_Puedes usar string.ascii_lowercase y string.ascii_uppercase_"
      ],
      "metadata": {
        "id": "Ke0uyZaWiU_2"
      },
      "id": "Ke0uyZaWiU_2"
    },
    {
      "cell_type": "code",
      "execution_count": null,
      "metadata": {
        "id": "WjKeEEG8iU_5"
      },
      "outputs": [],
      "source": [
        "\"\"\"\n",
        "Aquí debajo escribe tu solución\n",
        "\"\"\"\n",
        "\n"
      ],
      "id": "WjKeEEG8iU_5"
    },
    {
      "cell_type": "markdown",
      "source": [
        "#### b) Diseña un programa que lea una lista de 10 enteros, pero asegurándose de que todos los números introducidos por el usuario son positivos. Cuando un número sea negativo, lo indicaremos con un mensaje y permitiremos al usuario repetir el intento cuantas veces sea preciso."
      ],
      "metadata": {
        "id": "K61Im2xZiSsV"
      },
      "id": "K61Im2xZiSsV"
    },
    {
      "cell_type": "code",
      "execution_count": null,
      "metadata": {
        "id": "EsDsQbPM2fXP"
      },
      "outputs": [],
      "source": [
        "\"\"\"\n",
        "Aquí debajo escribe tu solución\n",
        "\"\"\"\n",
        "\n"
      ],
      "id": "EsDsQbPM2fXP"
    },
    {
      "cell_type": "markdown",
      "source": [
        "#### c) Diseña un programa que elimine de una lista todos los elementos de índice par y muestre por pantalla el resultado"
      ],
      "metadata": {
        "id": "yTsBWrIQiUyx"
      },
      "id": "yTsBWrIQiUyx"
    },
    {
      "cell_type": "code",
      "execution_count": null,
      "metadata": {
        "id": "7cjT5J9niUyz"
      },
      "outputs": [],
      "source": [
        "\"\"\"\n",
        "Aquí debajo escribe tu solución\n",
        "\"\"\"\n",
        "\n"
      ],
      "id": "7cjT5J9niUyz"
    },
    {
      "cell_type": "markdown",
      "source": [
        "#### d) Diseña un programa que lea una cadena y muestre por pantalla una lista con todas sus palabras en minúsculas. La lista devuelta no debe contener palabras repetidas."
      ],
      "metadata": {
        "id": "5DrsRZSaiVL3"
      },
      "id": "5DrsRZSaiVL3"
    },
    {
      "cell_type": "code",
      "execution_count": null,
      "metadata": {
        "id": "43FgKQwoiVL9"
      },
      "outputs": [],
      "source": [
        "\"\"\"\n",
        "Aquí debajo escribe tu solución\n",
        "\"\"\"\n",
        "\n"
      ],
      "id": "43FgKQwoiVL9"
    }
  ],
  "metadata": {
    "colab": {
      "provenance": [],
      "include_colab_link": true
    },
    "language_info": {
      "name": "python"
    },
    "kernelspec": {
      "name": "python3",
      "display_name": "Python 3"
    }
  },
  "nbformat": 4,
  "nbformat_minor": 5
}