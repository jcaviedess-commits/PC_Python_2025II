{
  "cells": [
    {
      "cell_type": "markdown",
      "metadata": {
        "id": "view-in-github",
        "colab_type": "text"
      },
      "source": [
        "<a href=\"https://colab.research.google.com/github/jcaviedess-commits/PC_Python_2025II/blob/main/clase_7/Funciones_Python_3.ipynb\" target=\"_parent\"><img src=\"https://colab.research.google.com/assets/colab-badge.svg\" alt=\"Open In Colab\"/></a>"
      ]
    },
    {
      "cell_type": "markdown",
      "id": "4bc44e32",
      "metadata": {
        "id": "4bc44e32"
      },
      "source": [
        "# Curso de Programación de Computadores en Python\n",
        "## Recursión y Funciones Lambda\n",
        "#### Universidad Nacional de Colombia\n",
        "## Presentación: **Recursión y Funciones Lambda**  \n",
        "\n",
        "Aprenderemos dos temas fundamentales:  \n",
        "\n",
        "1. **Recursión**  \n",
        "2. **Funciones Lambda**  \n",
        "\n",
        "📌 **Objetivo:** Comprender el uso de funciones recursivas y funciones anónimas (lambda) en Python, aplicándolas en ejemplos prácticos y ejercicios de programación.  \n",
        "\n",
        "---\n",
        "\n",
        "## 📑 Contenido\n",
        "\n",
        "1. Introducción a la Recursión  \n",
        "   - Concepto y definición  \n",
        "   - Ejemplos básicos  \n",
        "   - Ejercicios de práctica  \n",
        "   - Tips y curiosidades  \n",
        "\n",
        "2. Funciones Lambda  \n",
        "   - Definición y sintaxis  \n",
        "   - Ejemplos de uso  \n",
        "   - Ejercicios de práctica  \n",
        "   - Tips y curiosidades  \n",
        "\n",
        "---\n"
      ]
    },
    {
      "cell_type": "markdown",
      "id": "fc9e3c07",
      "metadata": {
        "id": "fc9e3c07"
      },
      "source": [
        "\n",
        "# 🔁 Tema 1: Recursión\n",
        "\n",
        "La **recursión** ocurre cuando una función se llama a sí misma para resolver un problema más grande dividiéndolo en subproblemas más pequeños.  \n",
        "\n",
        "**Estructura básica de una función recursiva:**  \n",
        "1. **Caso base:** condición de parada para evitar llamadas infinitas.  \n",
        "2. **Caso recursivo:** llamada a la misma función con un problema más pequeño.\n",
        "\n",
        "---\n"
      ]
    },
    {
      "cell_type": "code",
      "execution_count": null,
      "id": "c60e8c25",
      "metadata": {
        "colab": {
          "base_uri": "https://localhost:8080/"
        },
        "id": "c60e8c25",
        "outputId": "85044a8f-1ee1-41c7-aebe-0f7751a02d3e"
      },
      "outputs": [
        {
          "output_type": "stream",
          "name": "stdout",
          "text": [
            "8\n"
          ]
        }
      ],
      "source": [
        "\n",
        "# Ejemplo 1: Serie de Fibonacci\n",
        "def fibonacci(n):\n",
        "    if n == 0:\n",
        "        return 0\n",
        "    elif n == 1:\n",
        "        return 1\n",
        "    else:\n",
        "        return fibonacci(n-1) + fibonacci(n-2)\n",
        "\n",
        "print(fibonacci(6))  # 8\n"
      ]
    },
    {
      "cell_type": "code",
      "source": [
        "# Ejemplo 2: Conteo\n",
        "def conteo(n):\n",
        "    if n <= 0:\n",
        "        print(\"¡Ignición!\")\n",
        "    else:\n",
        "        print(n)\n",
        "        conteo(n-1) # Llamamos a la función recursivamente\n",
        "\n",
        "# Llamamos la función\n",
        "conteo(n=10)"
      ],
      "metadata": {
        "colab": {
          "base_uri": "https://localhost:8080/"
        },
        "id": "gzpFg6ZfFWap",
        "outputId": "3f931593-4694-436a-9c4c-ca97aa530ff8"
      },
      "id": "gzpFg6ZfFWap",
      "execution_count": null,
      "outputs": [
        {
          "output_type": "stream",
          "name": "stdout",
          "text": [
            "10\n",
            "9\n",
            "8\n",
            "7\n",
            "6\n",
            "5\n",
            "4\n",
            "3\n",
            "2\n",
            "1\n",
            "¡Ignición!\n"
          ]
        }
      ]
    },
    {
      "cell_type": "markdown",
      "source": [
        "Un ejemplo más complejo sería el cálculo del factorial de un número:\n",
        "\n",
        "$$n! = \\begin{cases} 1 & \\text{si } n = 0 \\text{ o } n = 1 \\\\ n \\cdot (n-1)! & \\text{si } n > 1 \\end{cases}$$"
      ],
      "metadata": {
        "id": "1puh1XdwkFkL"
      },
      "id": "1puh1XdwkFkL"
    },
    {
      "cell_type": "code",
      "source": [
        "# Definimos función\n",
        "def factorial(n):\n",
        "    if n==0 or n==1:\n",
        "        resultado = 1\n",
        "    else:\n",
        "        resultado = n * factorial(n-1) # Uso recursivo de factorial\n",
        "    return resultado\n",
        "\n",
        "# Impresión de resultados\n",
        "num = 8\n",
        "print(f\"El factorial de {num} es: {factorial(num)}\")"
      ],
      "metadata": {
        "colab": {
          "base_uri": "https://localhost:8080/"
        },
        "id": "-nMExEUrkFvb",
        "outputId": "559584d7-ca53-42b5-dd03-15b2d906c975"
      },
      "execution_count": null,
      "outputs": [
        {
          "output_type": "stream",
          "name": "stdout",
          "text": [
            "El factorial de 8 es: 40320\n"
          ]
        }
      ],
      "id": "-nMExEUrkFvb"
    },
    {
      "cell_type": "markdown",
      "source": [
        "Pero cuidado, si no definimos bien nuestra recursión, puede ser infinita:"
      ],
      "metadata": {
        "id": "Qjx05-07luaw"
      },
      "id": "Qjx05-07luaw"
    },
    {
      "cell_type": "code",
      "source": [
        "def factorial(n):\n",
        "    if n==0 or n==1:\n",
        "        resultado = 1\n",
        "    else:\n",
        "        resultado = n * factorial(n) # Recursión infinita, ya que no es factorial(n-1)\n",
        "    return resultado\n",
        "\n",
        "num = 8\n",
        "print(f\"El factorial de {num} es: {factorial(num)}\")"
      ],
      "metadata": {
        "colab": {
          "base_uri": "https://localhost:8080/",
          "height": 362
        },
        "collapsed": true,
        "id": "9mJE4LtClzSt",
        "outputId": "f2fcc3ec-88a7-4bc9-8688-def7cba8f98d"
      },
      "execution_count": null,
      "outputs": [
        {
          "output_type": "error",
          "ename": "RecursionError",
          "evalue": "maximum recursion depth exceeded",
          "traceback": [
            "\u001b[0;31m---------------------------------------------------------------------------\u001b[0m",
            "\u001b[0;31mRecursionError\u001b[0m                            Traceback (most recent call last)",
            "\u001b[0;32m<ipython-input-29-c75282850685>\u001b[0m in \u001b[0;36m<cell line: 0>\u001b[0;34m()\u001b[0m\n\u001b[1;32m      7\u001b[0m \u001b[0;34m\u001b[0m\u001b[0m\n\u001b[1;32m      8\u001b[0m \u001b[0mnum\u001b[0m \u001b[0;34m=\u001b[0m \u001b[0;36m8\u001b[0m\u001b[0;34m\u001b[0m\u001b[0;34m\u001b[0m\u001b[0m\n\u001b[0;32m----> 9\u001b[0;31m \u001b[0mprint\u001b[0m\u001b[0;34m(\u001b[0m\u001b[0;34mf\"El factorial de {num} es: {factorial(num)}\"\u001b[0m\u001b[0;34m)\u001b[0m\u001b[0;34m\u001b[0m\u001b[0;34m\u001b[0m\u001b[0m\n\u001b[0m",
            "\u001b[0;32m<ipython-input-29-c75282850685>\u001b[0m in \u001b[0;36mfactorial\u001b[0;34m(n)\u001b[0m\n\u001b[1;32m      3\u001b[0m         \u001b[0mresultado\u001b[0m \u001b[0;34m=\u001b[0m \u001b[0;36m1\u001b[0m\u001b[0;34m\u001b[0m\u001b[0;34m\u001b[0m\u001b[0m\n\u001b[1;32m      4\u001b[0m     \u001b[0;32melse\u001b[0m\u001b[0;34m:\u001b[0m\u001b[0;34m\u001b[0m\u001b[0;34m\u001b[0m\u001b[0m\n\u001b[0;32m----> 5\u001b[0;31m         \u001b[0mresultado\u001b[0m \u001b[0;34m=\u001b[0m \u001b[0mn\u001b[0m \u001b[0;34m*\u001b[0m \u001b[0mfactorial\u001b[0m\u001b[0;34m(\u001b[0m\u001b[0mn\u001b[0m\u001b[0;34m)\u001b[0m \u001b[0;31m# Recursión infinita, ya que no es factorial(n-1)\u001b[0m\u001b[0;34m\u001b[0m\u001b[0;34m\u001b[0m\u001b[0m\n\u001b[0m\u001b[1;32m      6\u001b[0m     \u001b[0;32mreturn\u001b[0m \u001b[0mresultado\u001b[0m\u001b[0;34m\u001b[0m\u001b[0;34m\u001b[0m\u001b[0m\n\u001b[1;32m      7\u001b[0m \u001b[0;34m\u001b[0m\u001b[0m\n",
            "... last 1 frames repeated, from the frame below ...\n",
            "\u001b[0;32m<ipython-input-29-c75282850685>\u001b[0m in \u001b[0;36mfactorial\u001b[0;34m(n)\u001b[0m\n\u001b[1;32m      3\u001b[0m         \u001b[0mresultado\u001b[0m \u001b[0;34m=\u001b[0m \u001b[0;36m1\u001b[0m\u001b[0;34m\u001b[0m\u001b[0;34m\u001b[0m\u001b[0m\n\u001b[1;32m      4\u001b[0m     \u001b[0;32melse\u001b[0m\u001b[0;34m:\u001b[0m\u001b[0;34m\u001b[0m\u001b[0;34m\u001b[0m\u001b[0m\n\u001b[0;32m----> 5\u001b[0;31m         \u001b[0mresultado\u001b[0m \u001b[0;34m=\u001b[0m \u001b[0mn\u001b[0m \u001b[0;34m*\u001b[0m \u001b[0mfactorial\u001b[0m\u001b[0;34m(\u001b[0m\u001b[0mn\u001b[0m\u001b[0;34m)\u001b[0m \u001b[0;31m# Recursión infinita, ya que no es factorial(n-1)\u001b[0m\u001b[0;34m\u001b[0m\u001b[0;34m\u001b[0m\u001b[0m\n\u001b[0m\u001b[1;32m      6\u001b[0m     \u001b[0;32mreturn\u001b[0m \u001b[0mresultado\u001b[0m\u001b[0;34m\u001b[0m\u001b[0;34m\u001b[0m\u001b[0m\n\u001b[1;32m      7\u001b[0m \u001b[0;34m\u001b[0m\u001b[0m\n",
            "\u001b[0;31mRecursionError\u001b[0m: maximum recursion depth exceeded"
          ]
        }
      ],
      "id": "9mJE4LtClzSt"
    },
    {
      "cell_type": "markdown",
      "id": "7fe51fe6",
      "metadata": {
        "id": "7fe51fe6"
      },
      "source": [
        "\n",
        "## ✍️ Ejercicios de práctica (Recursión)\n",
        "\n",
        "1. Implementa una función recursiva que calcule la **suma de los primeros n números naturales**.  \n",
        "2. Crea una función recursiva que cuente **cuántos dígitos tiene un número entero positivo**.  \n",
        "3. Implementa una versión recursiva del cálculo de la **potencia** `a^b`.  \n",
        "\n",
        "👉 Completa las celdas de abajo:\n"
      ]
    },
    {
      "cell_type": "code",
      "execution_count": 11,
      "id": "567c0ae1",
      "metadata": {
        "id": "567c0ae1",
        "colab": {
          "base_uri": "https://localhost:8080/"
        },
        "outputId": "1bd4bece-9d66-46ba-dfeb-154932ba86e0"
      },
      "outputs": [
        {
          "output_type": "stream",
          "name": "stdout",
          "text": [
            "15\n",
            "4\n"
          ]
        }
      ],
      "source": [
        "\n",
        "# Ejercicio 1: Suma recursiva\n",
        "def suma_n(n):\n",
        "  if n == 0:\n",
        "    return 0\n",
        "  else:\n",
        "    return n + suma_n(n - 1)\n",
        "print(suma_n(5))\n",
        "    # TODO: implementar\n",
        "pass\n",
        "\n",
        "# Ejercicio 2: Contar dígitos recursivo\n",
        "def contar_digitos(n, c):\n",
        "  if n == 0:\n",
        "    return c\n",
        "  else:\n",
        "    return contar_digitos(n//10, c+1)\n",
        "print(contar_digitos(4096,0))\n",
        "\n",
        "\n",
        "\n",
        "\n",
        "\n",
        "    # TODO: implementar\n",
        "pass\n",
        "\n",
        "# Ejercicio 3: Potencia recursiva\n",
        "def potencia(a, b):\n",
        "    # TODO: implementar\n",
        "    pass\n"
      ]
    },
    {
      "cell_type": "markdown",
      "id": "3c11ffb4",
      "metadata": {
        "id": "3c11ffb4"
      },
      "source": [
        "\n",
        "### 💡 Tips y curiosidades sobre Recursión  \n",
        "\n",
        "- Cada llamada recursiva se **almacena en la pila de llamadas**.  \n",
        "- Python tiene un límite máximo de recursión (~1000 niveles).  \n",
        "- Algunos problemas son naturalmente recursivos: **árboles, grafos, fractales, algoritmos de ordenamiento**.  \n",
        "- ⚠️ Una recursión sin caso base correcto puede causar **`RecursionError`**.  \n"
      ]
    },
    {
      "cell_type": "markdown",
      "id": "c0bc1d60",
      "metadata": {
        "id": "c0bc1d60"
      },
      "source": [
        "\n",
        "# ⚡ Tema 2: Funciones Lambda  \n",
        "\n",
        "Las **funciones lambda** son funciones anónimas en Python, definidas con la palabra clave `lambda`.  \n",
        "Se usan principalmente cuando necesitamos **funciones pequeñas y rápidas**.  \n",
        "\n",
        "Una función lambda es una función pequeña sin nombre, que solo puede tener una expresión numérica.\n",
        "\n",
        "**Sintaxis básica:**  \n",
        "```python\n",
        "lambda argumentos: expresión\n",
        "```\n",
        "\n",
        "---\n"
      ]
    },
    {
      "cell_type": "code",
      "execution_count": null,
      "id": "b1315461",
      "metadata": {
        "colab": {
          "base_uri": "https://localhost:8080/"
        },
        "id": "b1315461",
        "outputId": "3c607a78-542f-4ed6-f09c-e28220a44dfd"
      },
      "outputs": [
        {
          "output_type": "stream",
          "name": "stdout",
          "text": [
            "8\n"
          ]
        }
      ],
      "source": [
        "\n",
        "# Ejemplo 1: Sumar dos números con lambda\n",
        "suma = lambda a, b: a + b\n",
        "print(suma(3, 5))  # 8\n"
      ]
    },
    {
      "cell_type": "code",
      "execution_count": null,
      "id": "79bf895b",
      "metadata": {
        "colab": {
          "base_uri": "https://localhost:8080/"
        },
        "id": "79bf895b",
        "outputId": "a1a0e77e-ec26-4993-dbcf-8b1bb2dff241"
      },
      "outputs": [
        {
          "output_type": "stream",
          "name": "stdout",
          "text": [
            "[(2, 1), (1, 3), (4, 5)]\n"
          ]
        }
      ],
      "source": [
        "\n",
        "# Ejemplo 2: Ordenar una lista de tuplas por el segundo elemento\n",
        "datos = [(1, 3), (2, 1), (4, 5)]\n",
        "ordenados = sorted(datos, key=lambda x: x[1])\n",
        "print(ordenados)  # [(2, 1), (1, 3), (4, 5)]\n"
      ]
    },
    {
      "cell_type": "code",
      "execution_count": null,
      "id": "e6e05d29",
      "metadata": {
        "colab": {
          "base_uri": "https://localhost:8080/"
        },
        "id": "e6e05d29",
        "outputId": "29ff5a70-f680-4213-8de2-aeeab03c6095"
      },
      "outputs": [
        {
          "output_type": "stream",
          "name": "stdout",
          "text": [
            "[1, 4, 9, 16, 25]\n",
            "[2, 4]\n",
            "120\n"
          ]
        }
      ],
      "source": [
        "\n",
        "# Ejemplo 3: Uso de lambda con map, filter y reduce\n",
        "from functools import reduce\n",
        "\n",
        "numeros = [1, 2, 3, 4, 5]\n",
        "\n",
        "# Map: elevar al cuadrado\n",
        "cuadrados = list(map(lambda x: x**2, numeros))\n",
        "\n",
        "# Filter: números pares\n",
        "pares = list(filter(lambda x: x % 2 == 0, numeros))\n",
        "\n",
        "# Reduce: producto de todos\n",
        "producto = reduce(lambda x, y: x * y, numeros)\n",
        "\n",
        "print(cuadrados)\n",
        "print(pares)\n",
        "print(producto)\n"
      ]
    },
    {
      "cell_type": "markdown",
      "source": [
        "El siguiente es un ejemplo para la potenciación $n+5$:"
      ],
      "metadata": {
        "id": "Izw8_KVdr2eL"
      },
      "id": "Izw8_KVdr2eL"
    },
    {
      "cell_type": "code",
      "source": [
        "# Definición función lambda\n",
        "suma = lambda n: n+5\n",
        "\n",
        "# Uso de la función lambda\n",
        "suma(n=20)"
      ],
      "metadata": {
        "colab": {
          "base_uri": "https://localhost:8080/"
        },
        "id": "9u7Q5aJrKE3X",
        "outputId": "e508cec0-4647-4394-9fa8-a8fcead82699"
      },
      "execution_count": null,
      "outputs": [
        {
          "output_type": "execute_result",
          "data": {
            "text/plain": [
              "25"
            ]
          },
          "metadata": {},
          "execution_count": 30
        }
      ],
      "id": "9u7Q5aJrKE3X"
    },
    {
      "cell_type": "markdown",
      "source": [
        "Pueden recibir más de un parámetro, por ejemplo, aquí para una potenciación $a^n$:"
      ],
      "metadata": {
        "id": "-OPScWe-cLK5"
      },
      "id": "-OPScWe-cLK5"
    },
    {
      "cell_type": "code",
      "source": [
        "# Definición función lambda\n",
        "potencia_a_n = lambda a, n: a**n\n",
        "\n",
        "# Uso de la función lambda\n",
        "potencia_a_n(a=2, n=4)"
      ],
      "metadata": {
        "colab": {
          "base_uri": "https://localhost:8080/"
        },
        "id": "SrCIPiEMcHSr",
        "outputId": "002dbce4-0b98-4d46-fe09-68fd0c4fdb37"
      },
      "execution_count": null,
      "outputs": [
        {
          "output_type": "execute_result",
          "data": {
            "text/plain": [
              "16"
            ]
          },
          "metadata": {},
          "execution_count": 31
        }
      ],
      "id": "SrCIPiEMcHSr"
    },
    {
      "cell_type": "markdown",
      "source": [
        "Así mismo, se pueden definir dentro de funciones, pero su uso es un poco diferente."
      ],
      "metadata": {
        "id": "4AagJeQCccNf"
      },
      "id": "4AagJeQCccNf"
    },
    {
      "cell_type": "code",
      "source": [
        "# Función definida\n",
        "def potencia(n):\n",
        "    return lambda a: a**n"
      ],
      "metadata": {
        "id": "WhB_uyGTcfgk"
      },
      "execution_count": null,
      "outputs": [],
      "id": "WhB_uyGTcfgk"
    },
    {
      "cell_type": "markdown",
      "source": [
        "Permite crear varios tipos de funciones, por ejemplo:"
      ],
      "metadata": {
        "id": "cOoFOg1sdAmt"
      },
      "id": "cOoFOg1sdAmt"
    },
    {
      "cell_type": "code",
      "source": [
        "# Cuadrada\n",
        "potencia_cuadrada = potencia(2)\n",
        "\n",
        "# Cúbica\n",
        "potencia_cubica= potencia(3)"
      ],
      "metadata": {
        "id": "Sycr0S8Hc_k1"
      },
      "execution_count": null,
      "outputs": [],
      "id": "Sycr0S8Hc_k1"
    },
    {
      "cell_type": "markdown",
      "source": [
        "Que luego pueden ser usadas individualmente:"
      ],
      "metadata": {
        "id": "KCZeSze-dmJU"
      },
      "id": "KCZeSze-dmJU"
    },
    {
      "cell_type": "code",
      "source": [
        "# Definir un número\n",
        "num = int(input(\"Ingresa un número: \"))\n",
        "\n",
        "# Cuadrada\n",
        "print(f\"-> La potencia cuadrada es {potencia_cuadrada(num)}\")\n",
        "\n",
        "# Cúbica\n",
        "print(f\"-> La potencia cúbica es {potencia_cubica(num)}\")"
      ],
      "metadata": {
        "colab": {
          "base_uri": "https://localhost:8080/"
        },
        "id": "9fjLSsE3dmJV",
        "outputId": "d1a0f96c-189e-4a68-9eff-ba3835976acf"
      },
      "execution_count": null,
      "outputs": [
        {
          "output_type": "stream",
          "name": "stdout",
          "text": [
            "Ingresa un número: 2\n",
            "-> La potencia cuadrada es 4\n",
            "-> La potencia cúbica es 8\n"
          ]
        }
      ],
      "id": "9fjLSsE3dmJV"
    },
    {
      "cell_type": "markdown",
      "id": "9d2d9dac",
      "metadata": {
        "id": "9d2d9dac"
      },
      "source": [
        "\n",
        "## ✍️ Ejercicios de práctica (Lambda)\n",
        "\n",
        "1. Escribe una lambda que convierta un número en su **cuadrado**.  \n",
        "2. Usa `filter` con lambda para obtener los **números mayores que 10** de una lista.  \n",
        "3. Usa `map` con lambda para convertir una lista de cadenas a **mayúsculas**.  \n",
        "4. Crea una lista de pares `(n, n^2)` usando `map` y lambda.  \n",
        "\n",
        "👉 Completa la celda siguiente:\n"
      ]
    },
    {
      "cell_type": "code",
      "execution_count": null,
      "id": "802c7a40",
      "metadata": {
        "id": "802c7a40"
      },
      "outputs": [],
      "source": [
        "\n",
        "# Ejercicio 1: cuadrado con lambda\n",
        "cuadrado = None  # TODO\n",
        "\n",
        "# Ejercicio 2: filtrar mayores que 10\n",
        "numeros = [5, 12, 7, 20, 3]\n",
        "mayores_10 = None  # TODO\n",
        "\n",
        "# Ejercicio 3: map a mayúsculas\n",
        "palabras = [\"python\", \"lambda\", \"recursion\"]\n",
        "mayusculas = None  # TODO\n",
        "\n",
        "# Ejercicio 4: pares (n, n^2)\n",
        "nums = [1, 2, 3, 4, 5]\n",
        "pares = None  # TODO\n"
      ]
    },
    {
      "cell_type": "markdown",
      "id": "b66503b5",
      "metadata": {
        "id": "b66503b5"
      },
      "source": [
        "\n",
        "### 💡 Tips y curiosidades sobre Lambdas  \n",
        "\n",
        "- Se usan mucho en **procesamiento de datos** y **programación funcional**.  \n",
        "- Son ideales para funciones cortas que no se volverán a reutilizar.  \n",
        "- Se pueden combinar con `map`, `filter`, `reduce`, y estructuras como listas o diccionarios.  \n",
        "- 📌 **Dato curioso:** En matemáticas, la notación lambda se usa en **cálculo lambda**, base de la programación funcional.  \n"
      ]
    },
    {
      "cell_type": "markdown",
      "source": [
        "## Ejercicios"
      ],
      "metadata": {
        "id": "IvAlR9oo2fXN"
      },
      "id": "IvAlR9oo2fXN"
    },
    {
      "cell_type": "markdown",
      "source": [
        "#### a) Crea una función recursiva para la suma de los  $n$ primeros números naturales:\n",
        "\n",
        "$$\\sum_{i=1}^{n} i = \\begin{cases} 1 & \\text{si } n = 1 \\\\ n + \\sum_{i=1}^{n-1} i & \\text{si } n > 1 \\end{cases}$$"
      ],
      "metadata": {
        "id": "5DrsRZSaiVL3"
      },
      "id": "5DrsRZSaiVL3"
    },
    {
      "cell_type": "code",
      "execution_count": null,
      "metadata": {
        "id": "43FgKQwoiVL9"
      },
      "outputs": [],
      "source": [
        "\"\"\"\n",
        "Aquí debajo escribe tu solución\n",
        "\"\"\"\n",
        "\n"
      ],
      "id": "43FgKQwoiVL9"
    },
    {
      "cell_type": "markdown",
      "source": [
        "#### b) Implementa la Función de Ackermann definida de la siguiente forma:\n",
        "\n",
        "$$A(m, n) = \\begin{cases} n + 1 & \\text{si } m = 0 \\\\ A(m - 1, 1) & \\text{si } m > 0 \\text{ y } n = 0 \\\\ A(m - 1, A(m, n - 1)) & \\text{si } m > 0 \\text{ y } n > 0 \\end{cases}$$"
      ],
      "metadata": {
        "id": "Ke0uyZaWiU_2"
      },
      "id": "Ke0uyZaWiU_2"
    },
    {
      "cell_type": "code",
      "execution_count": null,
      "metadata": {
        "id": "WjKeEEG8iU_5"
      },
      "outputs": [],
      "source": [
        "\"\"\"\n",
        "Aquí debajo escribe tu solución\n",
        "\"\"\"\n",
        "\n",
        "\n",
        "\n"
      ],
      "id": "WjKeEEG8iU_5"
    }
  ],
  "metadata": {
    "colab": {
      "provenance": [],
      "include_colab_link": true
    },
    "language_info": {
      "name": "python"
    },
    "kernelspec": {
      "name": "python3",
      "display_name": "Python 3"
    }
  },
  "nbformat": 4,
  "nbformat_minor": 5
}